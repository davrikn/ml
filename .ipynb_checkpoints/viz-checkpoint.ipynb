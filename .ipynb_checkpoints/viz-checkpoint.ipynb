{
 "cells": [
  {
   "cell_type": "code",
   "execution_count": 1,
   "metadata": {},
   "outputs": [],
   "source": [
    "%load_ext autoreload\n",
    "%autoreload 2\n"
   ]
  },
  {
   "cell_type": "code",
   "execution_count": null,
   "metadata": {},
   "outputs": [],
   "source": [
    "!pip show pandas"
   ]
  },
  {
   "cell_type": "code",
   "execution_count": 2,
   "metadata": {
    "jupyter": {
     "outputs_hidden": false
    },
    "pycharm": {
     "name": "#%%\n"
    }
   },
   "outputs": [],
   "source": [
    "import os\n",
    "import pandas as pd\n",
    "import numpy as np\n",
    "from sklearn.decomposition import PCA\n",
    "import matplotlib.pyplot as plt\n",
    "from sklearn.preprocessing import StandardScaler\n",
    "from autots import AutoTS\n",
    "from build_pandas import build_pandas\n"
   ]
  },
  {
   "cell_type": "code",
   "execution_count": 3,
   "metadata": {},
   "outputs": [],
   "source": [
    "location = \"C\"\n",
    "version = \"1\"\n",
    "start_fresh = True"
   ]
  },
  {
   "cell_type": "code",
   "execution_count": 4,
   "metadata": {
    "jupyter": {
     "outputs_hidden": false
    },
    "pycharm": {
     "name": "#%%\n"
    }
   },
   "outputs": [],
   "source": [
    "x_train, train_targets, x_test = build_pandas(location)"
   ]
  },
  {
   "cell_type": "code",
   "execution_count": 5,
   "metadata": {},
   "outputs": [
    {
     "name": "stdout",
     "output_type": "stream",
     "text": [
      "1510110\n"
     ]
    },
    {
     "data": {
      "text/html": [
       "<div>\n",
       "<style scoped>\n",
       "    .dataframe tbody tr th:only-of-type {\n",
       "        vertical-align: middle;\n",
       "    }\n",
       "\n",
       "    .dataframe tbody tr th {\n",
       "        vertical-align: top;\n",
       "    }\n",
       "\n",
       "    .dataframe thead th {\n",
       "        text-align: right;\n",
       "    }\n",
       "</style>\n",
       "<table border=\"1\" class=\"dataframe\">\n",
       "  <thead>\n",
       "    <tr style=\"text-align: right;\">\n",
       "      <th></th>\n",
       "      <th>date_forecast</th>\n",
       "      <th>absolute_humidity_2m:gm3</th>\n",
       "      <th>air_density_2m:kgm3</th>\n",
       "      <th>ceiling_height_agl:m</th>\n",
       "      <th>clear_sky_energy_1h:J</th>\n",
       "      <th>clear_sky_rad:W</th>\n",
       "      <th>cloud_base_agl:m</th>\n",
       "      <th>dew_or_rime:idx</th>\n",
       "      <th>dew_point_2m:K</th>\n",
       "      <th>diffuse_rad:W</th>\n",
       "      <th>...</th>\n",
       "      <th>sun_elevation:d</th>\n",
       "      <th>super_cooled_liquid_water:kgm2</th>\n",
       "      <th>t_1000hPa:K</th>\n",
       "      <th>total_cloud_cover:p</th>\n",
       "      <th>visibility:m</th>\n",
       "      <th>wind_speed_10m:ms</th>\n",
       "      <th>wind_speed_u_10m:ms</th>\n",
       "      <th>wind_speed_v_10m:ms</th>\n",
       "      <th>wind_speed_w_1000hPa:ms</th>\n",
       "      <th>pv_measurement</th>\n",
       "    </tr>\n",
       "  </thead>\n",
       "  <tbody>\n",
       "    <tr>\n",
       "      <th>2930</th>\n",
       "      <td>2019-01-01 00:00:00</td>\n",
       "      <td>5.6</td>\n",
       "      <td>1.240</td>\n",
       "      <td>1153.599976</td>\n",
       "      <td>0.0</td>\n",
       "      <td>0.0</td>\n",
       "      <td>1153.599976</td>\n",
       "      <td>1.0</td>\n",
       "      <td>275.200012</td>\n",
       "      <td>0.0</td>\n",
       "      <td>...</td>\n",
       "      <td>-49.178001</td>\n",
       "      <td>0.0</td>\n",
       "      <td>278.500000</td>\n",
       "      <td>68.500000</td>\n",
       "      <td>18220.400391</td>\n",
       "      <td>2.5</td>\n",
       "      <td>1.1</td>\n",
       "      <td>2.2</td>\n",
       "      <td>-0.0</td>\n",
       "      <td>0.0</td>\n",
       "    </tr>\n",
       "    <tr>\n",
       "      <th>2931</th>\n",
       "      <td>2019-01-01 01:00:00</td>\n",
       "      <td>5.3</td>\n",
       "      <td>1.241</td>\n",
       "      <td>1090.599976</td>\n",
       "      <td>0.0</td>\n",
       "      <td>0.0</td>\n",
       "      <td>1090.599976</td>\n",
       "      <td>1.0</td>\n",
       "      <td>274.500000</td>\n",
       "      <td>0.0</td>\n",
       "      <td>...</td>\n",
       "      <td>-46.529999</td>\n",
       "      <td>0.0</td>\n",
       "      <td>278.100006</td>\n",
       "      <td>99.400002</td>\n",
       "      <td>13637.299805</td>\n",
       "      <td>3.5</td>\n",
       "      <td>1.2</td>\n",
       "      <td>3.3</td>\n",
       "      <td>-0.0</td>\n",
       "      <td>0.0</td>\n",
       "    </tr>\n",
       "    <tr>\n",
       "      <th>2932</th>\n",
       "      <td>2019-01-01 02:00:00</td>\n",
       "      <td>5.4</td>\n",
       "      <td>1.238</td>\n",
       "      <td>1026.599976</td>\n",
       "      <td>0.0</td>\n",
       "      <td>0.0</td>\n",
       "      <td>1026.599976</td>\n",
       "      <td>0.0</td>\n",
       "      <td>274.899994</td>\n",
       "      <td>0.0</td>\n",
       "      <td>...</td>\n",
       "      <td>-41.987999</td>\n",
       "      <td>0.0</td>\n",
       "      <td>278.299988</td>\n",
       "      <td>98.400002</td>\n",
       "      <td>12678.799805</td>\n",
       "      <td>3.9</td>\n",
       "      <td>1.8</td>\n",
       "      <td>3.4</td>\n",
       "      <td>-0.0</td>\n",
       "      <td>0.0</td>\n",
       "    </tr>\n",
       "    <tr>\n",
       "      <th>2933</th>\n",
       "      <td>2019-01-01 03:00:00</td>\n",
       "      <td>5.2</td>\n",
       "      <td>1.240</td>\n",
       "      <td>961.700012</td>\n",
       "      <td>0.0</td>\n",
       "      <td>0.0</td>\n",
       "      <td>961.700012</td>\n",
       "      <td>0.0</td>\n",
       "      <td>274.200012</td>\n",
       "      <td>0.0</td>\n",
       "      <td>...</td>\n",
       "      <td>-36.182999</td>\n",
       "      <td>0.2</td>\n",
       "      <td>277.899994</td>\n",
       "      <td>97.199997</td>\n",
       "      <td>8751.599609</td>\n",
       "      <td>4.1</td>\n",
       "      <td>2.0</td>\n",
       "      <td>3.5</td>\n",
       "      <td>-0.0</td>\n",
       "      <td>0.0</td>\n",
       "    </tr>\n",
       "    <tr>\n",
       "      <th>2934</th>\n",
       "      <td>2019-01-01 04:00:00</td>\n",
       "      <td>5.4</td>\n",
       "      <td>1.239</td>\n",
       "      <td>954.900024</td>\n",
       "      <td>0.0</td>\n",
       "      <td>0.0</td>\n",
       "      <td>954.900024</td>\n",
       "      <td>0.0</td>\n",
       "      <td>274.899994</td>\n",
       "      <td>0.0</td>\n",
       "      <td>...</td>\n",
       "      <td>-29.688000</td>\n",
       "      <td>0.2</td>\n",
       "      <td>277.200012</td>\n",
       "      <td>96.900002</td>\n",
       "      <td>4267.799805</td>\n",
       "      <td>5.5</td>\n",
       "      <td>4.5</td>\n",
       "      <td>3.0</td>\n",
       "      <td>-0.0</td>\n",
       "      <td>0.0</td>\n",
       "    </tr>\n",
       "  </tbody>\n",
       "</table>\n",
       "<p>5 rows × 47 columns</p>\n",
       "</div>"
      ],
      "text/plain": [
       "           date_forecast  absolute_humidity_2m:gm3  air_density_2m:kgm3  \\\n",
       "2930 2019-01-01 00:00:00                       5.6                1.240   \n",
       "2931 2019-01-01 01:00:00                       5.3                1.241   \n",
       "2932 2019-01-01 02:00:00                       5.4                1.238   \n",
       "2933 2019-01-01 03:00:00                       5.2                1.240   \n",
       "2934 2019-01-01 04:00:00                       5.4                1.239   \n",
       "\n",
       "      ceiling_height_agl:m  clear_sky_energy_1h:J  clear_sky_rad:W  \\\n",
       "2930           1153.599976                    0.0              0.0   \n",
       "2931           1090.599976                    0.0              0.0   \n",
       "2932           1026.599976                    0.0              0.0   \n",
       "2933            961.700012                    0.0              0.0   \n",
       "2934            954.900024                    0.0              0.0   \n",
       "\n",
       "      cloud_base_agl:m  dew_or_rime:idx  dew_point_2m:K  diffuse_rad:W  ...  \\\n",
       "2930       1153.599976              1.0      275.200012            0.0  ...   \n",
       "2931       1090.599976              1.0      274.500000            0.0  ...   \n",
       "2932       1026.599976              0.0      274.899994            0.0  ...   \n",
       "2933        961.700012              0.0      274.200012            0.0  ...   \n",
       "2934        954.900024              0.0      274.899994            0.0  ...   \n",
       "\n",
       "      sun_elevation:d  super_cooled_liquid_water:kgm2  t_1000hPa:K  \\\n",
       "2930       -49.178001                             0.0   278.500000   \n",
       "2931       -46.529999                             0.0   278.100006   \n",
       "2932       -41.987999                             0.0   278.299988   \n",
       "2933       -36.182999                             0.2   277.899994   \n",
       "2934       -29.688000                             0.2   277.200012   \n",
       "\n",
       "      total_cloud_cover:p  visibility:m  wind_speed_10m:ms  \\\n",
       "2930            68.500000  18220.400391                2.5   \n",
       "2931            99.400002  13637.299805                3.5   \n",
       "2932            98.400002  12678.799805                3.9   \n",
       "2933            97.199997   8751.599609                4.1   \n",
       "2934            96.900002   4267.799805                5.5   \n",
       "\n",
       "      wind_speed_u_10m:ms  wind_speed_v_10m:ms  wind_speed_w_1000hPa:ms  \\\n",
       "2930                  1.1                  2.2                     -0.0   \n",
       "2931                  1.2                  3.3                     -0.0   \n",
       "2932                  1.8                  3.4                     -0.0   \n",
       "2933                  2.0                  3.5                     -0.0   \n",
       "2934                  4.5                  3.0                     -0.0   \n",
       "\n",
       "      pv_measurement  \n",
       "2930             0.0  \n",
       "2931             0.0  \n",
       "2932             0.0  \n",
       "2933             0.0  \n",
       "2934             0.0  \n",
       "\n",
       "[5 rows x 47 columns]"
      ]
     },
     "execution_count": 5,
     "metadata": {},
     "output_type": "execute_result"
    },
    {
     "data": {
      "image/png": "[encoded data removed]",
      "text/plain": [
       "<Figure size 480x480 with 1 Axes>"
      ]
     },
     "metadata": {},
     "output_type": "display_data"
    }
   ],
   "source": [
    "print(x_train.size)\n",
    "plt.matshow(x_train.corr())\n",
    "x_train.head()"
   ]
  },
  {
   "cell_type": "code",
   "execution_count": 6,
   "metadata": {},
   "outputs": [
    {
     "data": {
      "image/png": "[encoded data removed]",
      "text/plain": [
       "<Figure size 640x480 with 1 Axes>"
      ]
     },
     "metadata": {},
     "output_type": "display_data"
    }
   ],
   "source": [
    "plt.scatter(x_train['date_forecast'], x_train['pv_measurement'])\n",
    "plt.show()"
   ]
  },
  {
   "cell_type": "code",
   "execution_count": 7,
   "metadata": {},
   "outputs": [
    {
     "data": {
      "text/html": [
       "<div>\n",
       "<style scoped>\n",
       "    .dataframe tbody tr th:only-of-type {\n",
       "        vertical-align: middle;\n",
       "    }\n",
       "\n",
       "    .dataframe tbody tr th {\n",
       "        vertical-align: top;\n",
       "    }\n",
       "\n",
       "    .dataframe thead th {\n",
       "        text-align: right;\n",
       "    }\n",
       "</style>\n",
       "<table border=\"1\" class=\"dataframe\">\n",
       "  <thead>\n",
       "    <tr style=\"text-align: right;\">\n",
       "      <th></th>\n",
       "      <th>date_forecast</th>\n",
       "      <th>absolute_humidity_2m:gm3</th>\n",
       "      <th>air_density_2m:kgm3</th>\n",
       "      <th>ceiling_height_agl:m</th>\n",
       "      <th>clear_sky_energy_1h:J</th>\n",
       "      <th>clear_sky_rad:W</th>\n",
       "      <th>cloud_base_agl:m</th>\n",
       "      <th>dew_or_rime:idx</th>\n",
       "      <th>dew_point_2m:K</th>\n",
       "      <th>diffuse_rad:W</th>\n",
       "      <th>...</th>\n",
       "      <th>sun_elevation:d</th>\n",
       "      <th>super_cooled_liquid_water:kgm2</th>\n",
       "      <th>t_1000hPa:K</th>\n",
       "      <th>total_cloud_cover:p</th>\n",
       "      <th>visibility:m</th>\n",
       "      <th>wind_speed_10m:ms</th>\n",
       "      <th>wind_speed_u_10m:ms</th>\n",
       "      <th>wind_speed_v_10m:ms</th>\n",
       "      <th>wind_speed_w_1000hPa:ms</th>\n",
       "      <th>pv_measurement</th>\n",
       "    </tr>\n",
       "  </thead>\n",
       "  <tbody>\n",
       "    <tr>\n",
       "      <th>count</th>\n",
       "      <td>32130</td>\n",
       "      <td>32130.000000</td>\n",
       "      <td>32130.000000</td>\n",
       "      <td>32130.000000</td>\n",
       "      <td>3.213000e+04</td>\n",
       "      <td>32130.000000</td>\n",
       "      <td>32130.000000</td>\n",
       "      <td>32130.000000</td>\n",
       "      <td>32130.000000</td>\n",
       "      <td>32130.000000</td>\n",
       "      <td>...</td>\n",
       "      <td>32130.000000</td>\n",
       "      <td>32130.000000</td>\n",
       "      <td>32130.000000</td>\n",
       "      <td>32130.000000</td>\n",
       "      <td>32130.000000</td>\n",
       "      <td>32130.000000</td>\n",
       "      <td>32130.000000</td>\n",
       "      <td>32130.000000</td>\n",
       "      <td>32130.000000</td>\n",
       "      <td>32130.000000</td>\n",
       "    </tr>\n",
       "    <tr>\n",
       "      <th>mean</th>\n",
       "      <td>2020-11-20 04:16:18.039215</td>\n",
       "      <td>5.871992</td>\n",
       "      <td>1.255162</td>\n",
       "      <td>2051.333496</td>\n",
       "      <td>5.208732e+05</td>\n",
       "      <td>144.688828</td>\n",
       "      <td>1521.208252</td>\n",
       "      <td>-0.015966</td>\n",
       "      <td>274.809662</td>\n",
       "      <td>39.822296</td>\n",
       "      <td>...</td>\n",
       "      <td>-1.000573</td>\n",
       "      <td>0.060227</td>\n",
       "      <td>279.384521</td>\n",
       "      <td>72.957550</td>\n",
       "      <td>33355.550781</td>\n",
       "      <td>2.860171</td>\n",
       "      <td>0.678210</td>\n",
       "      <td>0.863144</td>\n",
       "      <td>0.000093</td>\n",
       "      <td>63.047551</td>\n",
       "    </tr>\n",
       "    <tr>\n",
       "      <th>min</th>\n",
       "      <td>2019-01-01 00:00:00</td>\n",
       "      <td>0.500000</td>\n",
       "      <td>1.139000</td>\n",
       "      <td>0.000000</td>\n",
       "      <td>0.000000e+00</td>\n",
       "      <td>0.000000</td>\n",
       "      <td>0.000000</td>\n",
       "      <td>-1.000000</td>\n",
       "      <td>247.300003</td>\n",
       "      <td>0.000000</td>\n",
       "      <td>...</td>\n",
       "      <td>-49.979000</td>\n",
       "      <td>0.000000</td>\n",
       "      <td>257.899994</td>\n",
       "      <td>0.000000</td>\n",
       "      <td>130.600006</td>\n",
       "      <td>0.000000</td>\n",
       "      <td>-6.400000</td>\n",
       "      <td>-8.800000</td>\n",
       "      <td>-0.100000</td>\n",
       "      <td>-0.000000</td>\n",
       "    </tr>\n",
       "    <tr>\n",
       "      <th>25%</th>\n",
       "      <td>2019-12-01 18:15:00</td>\n",
       "      <td>3.900000</td>\n",
       "      <td>1.230000</td>\n",
       "      <td>373.299988</td>\n",
       "      <td>0.000000e+00</td>\n",
       "      <td>0.000000</td>\n",
       "      <td>433.324989</td>\n",
       "      <td>0.000000</td>\n",
       "      <td>270.399994</td>\n",
       "      <td>0.000000</td>\n",
       "      <td>...</td>\n",
       "      <td>-18.159500</td>\n",
       "      <td>0.000000</td>\n",
       "      <td>274.899994</td>\n",
       "      <td>50.200001</td>\n",
       "      <td>16043.625000</td>\n",
       "      <td>1.600000</td>\n",
       "      <td>-1.000000</td>\n",
       "      <td>-0.400000</td>\n",
       "      <td>0.000000</td>\n",
       "      <td>0.000000</td>\n",
       "    </tr>\n",
       "    <tr>\n",
       "      <th>50%</th>\n",
       "      <td>2020-10-31 12:30:00</td>\n",
       "      <td>5.300000</td>\n",
       "      <td>1.255000</td>\n",
       "      <td>1249.850037</td>\n",
       "      <td>6.877300e+03</td>\n",
       "      <td>0.000000</td>\n",
       "      <td>1011.649994</td>\n",
       "      <td>0.000000</td>\n",
       "      <td>274.500000</td>\n",
       "      <td>0.000000</td>\n",
       "      <td>...</td>\n",
       "      <td>-0.849500</td>\n",
       "      <td>0.000000</td>\n",
       "      <td>278.500000</td>\n",
       "      <td>94.800003</td>\n",
       "      <td>38043.750000</td>\n",
       "      <td>2.500000</td>\n",
       "      <td>0.300000</td>\n",
       "      <td>1.000000</td>\n",
       "      <td>0.000000</td>\n",
       "      <td>0.000000</td>\n",
       "    </tr>\n",
       "    <tr>\n",
       "      <th>75%</th>\n",
       "      <td>2021-10-01 04:45:00</td>\n",
       "      <td>7.600000</td>\n",
       "      <td>1.279000</td>\n",
       "      <td>2668.300049</td>\n",
       "      <td>7.953364e+05</td>\n",
       "      <td>224.899994</td>\n",
       "      <td>1863.549957</td>\n",
       "      <td>0.000000</td>\n",
       "      <td>280.200012</td>\n",
       "      <td>66.900002</td>\n",
       "      <td>...</td>\n",
       "      <td>15.737000</td>\n",
       "      <td>0.100000</td>\n",
       "      <td>283.799988</td>\n",
       "      <td>100.000000</td>\n",
       "      <td>48901.725586</td>\n",
       "      <td>3.800000</td>\n",
       "      <td>2.200000</td>\n",
       "      <td>2.100000</td>\n",
       "      <td>0.000000</td>\n",
       "      <td>29.400000</td>\n",
       "    </tr>\n",
       "    <tr>\n",
       "      <th>max</th>\n",
       "      <td>2023-04-30 23:00:00</td>\n",
       "      <td>18.900000</td>\n",
       "      <td>1.441000</td>\n",
       "      <td>12431.299805</td>\n",
       "      <td>3.006697e+06</td>\n",
       "      <td>835.299988</td>\n",
       "      <td>11665.700195</td>\n",
       "      <td>1.000000</td>\n",
       "      <td>295.100006</td>\n",
       "      <td>340.100006</td>\n",
       "      <td>...</td>\n",
       "      <td>49.917999</td>\n",
       "      <td>1.400000</td>\n",
       "      <td>303.200012</td>\n",
       "      <td>100.000000</td>\n",
       "      <td>76737.796875</td>\n",
       "      <td>14.300000</td>\n",
       "      <td>11.300000</td>\n",
       "      <td>9.000000</td>\n",
       "      <td>0.100000</td>\n",
       "      <td>999.600000</td>\n",
       "    </tr>\n",
       "    <tr>\n",
       "      <th>std</th>\n",
       "      <td>NaN</td>\n",
       "      <td>2.737951</td>\n",
       "      <td>0.038115</td>\n",
       "      <td>2402.246338</td>\n",
       "      <td>8.237111e+05</td>\n",
       "      <td>229.398972</td>\n",
       "      <td>1745.513916</td>\n",
       "      <td>0.373697</td>\n",
       "      <td>7.023757</td>\n",
       "      <td>60.733841</td>\n",
       "      <td>...</td>\n",
       "      <td>23.983866</td>\n",
       "      <td>0.116016</td>\n",
       "      <td>6.543846</td>\n",
       "      <td>35.695637</td>\n",
       "      <td>18436.144531</td>\n",
       "      <td>1.648711</td>\n",
       "      <td>2.442375</td>\n",
       "      <td>1.931529</td>\n",
       "      <td>0.011913</td>\n",
       "      <td>152.480302</td>\n",
       "    </tr>\n",
       "    <tr>\n",
       "      <th>NaN</th>\n",
       "      <td>0</td>\n",
       "      <td>0.000000</td>\n",
       "      <td>0.000000</td>\n",
       "      <td>0.000000</td>\n",
       "      <td>0.000000e+00</td>\n",
       "      <td>0.000000</td>\n",
       "      <td>0.000000</td>\n",
       "      <td>0.000000</td>\n",
       "      <td>0.000000</td>\n",
       "      <td>0.000000</td>\n",
       "      <td>...</td>\n",
       "      <td>0.000000</td>\n",
       "      <td>0.000000</td>\n",
       "      <td>0.000000</td>\n",
       "      <td>0.000000</td>\n",
       "      <td>0.000000</td>\n",
       "      <td>0.000000</td>\n",
       "      <td>0.000000</td>\n",
       "      <td>0.000000</td>\n",
       "      <td>0.000000</td>\n",
       "      <td>0.000000</td>\n",
       "    </tr>\n",
       "  </tbody>\n",
       "</table>\n",
       "<p>9 rows × 47 columns</p>\n",
       "</div>"
      ],
      "text/plain": [
       "                    date_forecast  absolute_humidity_2m:gm3  \\\n",
       "count                       32130              32130.000000   \n",
       "mean   2020-11-20 04:16:18.039215                  5.871992   \n",
       "min           2019-01-01 00:00:00                  0.500000   \n",
       "25%           2019-12-01 18:15:00                  3.900000   \n",
       "50%           2020-10-31 12:30:00                  5.300000   \n",
       "75%           2021-10-01 04:45:00                  7.600000   \n",
       "max           2023-04-30 23:00:00                 18.900000   \n",
       "std                           NaN                  2.737951   \n",
       "NaN                             0                  0.000000   \n",
       "\n",
       "       air_density_2m:kgm3  ceiling_height_agl:m  clear_sky_energy_1h:J  \\\n",
       "count         32130.000000          32130.000000           3.213000e+04   \n",
       "mean              1.255162           2051.333496           5.208732e+05   \n",
       "min               1.139000              0.000000           0.000000e+00   \n",
       "25%               1.230000            373.299988           0.000000e+00   \n",
       "50%               1.255000           1249.850037           6.877300e+03   \n",
       "75%               1.279000           2668.300049           7.953364e+05   \n",
       "max               1.441000          12431.299805           3.006697e+06   \n",
       "std               0.038115           2402.246338           8.237111e+05   \n",
       "NaN               0.000000              0.000000           0.000000e+00   \n",
       "\n",
       "       clear_sky_rad:W  cloud_base_agl:m  dew_or_rime:idx  dew_point_2m:K  \\\n",
       "count     32130.000000      32130.000000     32130.000000    32130.000000   \n",
       "mean        144.688828       1521.208252        -0.015966      274.809662   \n",
       "min           0.000000          0.000000        -1.000000      247.300003   \n",
       "25%           0.000000        433.324989         0.000000      270.399994   \n",
       "50%           0.000000       1011.649994         0.000000      274.500000   \n",
       "75%         224.899994       1863.549957         0.000000      280.200012   \n",
       "max         835.299988      11665.700195         1.000000      295.100006   \n",
       "std         229.398972       1745.513916         0.373697        7.023757   \n",
       "NaN           0.000000          0.000000         0.000000        0.000000   \n",
       "\n",
       "       diffuse_rad:W  ...  sun_elevation:d  super_cooled_liquid_water:kgm2  \\\n",
       "count   32130.000000  ...     32130.000000                    32130.000000   \n",
       "mean       39.822296  ...        -1.000573                        0.060227   \n",
       "min         0.000000  ...       -49.979000                        0.000000   \n",
       "25%         0.000000  ...       -18.159500                        0.000000   \n",
       "50%         0.000000  ...        -0.849500                        0.000000   \n",
       "75%        66.900002  ...        15.737000                        0.100000   \n",
       "max       340.100006  ...        49.917999                        1.400000   \n",
       "std        60.733841  ...        23.983866                        0.116016   \n",
       "NaN         0.000000  ...         0.000000                        0.000000   \n",
       "\n",
       "        t_1000hPa:K  total_cloud_cover:p  visibility:m  wind_speed_10m:ms  \\\n",
       "count  32130.000000         32130.000000  32130.000000       32130.000000   \n",
       "mean     279.384521            72.957550  33355.550781           2.860171   \n",
       "min      257.899994             0.000000    130.600006           0.000000   \n",
       "25%      274.899994            50.200001  16043.625000           1.600000   \n",
       "50%      278.500000            94.800003  38043.750000           2.500000   \n",
       "75%      283.799988           100.000000  48901.725586           3.800000   \n",
       "max      303.200012           100.000000  76737.796875          14.300000   \n",
       "std        6.543846            35.695637  18436.144531           1.648711   \n",
       "NaN        0.000000             0.000000      0.000000           0.000000   \n",
       "\n",
       "       wind_speed_u_10m:ms  wind_speed_v_10m:ms  wind_speed_w_1000hPa:ms  \\\n",
       "count         32130.000000         32130.000000             32130.000000   \n",
       "mean              0.678210             0.863144                 0.000093   \n",
       "min              -6.400000            -8.800000                -0.100000   \n",
       "25%              -1.000000            -0.400000                 0.000000   \n",
       "50%               0.300000             1.000000                 0.000000   \n",
       "75%               2.200000             2.100000                 0.000000   \n",
       "max              11.300000             9.000000                 0.100000   \n",
       "std               2.442375             1.931529                 0.011913   \n",
       "NaN               0.000000             0.000000                 0.000000   \n",
       "\n",
       "       pv_measurement  \n",
       "count    32130.000000  \n",
       "mean        63.047551  \n",
       "min         -0.000000  \n",
       "25%          0.000000  \n",
       "50%          0.000000  \n",
       "75%         29.400000  \n",
       "max        999.600000  \n",
       "std        152.480302  \n",
       "NaN          0.000000  \n",
       "\n",
       "[9 rows x 47 columns]"
      ]
     },
     "execution_count": 7,
     "metadata": {},
     "output_type": "execute_result"
    }
   ],
   "source": [
    "stats = x_train.describe()\n",
    "stats.loc['NaN'] = x_train.isna().sum()\n",
    "stats"
   ]
  },
  {
   "cell_type": "code",
   "execution_count": 8,
   "metadata": {},
   "outputs": [
    {
     "name": "stdout",
     "output_type": "stream",
     "text": [
      "[[-1.82216659e-01  1.95759895e-01 -3.99924314e-02 ...  1.33415415e-01\n",
      "  -1.48635846e-02 -2.32007131e-01]\n",
      " [ 1.52980211e-01 -2.52082917e-01  1.99991440e-02 ... -8.16024279e-04\n",
      "  -2.34897668e-02 -1.50004213e-02]\n",
      " [-2.16121195e-01  3.66100488e-02  7.44958519e-02 ...  5.49678353e-02\n",
      "  -5.26355874e-02  1.00144958e-01]\n",
      " ...\n",
      " [ 8.54733366e-04  1.87952945e-02 -4.96481416e-05 ... -8.52910948e-06\n",
      "  -1.55597143e-05  2.48111497e-05]\n",
      " [ 1.40185232e-04  2.11598875e-03  2.06604404e-05 ... -2.54455765e-06\n",
      "  -9.43331265e-06  8.20943825e-06]\n",
      " [ 0.00000000e+00  1.64690310e-16 -4.78445324e-17 ... -4.85722573e-17\n",
      "  -2.77555756e-17  1.38777878e-16]]\n"
     ]
    },
    {
     "data": {
      "image/png": "[encoded data removed]",
      "text/plain": [
       "<Figure size 1000x600 with 1 Axes>"
      ]
     },
     "metadata": {},
     "output_type": "display_data"
    }
   ],
   "source": [
    "scaler = StandardScaler()\n",
    "date_forecast = x_train['date_forecast']\n",
    "x_train.drop(columns=['date_forecast'], inplace=True)\n",
    "x_train_standardized = scaler.fit_transform(x_train)\n",
    "comps = 15\n",
    "pca = PCA()\n",
    "pca.fit_transform(x_train_standardized)\n",
    "explained_variance_ratio = pca.explained_variance_ratio_\n",
    "principal_components = pca.components_\n",
    "print(principal_components)\n",
    "# Create a bar plot for explained variance ratios\n",
    "plt.figure(figsize=(10, 6))\n",
    "plt.bar(range(1, len(explained_variance_ratio) + 1), explained_variance_ratio, alpha=0.7, align='center')\n",
    "\n",
    "# Set custom labels for the x-axis based on PCA component order\n",
    "num_components = len(explained_variance_ratio)\n",
    "variable_names = [f'Component {i+1}' for i in range(num_components)]\n",
    "\n",
    "plt.xticks(range(1, num_components + 1), variable_names, rotation=90)  # Use rotation for better readability\n",
    "\n",
    "plt.xlabel('Component Names')\n",
    "plt.ylabel('Explained Variance Ratio')\n",
    "plt.title('Explained Variance Ratio for Each Component')\n",
    "plt.grid(True)\n",
    "plt.tight_layout()\n",
    "plt.show()"
   ]
  },
  {
   "cell_type": "code",
   "execution_count": 9,
   "metadata": {
    "jupyter": {
     "outputs_hidden": false
    },
    "pycharm": {
     "name": "#%%\n"
    }
   },
   "outputs": [
    {
     "data": {
      "text/html": [
       "<div>\n",
       "<style scoped>\n",
       "    .dataframe tbody tr th:only-of-type {\n",
       "        vertical-align: middle;\n",
       "    }\n",
       "\n",
       "    .dataframe tbody tr th {\n",
       "        vertical-align: top;\n",
       "    }\n",
       "\n",
       "    .dataframe thead th {\n",
       "        text-align: right;\n",
       "    }\n",
       "</style>\n",
       "<table border=\"1\" class=\"dataframe\">\n",
       "  <thead>\n",
       "    <tr style=\"text-align: right;\">\n",
       "      <th></th>\n",
       "      <th>absolute_humidity_2m:gm3</th>\n",
       "      <th>air_density_2m:kgm3</th>\n",
       "      <th>ceiling_height_agl:m</th>\n",
       "      <th>clear_sky_energy_1h:J</th>\n",
       "      <th>clear_sky_rad:W</th>\n",
       "      <th>cloud_base_agl:m</th>\n",
       "      <th>dew_or_rime:idx</th>\n",
       "      <th>dew_point_2m:K</th>\n",
       "      <th>diffuse_rad:W</th>\n",
       "      <th>diffuse_rad_1h:J</th>\n",
       "      <th>...</th>\n",
       "      <th>sun_elevation:d</th>\n",
       "      <th>super_cooled_liquid_water:kgm2</th>\n",
       "      <th>t_1000hPa:K</th>\n",
       "      <th>total_cloud_cover:p</th>\n",
       "      <th>visibility:m</th>\n",
       "      <th>wind_speed_10m:ms</th>\n",
       "      <th>wind_speed_u_10m:ms</th>\n",
       "      <th>wind_speed_v_10m:ms</th>\n",
       "      <th>wind_speed_w_1000hPa:ms</th>\n",
       "      <th>pv_measurement</th>\n",
       "    </tr>\n",
       "  </thead>\n",
       "  <tbody>\n",
       "    <tr>\n",
       "      <th>2930</th>\n",
       "      <td>5.6</td>\n",
       "      <td>1.240</td>\n",
       "      <td>1153.599976</td>\n",
       "      <td>0.0</td>\n",
       "      <td>0.0</td>\n",
       "      <td>1153.599976</td>\n",
       "      <td>1.0</td>\n",
       "      <td>275.200012</td>\n",
       "      <td>0.0</td>\n",
       "      <td>0.0</td>\n",
       "      <td>...</td>\n",
       "      <td>-49.178001</td>\n",
       "      <td>0.0</td>\n",
       "      <td>278.500000</td>\n",
       "      <td>68.500000</td>\n",
       "      <td>18220.400391</td>\n",
       "      <td>2.5</td>\n",
       "      <td>1.1</td>\n",
       "      <td>2.2</td>\n",
       "      <td>-0.0</td>\n",
       "      <td>0.0</td>\n",
       "    </tr>\n",
       "    <tr>\n",
       "      <th>2931</th>\n",
       "      <td>5.3</td>\n",
       "      <td>1.241</td>\n",
       "      <td>1090.599976</td>\n",
       "      <td>0.0</td>\n",
       "      <td>0.0</td>\n",
       "      <td>1090.599976</td>\n",
       "      <td>1.0</td>\n",
       "      <td>274.500000</td>\n",
       "      <td>0.0</td>\n",
       "      <td>0.0</td>\n",
       "      <td>...</td>\n",
       "      <td>-46.529999</td>\n",
       "      <td>0.0</td>\n",
       "      <td>278.100006</td>\n",
       "      <td>99.400002</td>\n",
       "      <td>13637.299805</td>\n",
       "      <td>3.5</td>\n",
       "      <td>1.2</td>\n",
       "      <td>3.3</td>\n",
       "      <td>-0.0</td>\n",
       "      <td>0.0</td>\n",
       "    </tr>\n",
       "    <tr>\n",
       "      <th>2932</th>\n",
       "      <td>5.4</td>\n",
       "      <td>1.238</td>\n",
       "      <td>1026.599976</td>\n",
       "      <td>0.0</td>\n",
       "      <td>0.0</td>\n",
       "      <td>1026.599976</td>\n",
       "      <td>0.0</td>\n",
       "      <td>274.899994</td>\n",
       "      <td>0.0</td>\n",
       "      <td>0.0</td>\n",
       "      <td>...</td>\n",
       "      <td>-41.987999</td>\n",
       "      <td>0.0</td>\n",
       "      <td>278.299988</td>\n",
       "      <td>98.400002</td>\n",
       "      <td>12678.799805</td>\n",
       "      <td>3.9</td>\n",
       "      <td>1.8</td>\n",
       "      <td>3.4</td>\n",
       "      <td>-0.0</td>\n",
       "      <td>0.0</td>\n",
       "    </tr>\n",
       "    <tr>\n",
       "      <th>2933</th>\n",
       "      <td>5.2</td>\n",
       "      <td>1.240</td>\n",
       "      <td>961.700012</td>\n",
       "      <td>0.0</td>\n",
       "      <td>0.0</td>\n",
       "      <td>961.700012</td>\n",
       "      <td>0.0</td>\n",
       "      <td>274.200012</td>\n",
       "      <td>0.0</td>\n",
       "      <td>0.0</td>\n",
       "      <td>...</td>\n",
       "      <td>-36.182999</td>\n",
       "      <td>0.2</td>\n",
       "      <td>277.899994</td>\n",
       "      <td>97.199997</td>\n",
       "      <td>8751.599609</td>\n",
       "      <td>4.1</td>\n",
       "      <td>2.0</td>\n",
       "      <td>3.5</td>\n",
       "      <td>-0.0</td>\n",
       "      <td>0.0</td>\n",
       "    </tr>\n",
       "    <tr>\n",
       "      <th>2934</th>\n",
       "      <td>5.4</td>\n",
       "      <td>1.239</td>\n",
       "      <td>954.900024</td>\n",
       "      <td>0.0</td>\n",
       "      <td>0.0</td>\n",
       "      <td>954.900024</td>\n",
       "      <td>0.0</td>\n",
       "      <td>274.899994</td>\n",
       "      <td>0.0</td>\n",
       "      <td>0.0</td>\n",
       "      <td>...</td>\n",
       "      <td>-29.688000</td>\n",
       "      <td>0.2</td>\n",
       "      <td>277.200012</td>\n",
       "      <td>96.900002</td>\n",
       "      <td>4267.799805</td>\n",
       "      <td>5.5</td>\n",
       "      <td>4.5</td>\n",
       "      <td>3.0</td>\n",
       "      <td>-0.0</td>\n",
       "      <td>0.0</td>\n",
       "    </tr>\n",
       "  </tbody>\n",
       "</table>\n",
       "<p>5 rows × 46 columns</p>\n",
       "</div>"
      ],
      "text/plain": [
       "      absolute_humidity_2m:gm3  air_density_2m:kgm3  ceiling_height_agl:m  \\\n",
       "2930                       5.6                1.240           1153.599976   \n",
       "2931                       5.3                1.241           1090.599976   \n",
       "2932                       5.4                1.238           1026.599976   \n",
       "2933                       5.2                1.240            961.700012   \n",
       "2934                       5.4                1.239            954.900024   \n",
       "\n",
       "      clear_sky_energy_1h:J  clear_sky_rad:W  cloud_base_agl:m  \\\n",
       "2930                    0.0              0.0       1153.599976   \n",
       "2931                    0.0              0.0       1090.599976   \n",
       "2932                    0.0              0.0       1026.599976   \n",
       "2933                    0.0              0.0        961.700012   \n",
       "2934                    0.0              0.0        954.900024   \n",
       "\n",
       "      dew_or_rime:idx  dew_point_2m:K  diffuse_rad:W  diffuse_rad_1h:J  ...  \\\n",
       "2930              1.0      275.200012            0.0               0.0  ...   \n",
       "2931              1.0      274.500000            0.0               0.0  ...   \n",
       "2932              0.0      274.899994            0.0               0.0  ...   \n",
       "2933              0.0      274.200012            0.0               0.0  ...   \n",
       "2934              0.0      274.899994            0.0               0.0  ...   \n",
       "\n",
       "      sun_elevation:d  super_cooled_liquid_water:kgm2  t_1000hPa:K  \\\n",
       "2930       -49.178001                             0.0   278.500000   \n",
       "2931       -46.529999                             0.0   278.100006   \n",
       "2932       -41.987999                             0.0   278.299988   \n",
       "2933       -36.182999                             0.2   277.899994   \n",
       "2934       -29.688000                             0.2   277.200012   \n",
       "\n",
       "      total_cloud_cover:p  visibility:m  wind_speed_10m:ms  \\\n",
       "2930            68.500000  18220.400391                2.5   \n",
       "2931            99.400002  13637.299805                3.5   \n",
       "2932            98.400002  12678.799805                3.9   \n",
       "2933            97.199997   8751.599609                4.1   \n",
       "2934            96.900002   4267.799805                5.5   \n",
       "\n",
       "      wind_speed_u_10m:ms  wind_speed_v_10m:ms  wind_speed_w_1000hPa:ms  \\\n",
       "2930                  1.1                  2.2                     -0.0   \n",
       "2931                  1.2                  3.3                     -0.0   \n",
       "2932                  1.8                  3.4                     -0.0   \n",
       "2933                  2.0                  3.5                     -0.0   \n",
       "2934                  4.5                  3.0                     -0.0   \n",
       "\n",
       "      pv_measurement  \n",
       "2930             0.0  \n",
       "2931             0.0  \n",
       "2932             0.0  \n",
       "2933             0.0  \n",
       "2934             0.0  \n",
       "\n",
       "[5 rows x 46 columns]"
      ]
     },
     "execution_count": 9,
     "metadata": {},
     "output_type": "execute_result"
    }
   ],
   "source": [
    "x_train.head()"
   ]
  },
  {
   "cell_type": "code",
   "execution_count": 10,
   "metadata": {
    "scrolled": true
   },
   "outputs": [
    {
     "name": "stdout",
     "output_type": "stream",
     "text": [
      "Data frequency is: H, used frequency is: H\n",
      "Model Number: 1 with model AverageValueNaive in generation 0 of 5\n",
      "Model Number: 2 with model AverageValueNaive in generation 0 of 5\n",
      "Model Number: 3 with model AverageValueNaive in generation 0 of 5\n"
     ]
    },
    {
     "name": "stderr",
     "output_type": "stream",
     "text": [
      "c:\\code\\ntnu\\semester9\\ml_prosjekt\\venv\\lib\\site-packages\\autots\\tools\\impute.py:42: FutureWarning: DataFrame.fillna with 'method' is deprecated and will raise in a future version. Use obj.ffill() or obj.bfill() instead.\n",
      "  df = df.fillna(method='ffill')\n",
      "c:\\code\\ntnu\\semester9\\ml_prosjekt\\venv\\lib\\site-packages\\autots\\tools\\impute.py:43: FutureWarning: DataFrame.fillna with 'method' is deprecated and will raise in a future version. Use obj.ffill() or obj.bfill() instead.\n",
      "  return df.fillna(method='bfill').fillna(0)\n",
      "c:\\code\\ntnu\\semester9\\ml_prosjekt\\venv\\lib\\site-packages\\autots\\tools\\transform.py:1377: FutureWarning: DataFrame.fillna with 'method' is deprecated and will raise in a future version. Use obj.ffill() or obj.bfill() instead.\n",
      "  df = (df - df.shift(self.lag)).fillna(method=\"bfill\")\n",
      "c:\\code\\ntnu\\semester9\\ml_prosjekt\\venv\\lib\\site-packages\\autots\\tools\\transform.py:1377: FutureWarning: DataFrame.fillna with 'method' is deprecated and will raise in a future version. Use obj.ffill() or obj.bfill() instead.\n",
      "  df = (df - df.shift(self.lag)).fillna(method=\"bfill\")\n",
      "c:\\code\\ntnu\\semester9\\ml_prosjekt\\venv\\lib\\site-packages\\autots\\tools\\impute.py:42: FutureWarning: DataFrame.fillna with 'method' is deprecated and will raise in a future version. Use obj.ffill() or obj.bfill() instead.\n",
      "  df = df.fillna(method='ffill')\n",
      "c:\\code\\ntnu\\semester9\\ml_prosjekt\\venv\\lib\\site-packages\\autots\\tools\\impute.py:43: FutureWarning: DataFrame.fillna with 'method' is deprecated and will raise in a future version. Use obj.ffill() or obj.bfill() instead.\n",
      "  return df.fillna(method='bfill').fillna(0)\n",
      "c:\\code\\ntnu\\semester9\\ml_prosjekt\\venv\\lib\\site-packages\\autots\\tools\\transform.py:1006: FutureWarning: The 'axis' keyword in DataFrame.groupby is deprecated and will be removed in a future version.\n",
      "  self.tile_values_lag_1 = df2.groupby(level=0, axis=0).mean()\n",
      "c:\\code\\ntnu\\semester9\\ml_prosjekt\\venv\\lib\\site-packages\\autots\\tools\\impute.py:42: FutureWarning: DataFrame.fillna with 'method' is deprecated and will raise in a future version. Use obj.ffill() or obj.bfill() instead.\n",
      "  df = df.fillna(method='ffill')\n",
      "c:\\code\\ntnu\\semester9\\ml_prosjekt\\venv\\lib\\site-packages\\autots\\tools\\impute.py:43: FutureWarning: DataFrame.fillna with 'method' is deprecated and will raise in a future version. Use obj.ffill() or obj.bfill() instead.\n",
      "  return df.fillna(method='bfill').fillna(0)\n",
      "c:\\code\\ntnu\\semester9\\ml_prosjekt\\venv\\lib\\site-packages\\autots\\tools\\transform.py:888: FutureWarning: DataFrame.fillna with 'method' is deprecated and will raise in a future version. Use obj.ffill() or obj.bfill() instead.\n",
      "  df.tail(self.window).fillna(method=\"ffill\").fillna(method=\"bfill\")\n",
      "c:\\code\\ntnu\\semester9\\ml_prosjekt\\venv\\lib\\site-packages\\autots\\tools\\transform.py:891: FutureWarning: DataFrame.fillna with 'method' is deprecated and will raise in a future version. Use obj.ffill() or obj.bfill() instead.\n",
      "  df.head(self.window).fillna(method=\"ffill\").fillna(method=\"bfill\")\n",
      "c:\\code\\ntnu\\semester9\\ml_prosjekt\\venv\\lib\\site-packages\\autots\\tools\\transform.py:1377: FutureWarning: DataFrame.fillna with 'method' is deprecated and will raise in a future version. Use obj.ffill() or obj.bfill() instead.\n",
      "  df = (df - df.shift(self.lag)).fillna(method=\"bfill\")\n"
     ]
    },
    {
     "name": "stdout",
     "output_type": "stream",
     "text": [
      "Model Number: 4 with model GLS in generation 0 of 5\n",
      "Model Number: 5 with model GLS in generation 0 of 5\n",
      "Model Number: 6 with model LastValueNaive in generation 0 of 5\n",
      "Model Number: 7 with model LastValueNaive in generation 0 of 5\n",
      "Model Number: 8 with model LastValueNaive in generation 0 of 5\n"
     ]
    },
    {
     "name": "stderr",
     "output_type": "stream",
     "text": [
      "c:\\code\\ntnu\\semester9\\ml_prosjekt\\venv\\lib\\site-packages\\autots\\tools\\transform.py:403: FutureWarning: DataFrame.fillna with 'method' is deprecated and will raise in a future version. Use obj.ffill() or obj.bfill() instead.\n",
      "  df = (df - cycles).fillna(method=\"ffill\").fillna(method=\"bfill\")\n",
      "c:\\code\\ntnu\\semester9\\ml_prosjekt\\venv\\lib\\site-packages\\autots\\tools\\impute.py:42: FutureWarning: DataFrame.fillna with 'method' is deprecated and will raise in a future version. Use obj.ffill() or obj.bfill() instead.\n",
      "  df = df.fillna(method='ffill')\n",
      "c:\\code\\ntnu\\semester9\\ml_prosjekt\\venv\\lib\\site-packages\\autots\\tools\\impute.py:43: FutureWarning: DataFrame.fillna with 'method' is deprecated and will raise in a future version. Use obj.ffill() or obj.bfill() instead.\n",
      "  return df.fillna(method='bfill').fillna(0)\n",
      "c:\\code\\ntnu\\semester9\\ml_prosjekt\\venv\\lib\\site-packages\\autots\\tools\\transform.py:403: FutureWarning: DataFrame.fillna with 'method' is deprecated and will raise in a future version. Use obj.ffill() or obj.bfill() instead.\n",
      "  df = (df - cycles).fillna(method=\"ffill\").fillna(method=\"bfill\")\n",
      "c:\\code\\ntnu\\semester9\\ml_prosjekt\\venv\\lib\\site-packages\\autots\\tools\\impute.py:42: FutureWarning: DataFrame.fillna with 'method' is deprecated and will raise in a future version. Use obj.ffill() or obj.bfill() instead.\n",
      "  df = df.fillna(method='ffill')\n",
      "c:\\code\\ntnu\\semester9\\ml_prosjekt\\venv\\lib\\site-packages\\autots\\tools\\impute.py:43: FutureWarning: DataFrame.fillna with 'method' is deprecated and will raise in a future version. Use obj.ffill() or obj.bfill() instead.\n",
      "  return df.fillna(method='bfill').fillna(0)\n"
     ]
    },
    {
     "name": "stdout",
     "output_type": "stream",
     "text": [
      "Model Number: 9 with model LastValueNaive in generation 0 of 5\n",
      "Model Number: 10 with model SeasonalNaive in generation 0 of 5\n"
     ]
    },
    {
     "name": "stderr",
     "output_type": "stream",
     "text": [
      "c:\\code\\ntnu\\semester9\\ml_prosjekt\\venv\\lib\\site-packages\\autots\\tools\\impute.py:42: FutureWarning: DataFrame.fillna with 'method' is deprecated and will raise in a future version. Use obj.ffill() or obj.bfill() instead.\n",
      "  df = df.fillna(method='ffill')\n",
      "c:\\code\\ntnu\\semester9\\ml_prosjekt\\venv\\lib\\site-packages\\autots\\tools\\impute.py:43: FutureWarning: DataFrame.fillna with 'method' is deprecated and will raise in a future version. Use obj.ffill() or obj.bfill() instead.\n",
      "  return df.fillna(method='bfill').fillna(0)\n"
     ]
    },
    {
     "name": "stdout",
     "output_type": "stream",
     "text": [
      "Model Number: 11 with model SeasonalNaive in generation 0 of 5\n"
     ]
    },
    {
     "name": "stderr",
     "output_type": "stream",
     "text": [
      "c:\\code\\ntnu\\semester9\\ml_prosjekt\\venv\\lib\\site-packages\\autots\\tools\\impute.py:42: FutureWarning: DataFrame.fillna with 'method' is deprecated and will raise in a future version. Use obj.ffill() or obj.bfill() instead.\n",
      "  df = df.fillna(method='ffill')\n",
      "c:\\code\\ntnu\\semester9\\ml_prosjekt\\venv\\lib\\site-packages\\autots\\tools\\impute.py:43: FutureWarning: DataFrame.fillna with 'method' is deprecated and will raise in a future version. Use obj.ffill() or obj.bfill() instead.\n",
      "  return df.fillna(method='bfill').fillna(0)\n",
      "c:\\code\\ntnu\\semester9\\ml_prosjekt\\venv\\lib\\site-packages\\autots\\tools\\transform.py:1004: FutureWarning: The 'axis' keyword in DataFrame.groupby is deprecated and will be removed in a future version.\n",
      "  self.tile_values_lag_1 = df2.groupby(level=0, axis=0).median()\n"
     ]
    },
    {
     "name": "stdout",
     "output_type": "stream",
     "text": [
      "Model Number: 12 with model SeasonalNaive in generation 0 of 5\n",
      "Model Number: 13 with model ConstantNaive in generation 0 of 5\n",
      "Model Number: 14 with model SeasonalNaive in generation 0 of 5\n"
     ]
    },
    {
     "name": "stderr",
     "output_type": "stream",
     "text": [
      "c:\\code\\ntnu\\semester9\\ml_prosjekt\\venv\\lib\\site-packages\\autots\\tools\\impute.py:42: FutureWarning: DataFrame.fillna with 'method' is deprecated and will raise in a future version. Use obj.ffill() or obj.bfill() instead.\n",
      "  df = df.fillna(method='ffill')\n",
      "c:\\code\\ntnu\\semester9\\ml_prosjekt\\venv\\lib\\site-packages\\autots\\tools\\impute.py:43: FutureWarning: DataFrame.fillna with 'method' is deprecated and will raise in a future version. Use obj.ffill() or obj.bfill() instead.\n",
      "  return df.fillna(method='bfill').fillna(0)\n",
      "c:\\code\\ntnu\\semester9\\ml_prosjekt\\venv\\lib\\site-packages\\autots\\tools\\impute.py:42: FutureWarning: DataFrame.fillna with 'method' is deprecated and will raise in a future version. Use obj.ffill() or obj.bfill() instead.\n",
      "  df = df.fillna(method='ffill')\n",
      "c:\\code\\ntnu\\semester9\\ml_prosjekt\\venv\\lib\\site-packages\\autots\\tools\\impute.py:43: FutureWarning: DataFrame.fillna with 'method' is deprecated and will raise in a future version. Use obj.ffill() or obj.bfill() instead.\n",
      "  return df.fillna(method='bfill').fillna(0)\n"
     ]
    },
    {
     "name": "stdout",
     "output_type": "stream",
     "text": [
      "Model Number: 15 with model SeasonalNaive in generation 0 of 5\n"
     ]
    },
    {
     "name": "stderr",
     "output_type": "stream",
     "text": [
      "c:\\code\\ntnu\\semester9\\ml_prosjekt\\venv\\lib\\site-packages\\autots\\tools\\impute.py:42: FutureWarning: DataFrame.fillna with 'method' is deprecated and will raise in a future version. Use obj.ffill() or obj.bfill() instead.\n",
      "  df = df.fillna(method='ffill')\n",
      "c:\\code\\ntnu\\semester9\\ml_prosjekt\\venv\\lib\\site-packages\\autots\\tools\\impute.py:43: FutureWarning: DataFrame.fillna with 'method' is deprecated and will raise in a future version. Use obj.ffill() or obj.bfill() instead.\n",
      "  return df.fillna(method='bfill').fillna(0)\n"
     ]
    },
    {
     "name": "stdout",
     "output_type": "stream",
     "text": [
      "Model Number: 16 with model SeasonalityMotif in generation 0 of 5\n"
     ]
    },
    {
     "name": "stderr",
     "output_type": "stream",
     "text": [
      "c:\\code\\ntnu\\semester9\\ml_prosjekt\\venv\\lib\\site-packages\\autots\\tools\\impute.py:243: FutureWarning: DataFrame.fillna with 'method' is deprecated and will raise in a future version. Use obj.ffill() or obj.bfill() instead.\n",
      "  df = df.interpolate(method=method, order=5).fillna(method='bfill')\n"
     ]
    },
    {
     "name": "stdout",
     "output_type": "stream",
     "text": [
      "Template Eval Error: ValueError(\"Model returned NaN due to a preprocessing transformer {'fillna': 'nearest', 'transformations': {'0': 'AlignLastValue'}, 'transformation_params': {'0': {'rows': 1, 'lag': 1, 'method': 'multiplicative', 'strength': 1.0, 'first_value_only': False}}}. fail_on_forecast_nan=True\") in model 16 in generation 0: SeasonalityMotif\n",
      "Model Number: 17 with model ConstantNaive in generation 0 of 5\n",
      "Model Number: 18 with model LastValueNaive in generation 0 of 5\n"
     ]
    },
    {
     "name": "stderr",
     "output_type": "stream",
     "text": [
      "c:\\code\\ntnu\\semester9\\ml_prosjekt\\venv\\lib\\site-packages\\autots\\tools\\impute.py:42: FutureWarning: DataFrame.fillna with 'method' is deprecated and will raise in a future version. Use obj.ffill() or obj.bfill() instead.\n",
      "  df = df.fillna(method='ffill')\n",
      "c:\\code\\ntnu\\semester9\\ml_prosjekt\\venv\\lib\\site-packages\\autots\\tools\\impute.py:43: FutureWarning: DataFrame.fillna with 'method' is deprecated and will raise in a future version. Use obj.ffill() or obj.bfill() instead.\n",
      "  return df.fillna(method='bfill').fillna(0)\n",
      "c:\\code\\ntnu\\semester9\\ml_prosjekt\\venv\\lib\\site-packages\\autots\\tools\\impute.py:42: FutureWarning: DataFrame.fillna with 'method' is deprecated and will raise in a future version. Use obj.ffill() or obj.bfill() instead.\n",
      "  df = df.fillna(method='ffill')\n",
      "c:\\code\\ntnu\\semester9\\ml_prosjekt\\venv\\lib\\site-packages\\autots\\tools\\impute.py:43: FutureWarning: DataFrame.fillna with 'method' is deprecated and will raise in a future version. Use obj.ffill() or obj.bfill() instead.\n",
      "  return df.fillna(method='bfill').fillna(0)\n",
      "c:\\code\\ntnu\\semester9\\ml_prosjekt\\venv\\lib\\site-packages\\autots\\tools\\transform.py:403: FutureWarning: DataFrame.fillna with 'method' is deprecated and will raise in a future version. Use obj.ffill() or obj.bfill() instead.\n",
      "  df = (df - cycles).fillna(method=\"ffill\").fillna(method=\"bfill\")\n"
     ]
    },
    {
     "name": "stdout",
     "output_type": "stream",
     "text": [
      "Model Number: 19 with model AverageValueNaive in generation 0 of 5\n"
     ]
    },
    {
     "name": "stderr",
     "output_type": "stream",
     "text": [
      "c:\\code\\ntnu\\semester9\\ml_prosjekt\\venv\\lib\\site-packages\\autots\\tools\\transform.py:403: FutureWarning: DataFrame.fillna with 'method' is deprecated and will raise in a future version. Use obj.ffill() or obj.bfill() instead.\n",
      "  df = (df - cycles).fillna(method=\"ffill\").fillna(method=\"bfill\")\n",
      "c:\\code\\ntnu\\semester9\\ml_prosjekt\\venv\\lib\\site-packages\\autots\\tools\\impute.py:243: FutureWarning: DataFrame.fillna with 'method' is deprecated and will raise in a future version. Use obj.ffill() or obj.bfill() instead.\n",
      "  df = df.interpolate(method=method, order=5).fillna(method='bfill')\n",
      "c:\\code\\ntnu\\semester9\\ml_prosjekt\\venv\\lib\\site-packages\\autots\\tools\\transform.py:1377: FutureWarning: DataFrame.fillna with 'method' is deprecated and will raise in a future version. Use obj.ffill() or obj.bfill() instead.\n",
      "  df = (df - df.shift(self.lag)).fillna(method=\"bfill\")\n",
      "c:\\code\\ntnu\\semester9\\ml_prosjekt\\venv\\lib\\site-packages\\autots\\tools\\transform.py:1006: FutureWarning: The 'axis' keyword in DataFrame.groupby is deprecated and will be removed in a future version.\n",
      "  self.tile_values_lag_1 = df2.groupby(level=0, axis=0).mean()\n"
     ]
    },
    {
     "name": "stdout",
     "output_type": "stream",
     "text": [
      "Model Number: 20 with model GLS in generation 0 of 5\n",
      "Model Number: 21 with model SeasonalNaive in generation 0 of 5\n",
      "Model Number: 22 with model SeasonalityMotif in generation 0 of 5\n"
     ]
    },
    {
     "name": "stderr",
     "output_type": "stream",
     "text": [
      "c:\\code\\ntnu\\semester9\\ml_prosjekt\\venv\\lib\\site-packages\\autots\\tools\\impute.py:42: FutureWarning: DataFrame.fillna with 'method' is deprecated and will raise in a future version. Use obj.ffill() or obj.bfill() instead.\n",
      "  df = df.fillna(method='ffill')\n",
      "c:\\code\\ntnu\\semester9\\ml_prosjekt\\venv\\lib\\site-packages\\autots\\tools\\impute.py:43: FutureWarning: DataFrame.fillna with 'method' is deprecated and will raise in a future version. Use obj.ffill() or obj.bfill() instead.\n",
      "  return df.fillna(method='bfill').fillna(0)\n",
      "c:\\code\\ntnu\\semester9\\ml_prosjekt\\venv\\lib\\site-packages\\autots\\tools\\transform.py:403: FutureWarning: DataFrame.fillna with 'method' is deprecated and will raise in a future version. Use obj.ffill() or obj.bfill() instead.\n",
      "  df = (df - cycles).fillna(method=\"ffill\").fillna(method=\"bfill\")\n"
     ]
    },
    {
     "name": "stdout",
     "output_type": "stream",
     "text": [
      "Model Number: 23 with model GLS in generation 0 of 5\n"
     ]
    },
    {
     "name": "stderr",
     "output_type": "stream",
     "text": [
      "c:\\code\\ntnu\\semester9\\ml_prosjekt\\venv\\lib\\site-packages\\autots\\tools\\impute.py:243: FutureWarning: DataFrame.interpolate with method=pad is deprecated and will raise in a future version. Use obj.ffill() or obj.bfill() instead.\n",
      "  df = df.interpolate(method=method, order=5).fillna(method='bfill')\n",
      "c:\\code\\ntnu\\semester9\\ml_prosjekt\\venv\\lib\\site-packages\\autots\\tools\\impute.py:243: FutureWarning: DataFrame.fillna with 'method' is deprecated and will raise in a future version. Use obj.ffill() or obj.bfill() instead.\n",
      "  df = df.interpolate(method=method, order=5).fillna(method='bfill')\n",
      "c:\\code\\ntnu\\semester9\\ml_prosjekt\\venv\\lib\\site-packages\\autots\\tools\\transform.py:1442: FutureWarning: The 'fill_method' and 'limit' keywords in DataFrame.pct_change are deprecated and will be removed in a future version. Call ffill before calling pct_change instead.\n",
      "  df = df.pct_change(periods=1, fill_method=\"ffill\").fillna(0)\n",
      "c:\\code\\ntnu\\semester9\\ml_prosjekt\\venv\\lib\\site-packages\\autots\\tools\\transform.py:1377: FutureWarning: DataFrame.fillna with 'method' is deprecated and will raise in a future version. Use obj.ffill() or obj.bfill() instead.\n",
      "  df = (df - df.shift(self.lag)).fillna(method=\"bfill\")\n",
      "c:\\code\\ntnu\\semester9\\ml_prosjekt\\venv\\lib\\site-packages\\autots\\tools\\transform.py:888: FutureWarning: DataFrame.fillna with 'method' is deprecated and will raise in a future version. Use obj.ffill() or obj.bfill() instead.\n",
      "  df.tail(self.window).fillna(method=\"ffill\").fillna(method=\"bfill\")\n",
      "c:\\code\\ntnu\\semester9\\ml_prosjekt\\venv\\lib\\site-packages\\autots\\tools\\transform.py:891: FutureWarning: DataFrame.fillna with 'method' is deprecated and will raise in a future version. Use obj.ffill() or obj.bfill() instead.\n",
      "  df.head(self.window).fillna(method=\"ffill\").fillna(method=\"bfill\")\n"
     ]
    },
    {
     "name": "stdout",
     "output_type": "stream",
     "text": [
      "Template Eval Error: ValueError(\"Model returned NaN due to a preprocessing transformer {'fillna': 'pad', 'transformations': {'0': 'PctChangeTransformer', '1': 'LocalLinearTrend', '2': 'DifferencedTransformer', '3': 'Detrend', '4': 'RollingMeanTransformer', '5': 'RegressionFilter'}, 'transformation_params': {'0': {}, '1': {'rolling_window': 30, 'n_tails': 30, 'n_future': 0.05, 'method': 'mean', 'macro_micro': True}, '2': {}, '3': {'model': 'Linear', 'phi': 1, 'window': 10, 'transform_dict': {'fillna': None, 'transformations': {'0': 'ClipOutliers'}, 'transformation_params': {'0': {'method': 'clip', 'std_threshold': 3}}}}, '4': {'fixed': True, 'window': 7}, '5': {'sigma': 0.5, 'rolling_window': 90, 'run_order': 'trend_first', 'regression_params': {'regression_model': {'model': 'ElasticNet', 'model_params': {}}, 'datepart_method': 'simple_binarized', 'polynomial_degree': None, 'transform_dict': None, 'holiday_countries_used': False}, 'holiday_params': None}}}. fail_on_forecast_nan=True\") in model 23 in generation 0: GLS\n",
      "Model Number: 24 with model AverageValueNaive in generation 0 of 5\n",
      "Model Number: 25 with model LastValueNaive in generation 0 of 5\n"
     ]
    },
    {
     "name": "stderr",
     "output_type": "stream",
     "text": [
      "c:\\code\\ntnu\\semester9\\ml_prosjekt\\venv\\lib\\site-packages\\numpy\\core\\fromnumeric.py:59: RuntimeWarning: overflow encountered in accumulate\n",
      "  return bound(*args, **kwds)\n",
      "c:\\code\\ntnu\\semester9\\ml_prosjekt\\venv\\lib\\site-packages\\numpy\\core\\fromnumeric.py:59: RuntimeWarning: overflow encountered in accumulate\n",
      "  return bound(*args, **kwds)\n",
      "c:\\code\\ntnu\\semester9\\ml_prosjekt\\venv\\lib\\site-packages\\numpy\\core\\fromnumeric.py:59: RuntimeWarning: overflow encountered in accumulate\n",
      "  return bound(*args, **kwds)\n",
      "c:\\code\\ntnu\\semester9\\ml_prosjekt\\venv\\lib\\site-packages\\autots\\tools\\impute.py:243: FutureWarning: DataFrame.fillna with 'method' is deprecated and will raise in a future version. Use obj.ffill() or obj.bfill() instead.\n",
      "  df = df.interpolate(method=method, order=5).fillna(method='bfill')\n",
      "c:\\code\\ntnu\\semester9\\ml_prosjekt\\venv\\lib\\site-packages\\autots\\tools\\impute.py:243: FutureWarning: DataFrame.fillna with 'method' is deprecated and will raise in a future version. Use obj.ffill() or obj.bfill() instead.\n",
      "  df = df.interpolate(method=method, order=5).fillna(method='bfill')\n",
      "c:\\code\\ntnu\\semester9\\ml_prosjekt\\venv\\lib\\site-packages\\autots\\tools\\transform.py:1004: FutureWarning: The 'axis' keyword in DataFrame.groupby is deprecated and will be removed in a future version.\n",
      "  self.tile_values_lag_1 = df2.groupby(level=0, axis=0).median()\n"
     ]
    },
    {
     "name": "stdout",
     "output_type": "stream",
     "text": [
      "Model Number: 26 with model GLS in generation 0 of 5\n",
      "Model Number: 27 with model ConstantNaive in generation 0 of 5\n",
      "Model Number: 28 with model SeasonalNaive in generation 0 of 5\n"
     ]
    },
    {
     "name": "stderr",
     "output_type": "stream",
     "text": [
      "c:\\code\\ntnu\\semester9\\ml_prosjekt\\venv\\lib\\site-packages\\autots\\tools\\transform.py:1377: FutureWarning: DataFrame.fillna with 'method' is deprecated and will raise in a future version. Use obj.ffill() or obj.bfill() instead.\n",
      "  df = (df - df.shift(self.lag)).fillna(method=\"bfill\")\n",
      "c:\\code\\ntnu\\semester9\\ml_prosjekt\\venv\\lib\\site-packages\\autots\\tools\\transform.py:1442: FutureWarning: The 'fill_method' and 'limit' keywords in DataFrame.pct_change are deprecated and will be removed in a future version. Call ffill before calling pct_change instead.\n",
      "  df = df.pct_change(periods=1, fill_method=\"ffill\").fillna(0)\n",
      "c:\\code\\ntnu\\semester9\\ml_prosjekt\\venv\\lib\\site-packages\\autots\\tools\\transform.py:403: FutureWarning: DataFrame.fillna with 'method' is deprecated and will raise in a future version. Use obj.ffill() or obj.bfill() instead.\n",
      "  df = (df - cycles).fillna(method=\"ffill\").fillna(method=\"bfill\")\n",
      "c:\\code\\ntnu\\semester9\\ml_prosjekt\\venv\\lib\\site-packages\\autots\\models\\basics.py:440: FutureWarning: The 'axis' keyword in DataFrame.groupby is deprecated and will be removed in a future version.\n",
      "  self.tile_values_lag_1 = df.groupby(level=0, axis=0).median()\n",
      "c:\\code\\ntnu\\semester9\\ml_prosjekt\\venv\\lib\\site-packages\\autots\\models\\basics.py:453: FutureWarning: The 'axis' keyword in DataFrame.groupby is deprecated and will be removed in a future version.\n",
      "  self.tile_values_lag_2 = df.groupby(level=0, axis=0).median()\n",
      "c:\\code\\ntnu\\semester9\\ml_prosjekt\\venv\\lib\\site-packages\\numpy\\core\\fromnumeric.py:59: RuntimeWarning: overflow encountered in accumulate\n",
      "  return bound(*args, **kwds)\n",
      "c:\\code\\ntnu\\semester9\\ml_prosjekt\\venv\\lib\\site-packages\\autots\\tools\\impute.py:42: FutureWarning: DataFrame.fillna with 'method' is deprecated and will raise in a future version. Use obj.ffill() or obj.bfill() instead.\n",
      "  df = df.fillna(method='ffill')\n",
      "c:\\code\\ntnu\\semester9\\ml_prosjekt\\venv\\lib\\site-packages\\autots\\tools\\impute.py:43: FutureWarning: DataFrame.fillna with 'method' is deprecated and will raise in a future version. Use obj.ffill() or obj.bfill() instead.\n",
      "  return df.fillna(method='bfill').fillna(0)\n",
      "c:\\code\\ntnu\\semester9\\ml_prosjekt\\venv\\lib\\site-packages\\autots\\tools\\transform.py:403: FutureWarning: DataFrame.fillna with 'method' is deprecated and will raise in a future version. Use obj.ffill() or obj.bfill() instead.\n",
      "  df = (df - cycles).fillna(method=\"ffill\").fillna(method=\"bfill\")\n"
     ]
    },
    {
     "name": "stdout",
     "output_type": "stream",
     "text": [
      "Model Number: 29 with model GLS in generation 0 of 5\n",
      "Model Number: 30 with model LastValueNaive in generation 0 of 5\n"
     ]
    },
    {
     "name": "stderr",
     "output_type": "stream",
     "text": [
      "c:\\code\\ntnu\\semester9\\ml_prosjekt\\venv\\lib\\site-packages\\autots\\tools\\impute.py:42: FutureWarning: DataFrame.fillna with 'method' is deprecated and will raise in a future version. Use obj.ffill() or obj.bfill() instead.\n",
      "  df = df.fillna(method='ffill')\n",
      "c:\\code\\ntnu\\semester9\\ml_prosjekt\\venv\\lib\\site-packages\\autots\\tools\\impute.py:43: FutureWarning: DataFrame.fillna with 'method' is deprecated and will raise in a future version. Use obj.ffill() or obj.bfill() instead.\n",
      "  return df.fillna(method='bfill').fillna(0)\n",
      "c:\\code\\ntnu\\semester9\\ml_prosjekt\\venv\\lib\\site-packages\\autots\\tools\\transform.py:888: FutureWarning: DataFrame.fillna with 'method' is deprecated and will raise in a future version. Use obj.ffill() or obj.bfill() instead.\n",
      "  df.tail(self.window).fillna(method=\"ffill\").fillna(method=\"bfill\")\n",
      "c:\\code\\ntnu\\semester9\\ml_prosjekt\\venv\\lib\\site-packages\\autots\\tools\\transform.py:891: FutureWarning: DataFrame.fillna with 'method' is deprecated and will raise in a future version. Use obj.ffill() or obj.bfill() instead.\n",
      "  df.head(self.window).fillna(method=\"ffill\").fillna(method=\"bfill\")\n",
      "c:\\code\\ntnu\\semester9\\ml_prosjekt\\venv\\lib\\site-packages\\autots\\tools\\transform.py:1377: FutureWarning: DataFrame.fillna with 'method' is deprecated and will raise in a future version. Use obj.ffill() or obj.bfill() instead.\n",
      "  df = (df - df.shift(self.lag)).fillna(method=\"bfill\")\n"
     ]
    },
    {
     "name": "stdout",
     "output_type": "stream",
     "text": [
      "Model Number: 31 with model AverageValueNaive in generation 0 of 5\n"
     ]
    },
    {
     "name": "stderr",
     "output_type": "stream",
     "text": [
      "c:\\code\\ntnu\\semester9\\ml_prosjekt\\venv\\lib\\site-packages\\autots\\tools\\impute.py:243: FutureWarning: DataFrame.fillna with 'method' is deprecated and will raise in a future version. Use obj.ffill() or obj.bfill() instead.\n",
      "  df = df.interpolate(method=method, order=5).fillna(method='bfill')\n",
      "c:\\code\\ntnu\\semester9\\ml_prosjekt\\venv\\lib\\site-packages\\autots\\tools\\transform.py:1377: FutureWarning: DataFrame.fillna with 'method' is deprecated and will raise in a future version. Use obj.ffill() or obj.bfill() instead.\n",
      "  df = (df - df.shift(self.lag)).fillna(method=\"bfill\")\n",
      "c:\\code\\ntnu\\semester9\\ml_prosjekt\\venv\\lib\\site-packages\\autots\\tools\\transform.py:529: FutureWarning: DataFrame.fillna with 'method' is deprecated and will raise in a future version. Use obj.ffill() or obj.bfill() instead.\n",
      "  return df.fillna(method=\"ffill\").fillna(method=\"bfill\")\n",
      "c:\\code\\ntnu\\semester9\\ml_prosjekt\\venv\\lib\\site-packages\\autots\\tools\\impute.py:42: FutureWarning: DataFrame.fillna with 'method' is deprecated and will raise in a future version. Use obj.ffill() or obj.bfill() instead.\n",
      "  df = df.fillna(method='ffill')\n",
      "c:\\code\\ntnu\\semester9\\ml_prosjekt\\venv\\lib\\site-packages\\autots\\tools\\impute.py:43: FutureWarning: DataFrame.fillna with 'method' is deprecated and will raise in a future version. Use obj.ffill() or obj.bfill() instead.\n",
      "  return df.fillna(method='bfill').fillna(0)\n"
     ]
    },
    {
     "name": "stdout",
     "output_type": "stream",
     "text": [
      "Model Number: 32 with model ConstantNaive in generation 0 of 5\n",
      "Model Number: 33 with model ConstantNaive in generation 0 of 5\n"
     ]
    },
    {
     "name": "stderr",
     "output_type": "stream",
     "text": [
      "c:\\code\\ntnu\\semester9\\ml_prosjekt\\venv\\lib\\site-packages\\autots\\tools\\impute.py:42: FutureWarning: DataFrame.fillna with 'method' is deprecated and will raise in a future version. Use obj.ffill() or obj.bfill() instead.\n",
      "  df = df.fillna(method='ffill')\n",
      "c:\\code\\ntnu\\semester9\\ml_prosjekt\\venv\\lib\\site-packages\\autots\\tools\\impute.py:43: FutureWarning: DataFrame.fillna with 'method' is deprecated and will raise in a future version. Use obj.ffill() or obj.bfill() instead.\n",
      "  return df.fillna(method='bfill').fillna(0)\n",
      "c:\\code\\ntnu\\semester9\\ml_prosjekt\\venv\\lib\\site-packages\\autots\\tools\\impute.py:42: FutureWarning: DataFrame.fillna with 'method' is deprecated and will raise in a future version. Use obj.ffill() or obj.bfill() instead.\n",
      "  df = df.fillna(method='ffill')\n",
      "c:\\code\\ntnu\\semester9\\ml_prosjekt\\venv\\lib\\site-packages\\autots\\tools\\impute.py:43: FutureWarning: DataFrame.fillna with 'method' is deprecated and will raise in a future version. Use obj.ffill() or obj.bfill() instead.\n",
      "  return df.fillna(method='bfill').fillna(0)\n",
      "c:\\code\\ntnu\\semester9\\ml_prosjekt\\venv\\lib\\site-packages\\autots\\tools\\transform.py:403: FutureWarning: DataFrame.fillna with 'method' is deprecated and will raise in a future version. Use obj.ffill() or obj.bfill() instead.\n",
      "  df = (df - cycles).fillna(method=\"ffill\").fillna(method=\"bfill\")\n",
      "c:\\code\\ntnu\\semester9\\ml_prosjekt\\venv\\lib\\site-packages\\autots\\tools\\impute.py:42: FutureWarning: DataFrame.fillna with 'method' is deprecated and will raise in a future version. Use obj.ffill() or obj.bfill() instead.\n",
      "  df = df.fillna(method='ffill')\n",
      "c:\\code\\ntnu\\semester9\\ml_prosjekt\\venv\\lib\\site-packages\\autots\\tools\\impute.py:43: FutureWarning: DataFrame.fillna with 'method' is deprecated and will raise in a future version. Use obj.ffill() or obj.bfill() instead.\n",
      "  return df.fillna(method='bfill').fillna(0)\n",
      "c:\\code\\ntnu\\semester9\\ml_prosjekt\\venv\\lib\\site-packages\\autots\\tools\\transform.py:1004: FutureWarning: The 'axis' keyword in DataFrame.groupby is deprecated and will be removed in a future version.\n",
      "  self.tile_values_lag_1 = df2.groupby(level=0, axis=0).median()\n",
      "c:\\code\\ntnu\\semester9\\ml_prosjekt\\venv\\lib\\site-packages\\autots\\tools\\transform.py:403: FutureWarning: DataFrame.fillna with 'method' is deprecated and will raise in a future version. Use obj.ffill() or obj.bfill() instead.\n",
      "  df = (df - cycles).fillna(method=\"ffill\").fillna(method=\"bfill\")\n"
     ]
    },
    {
     "name": "stdout",
     "output_type": "stream",
     "text": [
      "Model Number: 34 with model SeasonalNaive in generation 0 of 5\n"
     ]
    },
    {
     "name": "stderr",
     "output_type": "stream",
     "text": [
      "c:\\code\\ntnu\\semester9\\ml_prosjekt\\venv\\lib\\site-packages\\autots\\models\\basics.py:440: FutureWarning: The 'axis' keyword in DataFrame.groupby is deprecated and will be removed in a future version.\n",
      "  self.tile_values_lag_1 = df.groupby(level=0, axis=0).median()\n",
      "c:\\code\\ntnu\\semester9\\ml_prosjekt\\venv\\lib\\site-packages\\autots\\models\\basics.py:453: FutureWarning: The 'axis' keyword in DataFrame.groupby is deprecated and will be removed in a future version.\n",
      "  self.tile_values_lag_2 = df.groupby(level=0, axis=0).median()\n"
     ]
    },
    {
     "name": "stdout",
     "output_type": "stream",
     "text": [
      "Model Number: 35 with model SeasonalNaive in generation 0 of 5\n"
     ]
    },
    {
     "name": "stderr",
     "output_type": "stream",
     "text": [
      "c:\\code\\ntnu\\semester9\\ml_prosjekt\\venv\\lib\\site-packages\\autots\\tools\\transform.py:1004: FutureWarning: The 'axis' keyword in DataFrame.groupby is deprecated and will be removed in a future version.\n",
      "  self.tile_values_lag_1 = df2.groupby(level=0, axis=0).median()\n",
      "c:\\code\\ntnu\\semester9\\ml_prosjekt\\venv\\lib\\site-packages\\autots\\models\\basics.py:440: FutureWarning: The 'axis' keyword in DataFrame.groupby is deprecated and will be removed in a future version.\n",
      "  self.tile_values_lag_1 = df.groupby(level=0, axis=0).median()\n"
     ]
    },
    {
     "name": "stdout",
     "output_type": "stream",
     "text": [
      "Model Number: 36 with model GLS in generation 0 of 5\n"
     ]
    },
    {
     "name": "stderr",
     "output_type": "stream",
     "text": [
      "c:\\code\\ntnu\\semester9\\ml_prosjekt\\venv\\lib\\site-packages\\autots\\tools\\impute.py:42: FutureWarning: DataFrame.fillna with 'method' is deprecated and will raise in a future version. Use obj.ffill() or obj.bfill() instead.\n",
      "  df = df.fillna(method='ffill')\n",
      "c:\\code\\ntnu\\semester9\\ml_prosjekt\\venv\\lib\\site-packages\\autots\\tools\\impute.py:43: FutureWarning: DataFrame.fillna with 'method' is deprecated and will raise in a future version. Use obj.ffill() or obj.bfill() instead.\n",
      "  return df.fillna(method='bfill').fillna(0)\n",
      "c:\\code\\ntnu\\semester9\\ml_prosjekt\\venv\\lib\\site-packages\\autots\\tools\\transform.py:1377: FutureWarning: DataFrame.fillna with 'method' is deprecated and will raise in a future version. Use obj.ffill() or obj.bfill() instead.\n",
      "  df = (df - df.shift(self.lag)).fillna(method=\"bfill\")\n",
      "c:\\code\\ntnu\\semester9\\ml_prosjekt\\venv\\lib\\site-packages\\autots\\tools\\transform.py:3804: FutureWarning: DataFrame.fillna with 'method' is deprecated and will raise in a future version. Use obj.ffill() or obj.bfill() instead.\n",
      "  diff_smoothed = diff_abs.where(diff_mask_0, np.nan).fillna(\n",
      "c:\\code\\ntnu\\semester9\\ml_prosjekt\\venv\\lib\\site-packages\\autots\\tools\\transform.py:3817: FutureWarning: DataFrame.fillna with 'method' is deprecated and will raise in a future version. Use obj.ffill() or obj.bfill() instead.\n",
      "  group_ids = range_arr[~diff_mask].fillna(method='ffill')  # [diff_mask]\n",
      "c:\\code\\ntnu\\semester9\\ml_prosjekt\\venv\\lib\\site-packages\\autots\\tools\\transform.py:3876: FutureWarning: DataFrame.fillna with 'method' is deprecated and will raise in a future version. Use obj.ffill() or obj.bfill() instead.\n",
      "  return df - self.lvlshft.reindex(index=df.index, columns=df.columns).fillna(\n",
      "c:\\code\\ntnu\\semester9\\ml_prosjekt\\venv\\lib\\site-packages\\autots\\tools\\transform.py:3886: FutureWarning: DataFrame.fillna with 'method' is deprecated and will raise in a future version. Use obj.ffill() or obj.bfill() instead.\n",
      "  return df + self.lvlshft.reindex(index=df.index, columns=df.columns).fillna(\n",
      "c:\\code\\ntnu\\semester9\\ml_prosjekt\\venv\\lib\\site-packages\\autots\\tools\\transform.py:3886: FutureWarning: DataFrame.fillna with 'method' is deprecated and will raise in a future version. Use obj.ffill() or obj.bfill() instead.\n",
      "  return df + self.lvlshft.reindex(index=df.index, columns=df.columns).fillna(\n",
      "c:\\code\\ntnu\\semester9\\ml_prosjekt\\venv\\lib\\site-packages\\autots\\tools\\transform.py:3886: FutureWarning: DataFrame.fillna with 'method' is deprecated and will raise in a future version. Use obj.ffill() or obj.bfill() instead.\n",
      "  return df + self.lvlshft.reindex(index=df.index, columns=df.columns).fillna(\n",
      "c:\\code\\ntnu\\semester9\\ml_prosjekt\\venv\\lib\\site-packages\\autots\\tools\\impute.py:42: FutureWarning: DataFrame.fillna with 'method' is deprecated and will raise in a future version. Use obj.ffill() or obj.bfill() instead.\n",
      "  df = df.fillna(method='ffill')\n",
      "c:\\code\\ntnu\\semester9\\ml_prosjekt\\venv\\lib\\site-packages\\autots\\tools\\impute.py:43: FutureWarning: DataFrame.fillna with 'method' is deprecated and will raise in a future version. Use obj.ffill() or obj.bfill() instead.\n",
      "  return df.fillna(method='bfill').fillna(0)\n"
     ]
    },
    {
     "name": "stdout",
     "output_type": "stream",
     "text": [
      "Model Number: 37 with model SeasonalNaive in generation 0 of 5\n",
      "Model Number: 38 with model SeasonalNaive in generation 0 of 5\n"
     ]
    },
    {
     "name": "stderr",
     "output_type": "stream",
     "text": [
      "c:\\code\\ntnu\\semester9\\ml_prosjekt\\venv\\lib\\site-packages\\autots\\tools\\impute.py:42: FutureWarning: DataFrame.fillna with 'method' is deprecated and will raise in a future version. Use obj.ffill() or obj.bfill() instead.\n",
      "  df = df.fillna(method='ffill')\n",
      "c:\\code\\ntnu\\semester9\\ml_prosjekt\\venv\\lib\\site-packages\\autots\\tools\\impute.py:43: FutureWarning: DataFrame.fillna with 'method' is deprecated and will raise in a future version. Use obj.ffill() or obj.bfill() instead.\n",
      "  return df.fillna(method='bfill').fillna(0)\n",
      "c:\\code\\ntnu\\semester9\\ml_prosjekt\\venv\\lib\\site-packages\\autots\\tools\\transform.py:1006: FutureWarning: The 'axis' keyword in DataFrame.groupby is deprecated and will be removed in a future version.\n",
      "  self.tile_values_lag_1 = df2.groupby(level=0, axis=0).mean()\n",
      "c:\\code\\ntnu\\semester9\\ml_prosjekt\\venv\\lib\\site-packages\\autots\\tools\\impute.py:42: FutureWarning: DataFrame.fillna with 'method' is deprecated and will raise in a future version. Use obj.ffill() or obj.bfill() instead.\n",
      "  df = df.fillna(method='ffill')\n",
      "c:\\code\\ntnu\\semester9\\ml_prosjekt\\venv\\lib\\site-packages\\autots\\tools\\impute.py:43: FutureWarning: DataFrame.fillna with 'method' is deprecated and will raise in a future version. Use obj.ffill() or obj.bfill() instead.\n",
      "  return df.fillna(method='bfill').fillna(0)\n",
      "c:\\code\\ntnu\\semester9\\ml_prosjekt\\venv\\lib\\site-packages\\autots\\models\\basics.py:442: FutureWarning: The 'axis' keyword in DataFrame.groupby is deprecated and will be removed in a future version.\n",
      "  self.tile_values_lag_1 = df.groupby(level=0, axis=0).mean()\n"
     ]
    },
    {
     "name": "stdout",
     "output_type": "stream",
     "text": [
      "Model Number: 39 with model LastValueNaive in generation 0 of 5\n",
      "Model Number: 40 with model SeasonalNaive in generation 0 of 5\n"
     ]
    },
    {
     "name": "stderr",
     "output_type": "stream",
     "text": [
      "c:\\code\\ntnu\\semester9\\ml_prosjekt\\venv\\lib\\site-packages\\autots\\tools\\impute.py:42: FutureWarning: DataFrame.fillna with 'method' is deprecated and will raise in a future version. Use obj.ffill() or obj.bfill() instead.\n",
      "  df = df.fillna(method='ffill')\n",
      "c:\\code\\ntnu\\semester9\\ml_prosjekt\\venv\\lib\\site-packages\\autots\\tools\\impute.py:43: FutureWarning: DataFrame.fillna with 'method' is deprecated and will raise in a future version. Use obj.ffill() or obj.bfill() instead.\n",
      "  return df.fillna(method='bfill').fillna(0)\n",
      "c:\\code\\ntnu\\semester9\\ml_prosjekt\\venv\\lib\\site-packages\\autots\\tools\\impute.py:243: FutureWarning: DataFrame.fillna with 'method' is deprecated and will raise in a future version. Use obj.ffill() or obj.bfill() instead.\n",
      "  df = df.interpolate(method=method, order=5).fillna(method='bfill')\n",
      "c:\\code\\ntnu\\semester9\\ml_prosjekt\\venv\\lib\\site-packages\\autots\\tools\\transform.py:403: FutureWarning: DataFrame.fillna with 'method' is deprecated and will raise in a future version. Use obj.ffill() or obj.bfill() instead.\n",
      "  df = (df - cycles).fillna(method=\"ffill\").fillna(method=\"bfill\")\n",
      "c:\\code\\ntnu\\semester9\\ml_prosjekt\\venv\\lib\\site-packages\\autots\\models\\basics.py:440: FutureWarning: The 'axis' keyword in DataFrame.groupby is deprecated and will be removed in a future version.\n",
      "  self.tile_values_lag_1 = df.groupby(level=0, axis=0).median()\n"
     ]
    },
    {
     "name": "stdout",
     "output_type": "stream",
     "text": [
      "Model Number: 41 with model ConstantNaive in generation 0 of 5\n",
      "Model Number: 42 with model ConstantNaive in generation 0 of 5\n",
      "Model Number: 43 with model LastValueNaive in generation 0 of 5\n"
     ]
    },
    {
     "name": "stderr",
     "output_type": "stream",
     "text": [
      "c:\\code\\ntnu\\semester9\\ml_prosjekt\\venv\\lib\\site-packages\\autots\\tools\\impute.py:42: FutureWarning: DataFrame.fillna with 'method' is deprecated and will raise in a future version. Use obj.ffill() or obj.bfill() instead.\n",
      "  df = df.fillna(method='ffill')\n",
      "c:\\code\\ntnu\\semester9\\ml_prosjekt\\venv\\lib\\site-packages\\autots\\tools\\impute.py:43: FutureWarning: DataFrame.fillna with 'method' is deprecated and will raise in a future version. Use obj.ffill() or obj.bfill() instead.\n",
      "  return df.fillna(method='bfill').fillna(0)\n",
      "c:\\code\\ntnu\\semester9\\ml_prosjekt\\venv\\lib\\site-packages\\autots\\tools\\impute.py:42: FutureWarning: DataFrame.fillna with 'method' is deprecated and will raise in a future version. Use obj.ffill() or obj.bfill() instead.\n",
      "  df = df.fillna(method='ffill')\n",
      "c:\\code\\ntnu\\semester9\\ml_prosjekt\\venv\\lib\\site-packages\\autots\\tools\\impute.py:43: FutureWarning: DataFrame.fillna with 'method' is deprecated and will raise in a future version. Use obj.ffill() or obj.bfill() instead.\n",
      "  return df.fillna(method='bfill').fillna(0)\n",
      "c:\\code\\ntnu\\semester9\\ml_prosjekt\\venv\\lib\\site-packages\\autots\\tools\\impute.py:42: FutureWarning: DataFrame.fillna with 'method' is deprecated and will raise in a future version. Use obj.ffill() or obj.bfill() instead.\n",
      "  df = df.fillna(method='ffill')\n",
      "c:\\code\\ntnu\\semester9\\ml_prosjekt\\venv\\lib\\site-packages\\autots\\tools\\impute.py:43: FutureWarning: DataFrame.fillna with 'method' is deprecated and will raise in a future version. Use obj.ffill() or obj.bfill() instead.\n",
      "  return df.fillna(method='bfill').fillna(0)\n",
      "c:\\code\\ntnu\\semester9\\ml_prosjekt\\venv\\lib\\site-packages\\autots\\tools\\impute.py:42: FutureWarning: DataFrame.fillna with 'method' is deprecated and will raise in a future version. Use obj.ffill() or obj.bfill() instead.\n",
      "  df = df.fillna(method='ffill')\n",
      "c:\\code\\ntnu\\semester9\\ml_prosjekt\\venv\\lib\\site-packages\\autots\\tools\\impute.py:43: FutureWarning: DataFrame.fillna with 'method' is deprecated and will raise in a future version. Use obj.ffill() or obj.bfill() instead.\n",
      "  return df.fillna(method='bfill').fillna(0)\n",
      "c:\\code\\ntnu\\semester9\\ml_prosjekt\\venv\\lib\\site-packages\\autots\\tools\\transform.py:1006: FutureWarning: The 'axis' keyword in DataFrame.groupby is deprecated and will be removed in a future version.\n",
      "  self.tile_values_lag_1 = df2.groupby(level=0, axis=0).mean()\n"
     ]
    },
    {
     "name": "stdout",
     "output_type": "stream",
     "text": [
      "Model Number: 44 with model LastValueNaive in generation 0 of 5\n"
     ]
    },
    {
     "name": "stderr",
     "output_type": "stream",
     "text": [
      "c:\\code\\ntnu\\semester9\\ml_prosjekt\\venv\\lib\\site-packages\\autots\\tools\\impute.py:243: FutureWarning: DataFrame.fillna with 'method' is deprecated and will raise in a future version. Use obj.ffill() or obj.bfill() instead.\n",
      "  df = df.interpolate(method=method, order=5).fillna(method='bfill')\n"
     ]
    },
    {
     "name": "stdout",
     "output_type": "stream",
     "text": [
      "Template Eval Error: Exception('Transformer AlignLastValue failed on inverse') in model 44 in generation 0: LastValueNaive\n",
      "Model Number: 45 with model AverageValueNaive in generation 0 of 5\n"
     ]
    },
    {
     "name": "stderr",
     "output_type": "stream",
     "text": [
      "c:\\code\\ntnu\\semester9\\ml_prosjekt\\venv\\lib\\site-packages\\autots\\tools\\transform.py:1442: FutureWarning: The 'fill_method' and 'limit' keywords in DataFrame.pct_change are deprecated and will be removed in a future version. Call ffill before calling pct_change instead.\n",
      "  df = df.pct_change(periods=1, fill_method=\"ffill\").fillna(0)\n",
      "c:\\code\\ntnu\\semester9\\ml_prosjekt\\venv\\lib\\site-packages\\autots\\tools\\impute.py:42: FutureWarning: DataFrame.fillna with 'method' is deprecated and will raise in a future version. Use obj.ffill() or obj.bfill() instead.\n",
      "  df = df.fillna(method='ffill')\n",
      "c:\\code\\ntnu\\semester9\\ml_prosjekt\\venv\\lib\\site-packages\\autots\\tools\\impute.py:43: FutureWarning: DataFrame.fillna with 'method' is deprecated and will raise in a future version. Use obj.ffill() or obj.bfill() instead.\n",
      "  return df.fillna(method='bfill').fillna(0)\n",
      "c:\\code\\ntnu\\semester9\\ml_prosjekt\\venv\\lib\\site-packages\\autots\\tools\\impute.py:243: FutureWarning: DataFrame.fillna with 'method' is deprecated and will raise in a future version. Use obj.ffill() or obj.bfill() instead.\n",
      "  df = df.interpolate(method=method, order=5).fillna(method='bfill')\n",
      "c:\\code\\ntnu\\semester9\\ml_prosjekt\\venv\\lib\\site-packages\\sklearn\\linear_model\\_ridge.py:200: LinAlgWarning: Ill-conditioned matrix (rcond=2.93493e-27): result may not be accurate.\n",
      "  return linalg.solve(A, Xy, assume_a=\"pos\", overwrite_a=True).T\n",
      "c:\\code\\ntnu\\semester9\\ml_prosjekt\\venv\\lib\\site-packages\\autots\\tools\\impute.py:42: FutureWarning: DataFrame.fillna with 'method' is deprecated and will raise in a future version. Use obj.ffill() or obj.bfill() instead.\n",
      "  df = df.fillna(method='ffill')\n",
      "c:\\code\\ntnu\\semester9\\ml_prosjekt\\venv\\lib\\site-packages\\autots\\tools\\impute.py:43: FutureWarning: DataFrame.fillna with 'method' is deprecated and will raise in a future version. Use obj.ffill() or obj.bfill() instead.\n",
      "  return df.fillna(method='bfill').fillna(0)\n"
     ]
    },
    {
     "name": "stdout",
     "output_type": "stream",
     "text": [
      "Model Number: 46 with model SeasonalityMotif in generation 0 of 5\n",
      "New Generation: 1 of 5\n",
      "Model Number: 47 with model LastValueNaive in generation 1 of 5\n",
      "Model Number: 48 with model SeasonalNaive in generation 1 of 5\n"
     ]
    },
    {
     "name": "stderr",
     "output_type": "stream",
     "text": [
      "c:\\code\\ntnu\\semester9\\ml_prosjekt\\venv\\lib\\site-packages\\autots\\tools\\impute.py:42: FutureWarning: DataFrame.fillna with 'method' is deprecated and will raise in a future version. Use obj.ffill() or obj.bfill() instead.\n",
      "  df = df.fillna(method='ffill')\n",
      "c:\\code\\ntnu\\semester9\\ml_prosjekt\\venv\\lib\\site-packages\\autots\\tools\\impute.py:43: FutureWarning: DataFrame.fillna with 'method' is deprecated and will raise in a future version. Use obj.ffill() or obj.bfill() instead.\n",
      "  return df.fillna(method='bfill').fillna(0)\n",
      "c:\\code\\ntnu\\semester9\\ml_prosjekt\\venv\\lib\\site-packages\\autots\\tools\\impute.py:42: FutureWarning: DataFrame.fillna with 'method' is deprecated and will raise in a future version. Use obj.ffill() or obj.bfill() instead.\n",
      "  df = df.fillna(method='ffill')\n",
      "c:\\code\\ntnu\\semester9\\ml_prosjekt\\venv\\lib\\site-packages\\autots\\tools\\impute.py:43: FutureWarning: DataFrame.fillna with 'method' is deprecated and will raise in a future version. Use obj.ffill() or obj.bfill() instead.\n",
      "  return df.fillna(method='bfill').fillna(0)\n"
     ]
    },
    {
     "name": "stdout",
     "output_type": "stream",
     "text": [
      "Model Number: 49 with model LastValueNaive in generation 1 of 5\n",
      "Model Number: 50 with model AverageValueNaive in generation 1 of 5\n"
     ]
    },
    {
     "name": "stderr",
     "output_type": "stream",
     "text": [
      "c:\\code\\ntnu\\semester9\\ml_prosjekt\\venv\\lib\\site-packages\\autots\\tools\\impute.py:42: FutureWarning: DataFrame.fillna with 'method' is deprecated and will raise in a future version. Use obj.ffill() or obj.bfill() instead.\n",
      "  df = df.fillna(method='ffill')\n",
      "c:\\code\\ntnu\\semester9\\ml_prosjekt\\venv\\lib\\site-packages\\autots\\tools\\impute.py:43: FutureWarning: DataFrame.fillna with 'method' is deprecated and will raise in a future version. Use obj.ffill() or obj.bfill() instead.\n",
      "  return df.fillna(method='bfill').fillna(0)\n",
      "c:\\code\\ntnu\\semester9\\ml_prosjekt\\venv\\lib\\site-packages\\autots\\tools\\transform.py:1377: FutureWarning: DataFrame.fillna with 'method' is deprecated and will raise in a future version. Use obj.ffill() or obj.bfill() instead.\n",
      "  df = (df - df.shift(self.lag)).fillna(method=\"bfill\")\n",
      "c:\\code\\ntnu\\semester9\\ml_prosjekt\\venv\\lib\\site-packages\\autots\\tools\\impute.py:42: FutureWarning: DataFrame.fillna with 'method' is deprecated and will raise in a future version. Use obj.ffill() or obj.bfill() instead.\n",
      "  df = df.fillna(method='ffill')\n",
      "c:\\code\\ntnu\\semester9\\ml_prosjekt\\venv\\lib\\site-packages\\autots\\tools\\impute.py:43: FutureWarning: DataFrame.fillna with 'method' is deprecated and will raise in a future version. Use obj.ffill() or obj.bfill() instead.\n",
      "  return df.fillna(method='bfill').fillna(0)\n",
      "c:\\code\\ntnu\\semester9\\ml_prosjekt\\venv\\lib\\site-packages\\autots\\tools\\transform.py:888: FutureWarning: DataFrame.fillna with 'method' is deprecated and will raise in a future version. Use obj.ffill() or obj.bfill() instead.\n",
      "  df.tail(self.window).fillna(method=\"ffill\").fillna(method=\"bfill\")\n",
      "c:\\code\\ntnu\\semester9\\ml_prosjekt\\venv\\lib\\site-packages\\autots\\tools\\transform.py:891: FutureWarning: DataFrame.fillna with 'method' is deprecated and will raise in a future version. Use obj.ffill() or obj.bfill() instead.\n",
      "  df.head(self.window).fillna(method=\"ffill\").fillna(method=\"bfill\")\n"
     ]
    },
    {
     "name": "stdout",
     "output_type": "stream",
     "text": [
      "Model Number: 51 with model GLS in generation 1 of 5\n"
     ]
    },
    {
     "name": "stderr",
     "output_type": "stream",
     "text": [
      "c:\\code\\ntnu\\semester9\\ml_prosjekt\\venv\\lib\\site-packages\\autots\\tools\\impute.py:243: FutureWarning: DataFrame.fillna with 'method' is deprecated and will raise in a future version. Use obj.ffill() or obj.bfill() instead.\n",
      "  df = df.interpolate(method=method, order=5).fillna(method='bfill')\n",
      "c:\\code\\ntnu\\semester9\\ml_prosjekt\\venv\\lib\\site-packages\\autots\\tools\\transform.py:1377: FutureWarning: DataFrame.fillna with 'method' is deprecated and will raise in a future version. Use obj.ffill() or obj.bfill() instead.\n",
      "  df = (df - df.shift(self.lag)).fillna(method=\"bfill\")\n"
     ]
    },
    {
     "name": "stdout",
     "output_type": "stream",
     "text": [
      "Model Number: 52 with model AverageValueNaive in generation 1 of 5\n"
     ]
    },
    {
     "name": "stderr",
     "output_type": "stream",
     "text": [
      "c:\\code\\ntnu\\semester9\\ml_prosjekt\\venv\\lib\\site-packages\\autots\\tools\\transform.py:1006: FutureWarning: The 'axis' keyword in DataFrame.groupby is deprecated and will be removed in a future version.\n",
      "  self.tile_values_lag_1 = df2.groupby(level=0, axis=0).mean()\n",
      "c:\\code\\ntnu\\semester9\\ml_prosjekt\\venv\\lib\\site-packages\\autots\\tools\\impute.py:243: FutureWarning: DataFrame.fillna with 'method' is deprecated and will raise in a future version. Use obj.ffill() or obj.bfill() instead.\n",
      "  df = df.interpolate(method=method, order=5).fillna(method='bfill')\n",
      "c:\\code\\ntnu\\semester9\\ml_prosjekt\\venv\\lib\\site-packages\\autots\\tools\\impute.py:243: FutureWarning: DataFrame.fillna with 'method' is deprecated and will raise in a future version. Use obj.ffill() or obj.bfill() instead.\n",
      "  df = df.interpolate(method=method, order=5).fillna(method='bfill')\n"
     ]
    },
    {
     "name": "stdout",
     "output_type": "stream",
     "text": [
      "Model Number: 53 with model AverageValueNaive in generation 1 of 5\n",
      "Template Eval Error: Exception('Transformer BTCD failed on fit') in model 53 in generation 1: AverageValueNaive\n",
      "Model Number: 54 with model GLS in generation 1 of 5\n",
      "Template Eval Error: Exception('Transformer AlignLastValue failed on inverse') in model 54 in generation 1: GLS\n",
      "Model Number: 55 with model LastValueNaive in generation 1 of 5\n",
      "Model Number: 56 with model SeasonalityMotif in generation 1 of 5\n"
     ]
    },
    {
     "name": "stderr",
     "output_type": "stream",
     "text": [
      "c:\\code\\ntnu\\semester9\\ml_prosjekt\\venv\\lib\\site-packages\\autots\\tools\\impute.py:42: FutureWarning: DataFrame.fillna with 'method' is deprecated and will raise in a future version. Use obj.ffill() or obj.bfill() instead.\n",
      "  df = df.fillna(method='ffill')\n",
      "c:\\code\\ntnu\\semester9\\ml_prosjekt\\venv\\lib\\site-packages\\autots\\tools\\impute.py:43: FutureWarning: DataFrame.fillna with 'method' is deprecated and will raise in a future version. Use obj.ffill() or obj.bfill() instead.\n",
      "  return df.fillna(method='bfill').fillna(0)\n",
      "c:\\code\\ntnu\\semester9\\ml_prosjekt\\venv\\lib\\site-packages\\autots\\tools\\impute.py:42: FutureWarning: DataFrame.fillna with 'method' is deprecated and will raise in a future version. Use obj.ffill() or obj.bfill() instead.\n",
      "  df = df.fillna(method='ffill')\n",
      "c:\\code\\ntnu\\semester9\\ml_prosjekt\\venv\\lib\\site-packages\\autots\\tools\\impute.py:43: FutureWarning: DataFrame.fillna with 'method' is deprecated and will raise in a future version. Use obj.ffill() or obj.bfill() instead.\n",
      "  return df.fillna(method='bfill').fillna(0)\n",
      "c:\\code\\ntnu\\semester9\\ml_prosjekt\\venv\\lib\\site-packages\\autots\\tools\\transform.py:403: FutureWarning: DataFrame.fillna with 'method' is deprecated and will raise in a future version. Use obj.ffill() or obj.bfill() instead.\n",
      "  df = (df - cycles).fillna(method=\"ffill\").fillna(method=\"bfill\")\n"
     ]
    },
    {
     "name": "stdout",
     "output_type": "stream",
     "text": [
      "Template Eval Error: MemoryError((36344, 1600, 52), dtype('float64')) in model 56 in generation 1: SeasonalityMotif\n",
      "Model Number: 57 with model SeasonalNaive in generation 1 of 5\n"
     ]
    },
    {
     "name": "stderr",
     "output_type": "stream",
     "text": [
      "c:\\code\\ntnu\\semester9\\ml_prosjekt\\venv\\lib\\site-packages\\autots\\tools\\impute.py:42: FutureWarning: DataFrame.fillna with 'method' is deprecated and will raise in a future version. Use obj.ffill() or obj.bfill() instead.\n",
      "  df = df.fillna(method='ffill')\n",
      "c:\\code\\ntnu\\semester9\\ml_prosjekt\\venv\\lib\\site-packages\\autots\\tools\\impute.py:43: FutureWarning: DataFrame.fillna with 'method' is deprecated and will raise in a future version. Use obj.ffill() or obj.bfill() instead.\n",
      "  return df.fillna(method='bfill').fillna(0)\n"
     ]
    },
    {
     "name": "stdout",
     "output_type": "stream",
     "text": [
      "Model Number: 58 with model AverageValueNaive in generation 1 of 5\n",
      "Model Number: 59 with model AverageValueNaive in generation 1 of 5\n",
      "Model Number: 60 with model ConstantNaive in generation 1 of 5\n",
      "Model Number: 61 with model SeasonalNaive in generation 1 of 5\n"
     ]
    },
    {
     "name": "stderr",
     "output_type": "stream",
     "text": [
      "c:\\code\\ntnu\\semester9\\ml_prosjekt\\venv\\lib\\site-packages\\autots\\tools\\impute.py:243: FutureWarning: DataFrame.interpolate with method=pad is deprecated and will raise in a future version. Use obj.ffill() or obj.bfill() instead.\n",
      "  df = df.interpolate(method=method, order=5).fillna(method='bfill')\n",
      "c:\\code\\ntnu\\semester9\\ml_prosjekt\\venv\\lib\\site-packages\\autots\\tools\\impute.py:243: FutureWarning: DataFrame.fillna with 'method' is deprecated and will raise in a future version. Use obj.ffill() or obj.bfill() instead.\n",
      "  df = df.interpolate(method=method, order=5).fillna(method='bfill')\n",
      "c:\\code\\ntnu\\semester9\\ml_prosjekt\\venv\\lib\\site-packages\\autots\\tools\\transform.py:1377: FutureWarning: DataFrame.fillna with 'method' is deprecated and will raise in a future version. Use obj.ffill() or obj.bfill() instead.\n",
      "  df = (df - df.shift(self.lag)).fillna(method=\"bfill\")\n",
      "c:\\code\\ntnu\\semester9\\ml_prosjekt\\venv\\lib\\site-packages\\autots\\tools\\transform.py:1377: FutureWarning: DataFrame.fillna with 'method' is deprecated and will raise in a future version. Use obj.ffill() or obj.bfill() instead.\n",
      "  df = (df - df.shift(self.lag)).fillna(method=\"bfill\")\n",
      "c:\\code\\ntnu\\semester9\\ml_prosjekt\\venv\\lib\\site-packages\\autots\\tools\\impute.py:42: FutureWarning: DataFrame.fillna with 'method' is deprecated and will raise in a future version. Use obj.ffill() or obj.bfill() instead.\n",
      "  df = df.fillna(method='ffill')\n",
      "c:\\code\\ntnu\\semester9\\ml_prosjekt\\venv\\lib\\site-packages\\autots\\tools\\impute.py:43: FutureWarning: DataFrame.fillna with 'method' is deprecated and will raise in a future version. Use obj.ffill() or obj.bfill() instead.\n",
      "  return df.fillna(method='bfill').fillna(0)\n",
      "c:\\code\\ntnu\\semester9\\ml_prosjekt\\venv\\lib\\site-packages\\autots\\models\\basics.py:440: FutureWarning: The 'axis' keyword in DataFrame.groupby is deprecated and will be removed in a future version.\n",
      "  self.tile_values_lag_1 = df.groupby(level=0, axis=0).median()\n"
     ]
    },
    {
     "name": "stdout",
     "output_type": "stream",
     "text": [
      "Model Number: 62 with model GLS in generation 1 of 5\n"
     ]
    },
    {
     "name": "stderr",
     "output_type": "stream",
     "text": [
      "c:\\code\\ntnu\\semester9\\ml_prosjekt\\venv\\lib\\site-packages\\autots\\tools\\transform.py:1377: FutureWarning: DataFrame.fillna with 'method' is deprecated and will raise in a future version. Use obj.ffill() or obj.bfill() instead.\n",
      "  df = (df - df.shift(self.lag)).fillna(method=\"bfill\")\n"
     ]
    },
    {
     "name": "stdout",
     "output_type": "stream",
     "text": [
      "Model Number: 63 with model SeasonalNaive in generation 1 of 5\n"
     ]
    },
    {
     "name": "stderr",
     "output_type": "stream",
     "text": [
      "c:\\code\\ntnu\\semester9\\ml_prosjekt\\venv\\lib\\site-packages\\autots\\tools\\impute.py:42: FutureWarning: DataFrame.fillna with 'method' is deprecated and will raise in a future version. Use obj.ffill() or obj.bfill() instead.\n",
      "  df = df.fillna(method='ffill')\n",
      "c:\\code\\ntnu\\semester9\\ml_prosjekt\\venv\\lib\\site-packages\\autots\\tools\\impute.py:43: FutureWarning: DataFrame.fillna with 'method' is deprecated and will raise in a future version. Use obj.ffill() or obj.bfill() instead.\n",
      "  return df.fillna(method='bfill').fillna(0)\n",
      "c:\\code\\ntnu\\semester9\\ml_prosjekt\\venv\\lib\\site-packages\\autots\\tools\\transform.py:403: FutureWarning: DataFrame.fillna with 'method' is deprecated and will raise in a future version. Use obj.ffill() or obj.bfill() instead.\n",
      "  df = (df - cycles).fillna(method=\"ffill\").fillna(method=\"bfill\")\n",
      "c:\\code\\ntnu\\semester9\\ml_prosjekt\\venv\\lib\\site-packages\\autots\\tools\\transform.py:1006: FutureWarning: The 'axis' keyword in DataFrame.groupby is deprecated and will be removed in a future version.\n",
      "  self.tile_values_lag_1 = df2.groupby(level=0, axis=0).mean()\n",
      "c:\\code\\ntnu\\semester9\\ml_prosjekt\\venv\\lib\\site-packages\\autots\\models\\basics.py:440: FutureWarning: The 'axis' keyword in DataFrame.groupby is deprecated and will be removed in a future version.\n",
      "  self.tile_values_lag_1 = df.groupby(level=0, axis=0).median()\n"
     ]
    },
    {
     "name": "stdout",
     "output_type": "stream",
     "text": [
      "Model Number: 64 with model GLS in generation 1 of 5\n"
     ]
    },
    {
     "name": "stderr",
     "output_type": "stream",
     "text": [
      "c:\\code\\ntnu\\semester9\\ml_prosjekt\\venv\\lib\\site-packages\\autots\\tools\\impute.py:243: FutureWarning: DataFrame.fillna with 'method' is deprecated and will raise in a future version. Use obj.ffill() or obj.bfill() instead.\n",
      "  df = df.interpolate(method=method, order=5).fillna(method='bfill')\n",
      "c:\\code\\ntnu\\semester9\\ml_prosjekt\\venv\\lib\\site-packages\\autots\\tools\\transform.py:1377: FutureWarning: DataFrame.fillna with 'method' is deprecated and will raise in a future version. Use obj.ffill() or obj.bfill() instead.\n",
      "  df = (df - df.shift(self.lag)).fillna(method=\"bfill\")\n",
      "c:\\code\\ntnu\\semester9\\ml_prosjekt\\venv\\lib\\site-packages\\autots\\tools\\transform.py:3804: FutureWarning: DataFrame.fillna with 'method' is deprecated and will raise in a future version. Use obj.ffill() or obj.bfill() instead.\n",
      "  diff_smoothed = diff_abs.where(diff_mask_0, np.nan).fillna(\n",
      "c:\\code\\ntnu\\semester9\\ml_prosjekt\\venv\\lib\\site-packages\\autots\\tools\\transform.py:3817: FutureWarning: DataFrame.fillna with 'method' is deprecated and will raise in a future version. Use obj.ffill() or obj.bfill() instead.\n",
      "  group_ids = range_arr[~diff_mask].fillna(method='ffill')  # [diff_mask]\n",
      "c:\\code\\ntnu\\semester9\\ml_prosjekt\\venv\\lib\\site-packages\\autots\\tools\\transform.py:3876: FutureWarning: DataFrame.fillna with 'method' is deprecated and will raise in a future version. Use obj.ffill() or obj.bfill() instead.\n",
      "  return df - self.lvlshft.reindex(index=df.index, columns=df.columns).fillna(\n",
      "c:\\code\\ntnu\\semester9\\ml_prosjekt\\venv\\lib\\site-packages\\autots\\tools\\transform.py:3886: FutureWarning: DataFrame.fillna with 'method' is deprecated and will raise in a future version. Use obj.ffill() or obj.bfill() instead.\n",
      "  return df + self.lvlshft.reindex(index=df.index, columns=df.columns).fillna(\n",
      "c:\\code\\ntnu\\semester9\\ml_prosjekt\\venv\\lib\\site-packages\\autots\\tools\\transform.py:1377: FutureWarning: DataFrame.fillna with 'method' is deprecated and will raise in a future version. Use obj.ffill() or obj.bfill() instead.\n",
      "  df = (df - df.shift(self.lag)).fillna(method=\"bfill\")\n"
     ]
    },
    {
     "name": "stdout",
     "output_type": "stream",
     "text": [
      "Model Number: 65 with model SeasonalNaive in generation 1 of 5\n",
      "Model Number: 66 with model LastValueNaive in generation 1 of 5\n"
     ]
    },
    {
     "name": "stderr",
     "output_type": "stream",
     "text": [
      "c:\\code\\ntnu\\semester9\\ml_prosjekt\\venv\\lib\\site-packages\\autots\\tools\\impute.py:42: FutureWarning: DataFrame.fillna with 'method' is deprecated and will raise in a future version. Use obj.ffill() or obj.bfill() instead.\n",
      "  df = df.fillna(method='ffill')\n",
      "c:\\code\\ntnu\\semester9\\ml_prosjekt\\venv\\lib\\site-packages\\autots\\tools\\impute.py:43: FutureWarning: DataFrame.fillna with 'method' is deprecated and will raise in a future version. Use obj.ffill() or obj.bfill() instead.\n",
      "  return df.fillna(method='bfill').fillna(0)\n",
      "c:\\code\\ntnu\\semester9\\ml_prosjekt\\venv\\lib\\site-packages\\autots\\tools\\transform.py:1377: FutureWarning: DataFrame.fillna with 'method' is deprecated and will raise in a future version. Use obj.ffill() or obj.bfill() instead.\n",
      "  df = (df - df.shift(self.lag)).fillna(method=\"bfill\")\n",
      "c:\\code\\ntnu\\semester9\\ml_prosjekt\\venv\\lib\\site-packages\\autots\\tools\\impute.py:42: FutureWarning: DataFrame.fillna with 'method' is deprecated and will raise in a future version. Use obj.ffill() or obj.bfill() instead.\n",
      "  df = df.fillna(method='ffill')\n",
      "c:\\code\\ntnu\\semester9\\ml_prosjekt\\venv\\lib\\site-packages\\autots\\tools\\impute.py:43: FutureWarning: DataFrame.fillna with 'method' is deprecated and will raise in a future version. Use obj.ffill() or obj.bfill() instead.\n",
      "  return df.fillna(method='bfill').fillna(0)\n"
     ]
    },
    {
     "name": "stdout",
     "output_type": "stream",
     "text": [
      "Model Number: 67 with model LastValueNaive in generation 1 of 5\n",
      "Model Number: 68 with model SeasonalNaive in generation 1 of 5\n"
     ]
    },
    {
     "name": "stderr",
     "output_type": "stream",
     "text": [
      "c:\\code\\ntnu\\semester9\\ml_prosjekt\\venv\\lib\\site-packages\\autots\\tools\\impute.py:243: FutureWarning: DataFrame.fillna with 'method' is deprecated and will raise in a future version. Use obj.ffill() or obj.bfill() instead.\n",
      "  df = df.interpolate(method=method, order=5).fillna(method='bfill')\n",
      "c:\\code\\ntnu\\semester9\\ml_prosjekt\\venv\\lib\\site-packages\\autots\\tools\\impute.py:42: FutureWarning: DataFrame.fillna with 'method' is deprecated and will raise in a future version. Use obj.ffill() or obj.bfill() instead.\n",
      "  df = df.fillna(method='ffill')\n",
      "c:\\code\\ntnu\\semester9\\ml_prosjekt\\venv\\lib\\site-packages\\autots\\tools\\impute.py:43: FutureWarning: DataFrame.fillna with 'method' is deprecated and will raise in a future version. Use obj.ffill() or obj.bfill() instead.\n",
      "  return df.fillna(method='bfill').fillna(0)\n",
      "c:\\code\\ntnu\\semester9\\ml_prosjekt\\venv\\lib\\site-packages\\autots\\models\\basics.py:440: FutureWarning: The 'axis' keyword in DataFrame.groupby is deprecated and will be removed in a future version.\n",
      "  self.tile_values_lag_1 = df.groupby(level=0, axis=0).median()\n"
     ]
    },
    {
     "name": "stdout",
     "output_type": "stream",
     "text": [
      "Model Number: 69 with model LastValueNaive in generation 1 of 5\n"
     ]
    },
    {
     "name": "stderr",
     "output_type": "stream",
     "text": [
      "c:\\code\\ntnu\\semester9\\ml_prosjekt\\venv\\lib\\site-packages\\autots\\tools\\impute.py:42: FutureWarning: DataFrame.fillna with 'method' is deprecated and will raise in a future version. Use obj.ffill() or obj.bfill() instead.\n",
      "  df = df.fillna(method='ffill')\n",
      "c:\\code\\ntnu\\semester9\\ml_prosjekt\\venv\\lib\\site-packages\\autots\\tools\\impute.py:43: FutureWarning: DataFrame.fillna with 'method' is deprecated and will raise in a future version. Use obj.ffill() or obj.bfill() instead.\n",
      "  return df.fillna(method='bfill').fillna(0)\n",
      "c:\\code\\ntnu\\semester9\\ml_prosjekt\\venv\\lib\\site-packages\\sklearn\\neural_network\\_multilayer_perceptron.py:546: ConvergenceWarning: lbfgs failed to converge (status=1):\n",
      "STOP: TOTAL NO. of ITERATIONS REACHED LIMIT.\n",
      "\n",
      "Increase the number of iterations (max_iter) or scale the data as shown in:\n",
      "    https://scikit-learn.org/stable/modules/preprocessing.html\n",
      "  self.n_iter_ = _check_optimize_result(\"lbfgs\", opt_res, self.max_iter)\n"
     ]
    },
    {
     "name": "stdout",
     "output_type": "stream",
     "text": [
      "Model Number: 70 with model SeasonalNaive in generation 1 of 5\n",
      "Model Number: 71 with model AverageValueNaive in generation 1 of 5\n",
      "Model Number: 72 with model LastValueNaive in generation 1 of 5\n",
      "Model Number: 73 with model LastValueNaive in generation 1 of 5\n"
     ]
    },
    {
     "name": "stderr",
     "output_type": "stream",
     "text": [
      "c:\\code\\ntnu\\semester9\\ml_prosjekt\\venv\\lib\\site-packages\\autots\\tools\\transform.py:1377: FutureWarning: DataFrame.fillna with 'method' is deprecated and will raise in a future version. Use obj.ffill() or obj.bfill() instead.\n",
      "  df = (df - df.shift(self.lag)).fillna(method=\"bfill\")\n",
      "c:\\code\\ntnu\\semester9\\ml_prosjekt\\venv\\lib\\site-packages\\autots\\tools\\impute.py:42: FutureWarning: DataFrame.fillna with 'method' is deprecated and will raise in a future version. Use obj.ffill() or obj.bfill() instead.\n",
      "  df = df.fillna(method='ffill')\n",
      "c:\\code\\ntnu\\semester9\\ml_prosjekt\\venv\\lib\\site-packages\\autots\\tools\\impute.py:43: FutureWarning: DataFrame.fillna with 'method' is deprecated and will raise in a future version. Use obj.ffill() or obj.bfill() instead.\n",
      "  return df.fillna(method='bfill').fillna(0)\n",
      "c:\\code\\ntnu\\semester9\\ml_prosjekt\\venv\\lib\\site-packages\\autots\\tools\\transform.py:1377: FutureWarning: DataFrame.fillna with 'method' is deprecated and will raise in a future version. Use obj.ffill() or obj.bfill() instead.\n",
      "  df = (df - df.shift(self.lag)).fillna(method=\"bfill\")\n",
      "c:\\code\\ntnu\\semester9\\ml_prosjekt\\venv\\lib\\site-packages\\autots\\tools\\impute.py:42: FutureWarning: DataFrame.fillna with 'method' is deprecated and will raise in a future version. Use obj.ffill() or obj.bfill() instead.\n",
      "  df = df.fillna(method='ffill')\n",
      "c:\\code\\ntnu\\semester9\\ml_prosjekt\\venv\\lib\\site-packages\\autots\\tools\\impute.py:43: FutureWarning: DataFrame.fillna with 'method' is deprecated and will raise in a future version. Use obj.ffill() or obj.bfill() instead.\n",
      "  return df.fillna(method='bfill').fillna(0)\n",
      "c:\\code\\ntnu\\semester9\\ml_prosjekt\\venv\\lib\\site-packages\\autots\\tools\\transform.py:403: FutureWarning: DataFrame.fillna with 'method' is deprecated and will raise in a future version. Use obj.ffill() or obj.bfill() instead.\n",
      "  df = (df - cycles).fillna(method=\"ffill\").fillna(method=\"bfill\")\n",
      "c:\\code\\ntnu\\semester9\\ml_prosjekt\\venv\\lib\\site-packages\\autots\\tools\\impute.py:243: FutureWarning: DataFrame.fillna with 'method' is deprecated and will raise in a future version. Use obj.ffill() or obj.bfill() instead.\n",
      "  df = df.interpolate(method=method, order=5).fillna(method='bfill')\n",
      "c:\\code\\ntnu\\semester9\\ml_prosjekt\\venv\\lib\\site-packages\\autots\\tools\\transform.py:1377: FutureWarning: DataFrame.fillna with 'method' is deprecated and will raise in a future version. Use obj.ffill() or obj.bfill() instead.\n",
      "  df = (df - df.shift(self.lag)).fillna(method=\"bfill\")\n"
     ]
    },
    {
     "name": "stdout",
     "output_type": "stream",
     "text": [
      "Model Number: 74 with model GLS in generation 1 of 5\n",
      "Model Number: 75 with model AverageValueNaive in generation 1 of 5\n",
      "Model Number: 76 with model SeasonalNaive in generation 1 of 5\n"
     ]
    },
    {
     "name": "stderr",
     "output_type": "stream",
     "text": [
      "c:\\code\\ntnu\\semester9\\ml_prosjekt\\venv\\lib\\site-packages\\autots\\tools\\impute.py:42: FutureWarning: DataFrame.fillna with 'method' is deprecated and will raise in a future version. Use obj.ffill() or obj.bfill() instead.\n",
      "  df = df.fillna(method='ffill')\n",
      "c:\\code\\ntnu\\semester9\\ml_prosjekt\\venv\\lib\\site-packages\\autots\\tools\\impute.py:43: FutureWarning: DataFrame.fillna with 'method' is deprecated and will raise in a future version. Use obj.ffill() or obj.bfill() instead.\n",
      "  return df.fillna(method='bfill').fillna(0)\n",
      "c:\\code\\ntnu\\semester9\\ml_prosjekt\\venv\\lib\\site-packages\\autots\\tools\\transform.py:3804: FutureWarning: DataFrame.fillna with 'method' is deprecated and will raise in a future version. Use obj.ffill() or obj.bfill() instead.\n",
      "  diff_smoothed = diff_abs.where(diff_mask_0, np.nan).fillna(\n",
      "c:\\code\\ntnu\\semester9\\ml_prosjekt\\venv\\lib\\site-packages\\autots\\tools\\transform.py:3817: FutureWarning: DataFrame.fillna with 'method' is deprecated and will raise in a future version. Use obj.ffill() or obj.bfill() instead.\n",
      "  group_ids = range_arr[~diff_mask].fillna(method='ffill')  # [diff_mask]\n",
      "c:\\code\\ntnu\\semester9\\ml_prosjekt\\venv\\lib\\site-packages\\autots\\tools\\transform.py:3876: FutureWarning: DataFrame.fillna with 'method' is deprecated and will raise in a future version. Use obj.ffill() or obj.bfill() instead.\n",
      "  return df - self.lvlshft.reindex(index=df.index, columns=df.columns).fillna(\n",
      "c:\\code\\ntnu\\semester9\\ml_prosjekt\\venv\\lib\\site-packages\\autots\\tools\\transform.py:3886: FutureWarning: DataFrame.fillna with 'method' is deprecated and will raise in a future version. Use obj.ffill() or obj.bfill() instead.\n",
      "  return df + self.lvlshft.reindex(index=df.index, columns=df.columns).fillna(\n",
      "c:\\code\\ntnu\\semester9\\ml_prosjekt\\venv\\lib\\site-packages\\autots\\tools\\transform.py:3886: FutureWarning: DataFrame.fillna with 'method' is deprecated and will raise in a future version. Use obj.ffill() or obj.bfill() instead.\n",
      "  return df + self.lvlshft.reindex(index=df.index, columns=df.columns).fillna(\n",
      "c:\\code\\ntnu\\semester9\\ml_prosjekt\\venv\\lib\\site-packages\\autots\\tools\\transform.py:3886: FutureWarning: DataFrame.fillna with 'method' is deprecated and will raise in a future version. Use obj.ffill() or obj.bfill() instead.\n",
      "  return df + self.lvlshft.reindex(index=df.index, columns=df.columns).fillna(\n",
      "c:\\code\\ntnu\\semester9\\ml_prosjekt\\venv\\lib\\site-packages\\autots\\tools\\impute.py:42: FutureWarning: DataFrame.fillna with 'method' is deprecated and will raise in a future version. Use obj.ffill() or obj.bfill() instead.\n",
      "  df = df.fillna(method='ffill')\n",
      "c:\\code\\ntnu\\semester9\\ml_prosjekt\\venv\\lib\\site-packages\\autots\\tools\\impute.py:43: FutureWarning: DataFrame.fillna with 'method' is deprecated and will raise in a future version. Use obj.ffill() or obj.bfill() instead.\n",
      "  return df.fillna(method='bfill').fillna(0)\n"
     ]
    },
    {
     "name": "stdout",
     "output_type": "stream",
     "text": [
      "New Generation: 2 of 5\n",
      "Model Number: 77 with model GLS in generation 2 of 5\n"
     ]
    },
    {
     "name": "stderr",
     "output_type": "stream",
     "text": [
      "c:\\code\\ntnu\\semester9\\ml_prosjekt\\venv\\lib\\site-packages\\autots\\tools\\transform.py:403: FutureWarning: DataFrame.fillna with 'method' is deprecated and will raise in a future version. Use obj.ffill() or obj.bfill() instead.\n",
      "  df = (df - cycles).fillna(method=\"ffill\").fillna(method=\"bfill\")\n"
     ]
    },
    {
     "name": "stdout",
     "output_type": "stream",
     "text": [
      "Model Number: 78 with model SeasonalNaive in generation 2 of 5\n"
     ]
    },
    {
     "name": "stderr",
     "output_type": "stream",
     "text": [
      "c:\\code\\ntnu\\semester9\\ml_prosjekt\\venv\\lib\\site-packages\\autots\\tools\\impute.py:42: FutureWarning: DataFrame.fillna with 'method' is deprecated and will raise in a future version. Use obj.ffill() or obj.bfill() instead.\n",
      "  df = df.fillna(method='ffill')\n",
      "c:\\code\\ntnu\\semester9\\ml_prosjekt\\venv\\lib\\site-packages\\autots\\tools\\impute.py:43: FutureWarning: DataFrame.fillna with 'method' is deprecated and will raise in a future version. Use obj.ffill() or obj.bfill() instead.\n",
      "  return df.fillna(method='bfill').fillna(0)\n",
      "c:\\code\\ntnu\\semester9\\ml_prosjekt\\venv\\lib\\site-packages\\autots\\models\\basics.py:440: FutureWarning: The 'axis' keyword in DataFrame.groupby is deprecated and will be removed in a future version.\n",
      "  self.tile_values_lag_1 = df.groupby(level=0, axis=0).median()\n"
     ]
    },
    {
     "name": "stdout",
     "output_type": "stream",
     "text": [
      "Model Number: 79 with model LastValueNaive in generation 2 of 5\n",
      "Model Number: 80 with model GLS in generation 2 of 5\n"
     ]
    },
    {
     "name": "stderr",
     "output_type": "stream",
     "text": [
      "c:\\code\\ntnu\\semester9\\ml_prosjekt\\venv\\lib\\site-packages\\autots\\tools\\impute.py:42: FutureWarning: DataFrame.fillna with 'method' is deprecated and will raise in a future version. Use obj.ffill() or obj.bfill() instead.\n",
      "  df = df.fillna(method='ffill')\n",
      "c:\\code\\ntnu\\semester9\\ml_prosjekt\\venv\\lib\\site-packages\\autots\\tools\\impute.py:43: FutureWarning: DataFrame.fillna with 'method' is deprecated and will raise in a future version. Use obj.ffill() or obj.bfill() instead.\n",
      "  return df.fillna(method='bfill').fillna(0)\n",
      "c:\\code\\ntnu\\semester9\\ml_prosjekt\\venv\\lib\\site-packages\\autots\\tools\\transform.py:1377: FutureWarning: DataFrame.fillna with 'method' is deprecated and will raise in a future version. Use obj.ffill() or obj.bfill() instead.\n",
      "  df = (df - df.shift(self.lag)).fillna(method=\"bfill\")\n"
     ]
    },
    {
     "name": "stdout",
     "output_type": "stream",
     "text": [
      "Model Number: 81 with model SeasonalNaive in generation 2 of 5\n"
     ]
    },
    {
     "name": "stderr",
     "output_type": "stream",
     "text": [
      "c:\\code\\ntnu\\semester9\\ml_prosjekt\\venv\\lib\\site-packages\\autots\\tools\\transform.py:1004: FutureWarning: The 'axis' keyword in DataFrame.groupby is deprecated and will be removed in a future version.\n",
      "  self.tile_values_lag_1 = df2.groupby(level=0, axis=0).median()\n"
     ]
    },
    {
     "name": "stdout",
     "output_type": "stream",
     "text": [
      "Model Number: 82 with model LastValueNaive in generation 2 of 5\n",
      "Model Number: 83 with model SeasonalNaive in generation 2 of 5\n"
     ]
    },
    {
     "name": "stderr",
     "output_type": "stream",
     "text": [
      "c:\\code\\ntnu\\semester9\\ml_prosjekt\\venv\\lib\\site-packages\\autots\\tools\\impute.py:42: FutureWarning: DataFrame.fillna with 'method' is deprecated and will raise in a future version. Use obj.ffill() or obj.bfill() instead.\n",
      "  df = df.fillna(method='ffill')\n",
      "c:\\code\\ntnu\\semester9\\ml_prosjekt\\venv\\lib\\site-packages\\autots\\tools\\impute.py:43: FutureWarning: DataFrame.fillna with 'method' is deprecated and will raise in a future version. Use obj.ffill() or obj.bfill() instead.\n",
      "  return df.fillna(method='bfill').fillna(0)\n"
     ]
    },
    {
     "name": "stdout",
     "output_type": "stream",
     "text": [
      "Model Number: 84 with model SeasonalNaive in generation 2 of 5\n"
     ]
    },
    {
     "name": "stderr",
     "output_type": "stream",
     "text": [
      "c:\\code\\ntnu\\semester9\\ml_prosjekt\\venv\\lib\\site-packages\\autots\\tools\\transform.py:1377: FutureWarning: DataFrame.fillna with 'method' is deprecated and will raise in a future version. Use obj.ffill() or obj.bfill() instead.\n",
      "  df = (df - df.shift(self.lag)).fillna(method=\"bfill\")\n",
      "c:\\code\\ntnu\\semester9\\ml_prosjekt\\venv\\lib\\site-packages\\autots\\models\\basics.py:442: FutureWarning: The 'axis' keyword in DataFrame.groupby is deprecated and will be removed in a future version.\n",
      "  self.tile_values_lag_1 = df.groupby(level=0, axis=0).mean()\n"
     ]
    },
    {
     "name": "stdout",
     "output_type": "stream",
     "text": [
      "Model Number: 85 with model GLS in generation 2 of 5\n"
     ]
    },
    {
     "name": "stderr",
     "output_type": "stream",
     "text": [
      "c:\\code\\ntnu\\semester9\\ml_prosjekt\\venv\\lib\\site-packages\\autots\\tools\\impute.py:243: FutureWarning: DataFrame.fillna with 'method' is deprecated and will raise in a future version. Use obj.ffill() or obj.bfill() instead.\n",
      "  df = df.interpolate(method=method, order=5).fillna(method='bfill')\n",
      "c:\\code\\ntnu\\semester9\\ml_prosjekt\\venv\\lib\\site-packages\\autots\\tools\\transform.py:1006: FutureWarning: The 'axis' keyword in DataFrame.groupby is deprecated and will be removed in a future version.\n",
      "  self.tile_values_lag_1 = df2.groupby(level=0, axis=0).mean()\n"
     ]
    },
    {
     "name": "stdout",
     "output_type": "stream",
     "text": [
      "Model Number: 86 with model SeasonalNaive in generation 2 of 5\n"
     ]
    },
    {
     "name": "stderr",
     "output_type": "stream",
     "text": [
      "c:\\code\\ntnu\\semester9\\ml_prosjekt\\venv\\lib\\site-packages\\autots\\tools\\transform.py:403: FutureWarning: DataFrame.fillna with 'method' is deprecated and will raise in a future version. Use obj.ffill() or obj.bfill() instead.\n",
      "  df = (df - cycles).fillna(method=\"ffill\").fillna(method=\"bfill\")\n",
      "c:\\code\\ntnu\\semester9\\ml_prosjekt\\venv\\lib\\site-packages\\autots\\tools\\transform.py:1377: FutureWarning: DataFrame.fillna with 'method' is deprecated and will raise in a future version. Use obj.ffill() or obj.bfill() instead.\n",
      "  df = (df - df.shift(self.lag)).fillna(method=\"bfill\")\n",
      "c:\\code\\ntnu\\semester9\\ml_prosjekt\\venv\\lib\\site-packages\\autots\\models\\basics.py:442: FutureWarning: The 'axis' keyword in DataFrame.groupby is deprecated and will be removed in a future version.\n",
      "  self.tile_values_lag_1 = df.groupby(level=0, axis=0).mean()\n"
     ]
    },
    {
     "name": "stdout",
     "output_type": "stream",
     "text": [
      "Model Number: 87 with model AverageValueNaive in generation 2 of 5\n"
     ]
    },
    {
     "name": "stderr",
     "output_type": "stream",
     "text": [
      "c:\\code\\ntnu\\semester9\\ml_prosjekt\\venv\\lib\\site-packages\\autots\\tools\\transform.py:1006: FutureWarning: The 'axis' keyword in DataFrame.groupby is deprecated and will be removed in a future version.\n",
      "  self.tile_values_lag_1 = df2.groupby(level=0, axis=0).mean()\n",
      "c:\\code\\ntnu\\semester9\\ml_prosjekt\\venv\\lib\\site-packages\\autots\\tools\\transform.py:1377: FutureWarning: DataFrame.fillna with 'method' is deprecated and will raise in a future version. Use obj.ffill() or obj.bfill() instead.\n",
      "  df = (df - df.shift(self.lag)).fillna(method=\"bfill\")\n",
      "c:\\code\\ntnu\\semester9\\ml_prosjekt\\venv\\lib\\site-packages\\autots\\tools\\transform.py:1377: FutureWarning: DataFrame.fillna with 'method' is deprecated and will raise in a future version. Use obj.ffill() or obj.bfill() instead.\n",
      "  df = (df - df.shift(self.lag)).fillna(method=\"bfill\")\n",
      "c:\\code\\ntnu\\semester9\\ml_prosjekt\\venv\\lib\\site-packages\\autots\\models\\basics.py:440: FutureWarning: The 'axis' keyword in DataFrame.groupby is deprecated and will be removed in a future version.\n",
      "  self.tile_values_lag_1 = df.groupby(level=0, axis=0).median()\n",
      "c:\\code\\ntnu\\semester9\\ml_prosjekt\\venv\\lib\\site-packages\\autots\\models\\basics.py:453: FutureWarning: The 'axis' keyword in DataFrame.groupby is deprecated and will be removed in a future version.\n",
      "  self.tile_values_lag_2 = df.groupby(level=0, axis=0).median()\n"
     ]
    },
    {
     "name": "stdout",
     "output_type": "stream",
     "text": [
      "Model Number: 88 with model AverageValueNaive in generation 2 of 5\n",
      "Template Eval Error: Exception('Transformer AlignLastValue failed on inverse') in model 88 in generation 2: AverageValueNaive\n",
      "Model Number: 89 with model SeasonalNaive in generation 2 of 5\n",
      "Model Number: 90 with model AverageValueNaive in generation 2 of 5\n",
      "Model Number: 91 with model SeasonalNaive in generation 2 of 5\n"
     ]
    },
    {
     "name": "stderr",
     "output_type": "stream",
     "text": [
      "c:\\code\\ntnu\\semester9\\ml_prosjekt\\venv\\lib\\site-packages\\autots\\tools\\transform.py:1004: FutureWarning: The 'axis' keyword in DataFrame.groupby is deprecated and will be removed in a future version.\n",
      "  self.tile_values_lag_1 = df2.groupby(level=0, axis=0).median()\n"
     ]
    },
    {
     "name": "stdout",
     "output_type": "stream",
     "text": [
      "Model Number: 92 with model SeasonalNaive in generation 2 of 5\n"
     ]
    },
    {
     "name": "stderr",
     "output_type": "stream",
     "text": [
      "c:\\code\\ntnu\\semester9\\ml_prosjekt\\venv\\lib\\site-packages\\autots\\tools\\impute.py:42: FutureWarning: DataFrame.fillna with 'method' is deprecated and will raise in a future version. Use obj.ffill() or obj.bfill() instead.\n",
      "  df = df.fillna(method='ffill')\n",
      "c:\\code\\ntnu\\semester9\\ml_prosjekt\\venv\\lib\\site-packages\\autots\\tools\\impute.py:43: FutureWarning: DataFrame.fillna with 'method' is deprecated and will raise in a future version. Use obj.ffill() or obj.bfill() instead.\n",
      "  return df.fillna(method='bfill').fillna(0)\n",
      "c:\\code\\ntnu\\semester9\\ml_prosjekt\\venv\\lib\\site-packages\\autots\\models\\basics.py:442: FutureWarning: The 'axis' keyword in DataFrame.groupby is deprecated and will be removed in a future version.\n",
      "  self.tile_values_lag_1 = df.groupby(level=0, axis=0).mean()\n"
     ]
    },
    {
     "name": "stdout",
     "output_type": "stream",
     "text": [
      "Model Number: 93 with model AverageValueNaive in generation 2 of 5\n",
      "Model Number: 94 with model SeasonalNaive in generation 2 of 5\n"
     ]
    },
    {
     "name": "stderr",
     "output_type": "stream",
     "text": [
      "c:\\code\\ntnu\\semester9\\ml_prosjekt\\venv\\lib\\site-packages\\autots\\tools\\transform.py:403: FutureWarning: DataFrame.fillna with 'method' is deprecated and will raise in a future version. Use obj.ffill() or obj.bfill() instead.\n",
      "  df = (df - cycles).fillna(method=\"ffill\").fillna(method=\"bfill\")\n",
      "c:\\code\\ntnu\\semester9\\ml_prosjekt\\venv\\lib\\site-packages\\autots\\tools\\transform.py:1377: FutureWarning: DataFrame.fillna with 'method' is deprecated and will raise in a future version. Use obj.ffill() or obj.bfill() instead.\n",
      "  df = (df - df.shift(self.lag)).fillna(method=\"bfill\")\n"
     ]
    },
    {
     "name": "stdout",
     "output_type": "stream",
     "text": [
      "Model Number: 95 with model GLS in generation 2 of 5\n"
     ]
    },
    {
     "name": "stderr",
     "output_type": "stream",
     "text": [
      "c:\\code\\ntnu\\semester9\\ml_prosjekt\\venv\\lib\\site-packages\\autots\\tools\\impute.py:42: FutureWarning: DataFrame.fillna with 'method' is deprecated and will raise in a future version. Use obj.ffill() or obj.bfill() instead.\n",
      "  df = df.fillna(method='ffill')\n",
      "c:\\code\\ntnu\\semester9\\ml_prosjekt\\venv\\lib\\site-packages\\autots\\tools\\impute.py:43: FutureWarning: DataFrame.fillna with 'method' is deprecated and will raise in a future version. Use obj.ffill() or obj.bfill() instead.\n",
      "  return df.fillna(method='bfill').fillna(0)\n",
      "c:\\code\\ntnu\\semester9\\ml_prosjekt\\venv\\lib\\site-packages\\autots\\tools\\transform.py:1377: FutureWarning: DataFrame.fillna with 'method' is deprecated and will raise in a future version. Use obj.ffill() or obj.bfill() instead.\n",
      "  df = (df - df.shift(self.lag)).fillna(method=\"bfill\")\n"
     ]
    },
    {
     "name": "stdout",
     "output_type": "stream",
     "text": [
      "Model Number: 96 with model LastValueNaive in generation 2 of 5\n",
      "Model Number: 97 with model AverageValueNaive in generation 2 of 5\n",
      "Model Number: 98 with model GLS in generation 2 of 5\n"
     ]
    },
    {
     "name": "stderr",
     "output_type": "stream",
     "text": [
      "c:\\code\\ntnu\\semester9\\ml_prosjekt\\venv\\lib\\site-packages\\autots\\tools\\impute.py:42: FutureWarning: DataFrame.fillna with 'method' is deprecated and will raise in a future version. Use obj.ffill() or obj.bfill() instead.\n",
      "  df = df.fillna(method='ffill')\n",
      "c:\\code\\ntnu\\semester9\\ml_prosjekt\\venv\\lib\\site-packages\\autots\\tools\\impute.py:43: FutureWarning: DataFrame.fillna with 'method' is deprecated and will raise in a future version. Use obj.ffill() or obj.bfill() instead.\n",
      "  return df.fillna(method='bfill').fillna(0)\n",
      "c:\\code\\ntnu\\semester9\\ml_prosjekt\\venv\\lib\\site-packages\\autots\\tools\\impute.py:42: FutureWarning: DataFrame.fillna with 'method' is deprecated and will raise in a future version. Use obj.ffill() or obj.bfill() instead.\n",
      "  df = df.fillna(method='ffill')\n",
      "c:\\code\\ntnu\\semester9\\ml_prosjekt\\venv\\lib\\site-packages\\autots\\tools\\impute.py:43: FutureWarning: DataFrame.fillna with 'method' is deprecated and will raise in a future version. Use obj.ffill() or obj.bfill() instead.\n",
      "  return df.fillna(method='bfill').fillna(0)\n",
      "c:\\code\\ntnu\\semester9\\ml_prosjekt\\venv\\lib\\site-packages\\autots\\tools\\transform.py:1377: FutureWarning: DataFrame.fillna with 'method' is deprecated and will raise in a future version. Use obj.ffill() or obj.bfill() instead.\n",
      "  df = (df - df.shift(self.lag)).fillna(method=\"bfill\")\n",
      "c:\\code\\ntnu\\semester9\\ml_prosjekt\\venv\\lib\\site-packages\\autots\\tools\\transform.py:1377: FutureWarning: DataFrame.fillna with 'method' is deprecated and will raise in a future version. Use obj.ffill() or obj.bfill() instead.\n",
      "  df = (df - df.shift(self.lag)).fillna(method=\"bfill\")\n"
     ]
    },
    {
     "name": "stdout",
     "output_type": "stream",
     "text": [
      "Template Eval Error: Exception('Transformer AlignLastValue failed on inverse') in model 98 in generation 2: GLS\n",
      "Model Number: 99 with model LastValueNaive in generation 2 of 5\n"
     ]
    },
    {
     "name": "stderr",
     "output_type": "stream",
     "text": [
      "c:\\code\\ntnu\\semester9\\ml_prosjekt\\venv\\lib\\site-packages\\autots\\tools\\impute.py:42: FutureWarning: DataFrame.fillna with 'method' is deprecated and will raise in a future version. Use obj.ffill() or obj.bfill() instead.\n",
      "  df = df.fillna(method='ffill')\n",
      "c:\\code\\ntnu\\semester9\\ml_prosjekt\\venv\\lib\\site-packages\\autots\\tools\\impute.py:43: FutureWarning: DataFrame.fillna with 'method' is deprecated and will raise in a future version. Use obj.ffill() or obj.bfill() instead.\n",
      "  return df.fillna(method='bfill').fillna(0)\n",
      "c:\\code\\ntnu\\semester9\\ml_prosjekt\\venv\\lib\\site-packages\\autots\\tools\\transform.py:1377: FutureWarning: DataFrame.fillna with 'method' is deprecated and will raise in a future version. Use obj.ffill() or obj.bfill() instead.\n",
      "  df = (df - df.shift(self.lag)).fillna(method=\"bfill\")\n",
      "c:\\code\\ntnu\\semester9\\ml_prosjekt\\venv\\lib\\site-packages\\autots\\tools\\impute.py:42: FutureWarning: DataFrame.fillna with 'method' is deprecated and will raise in a future version. Use obj.ffill() or obj.bfill() instead.\n",
      "  df = df.fillna(method='ffill')\n",
      "c:\\code\\ntnu\\semester9\\ml_prosjekt\\venv\\lib\\site-packages\\autots\\tools\\impute.py:43: FutureWarning: DataFrame.fillna with 'method' is deprecated and will raise in a future version. Use obj.ffill() or obj.bfill() instead.\n",
      "  return df.fillna(method='bfill').fillna(0)\n",
      "c:\\code\\ntnu\\semester9\\ml_prosjekt\\venv\\lib\\site-packages\\sklearn\\linear_model\\_coordinate_descent.py:628: ConvergenceWarning: Objective did not converge. You might want to increase the number of iterations, check the scale of the features or consider increasing regularisation. Duality gap: 0.000e+00, tolerance: 0.000e+00\n",
      "  model = cd_fast.enet_coordinate_descent(\n"
     ]
    },
    {
     "name": "stdout",
     "output_type": "stream",
     "text": [
      "Model Number: 100 with model SeasonalNaive in generation 2 of 5\n"
     ]
    },
    {
     "name": "stderr",
     "output_type": "stream",
     "text": [
      "c:\\code\\ntnu\\semester9\\ml_prosjekt\\venv\\lib\\site-packages\\autots\\tools\\transform.py:1004: FutureWarning: The 'axis' keyword in DataFrame.groupby is deprecated and will be removed in a future version.\n",
      "  self.tile_values_lag_1 = df2.groupby(level=0, axis=0).median()\n"
     ]
    },
    {
     "name": "stdout",
     "output_type": "stream",
     "text": [
      "Model Number: 101 with model SeasonalNaive in generation 2 of 5\n"
     ]
    },
    {
     "name": "stderr",
     "output_type": "stream",
     "text": [
      "c:\\code\\ntnu\\semester9\\ml_prosjekt\\venv\\lib\\site-packages\\autots\\tools\\impute.py:42: FutureWarning: DataFrame.fillna with 'method' is deprecated and will raise in a future version. Use obj.ffill() or obj.bfill() instead.\n",
      "  df = df.fillna(method='ffill')\n",
      "c:\\code\\ntnu\\semester9\\ml_prosjekt\\venv\\lib\\site-packages\\autots\\tools\\impute.py:43: FutureWarning: DataFrame.fillna with 'method' is deprecated and will raise in a future version. Use obj.ffill() or obj.bfill() instead.\n",
      "  return df.fillna(method='bfill').fillna(0)\n",
      "c:\\code\\ntnu\\semester9\\ml_prosjekt\\venv\\lib\\site-packages\\autots\\models\\basics.py:440: FutureWarning: The 'axis' keyword in DataFrame.groupby is deprecated and will be removed in a future version.\n",
      "  self.tile_values_lag_1 = df.groupby(level=0, axis=0).median()\n"
     ]
    },
    {
     "name": "stdout",
     "output_type": "stream",
     "text": [
      "Model Number: 102 with model GLS in generation 2 of 5\n"
     ]
    },
    {
     "name": "stderr",
     "output_type": "stream",
     "text": [
      "c:\\code\\ntnu\\semester9\\ml_prosjekt\\venv\\lib\\site-packages\\autots\\tools\\impute.py:42: FutureWarning: DataFrame.fillna with 'method' is deprecated and will raise in a future version. Use obj.ffill() or obj.bfill() instead.\n",
      "  df = df.fillna(method='ffill')\n",
      "c:\\code\\ntnu\\semester9\\ml_prosjekt\\venv\\lib\\site-packages\\autots\\tools\\impute.py:43: FutureWarning: DataFrame.fillna with 'method' is deprecated and will raise in a future version. Use obj.ffill() or obj.bfill() instead.\n",
      "  return df.fillna(method='bfill').fillna(0)\n",
      "c:\\code\\ntnu\\semester9\\ml_prosjekt\\venv\\lib\\site-packages\\autots\\tools\\transform.py:3804: FutureWarning: DataFrame.fillna with 'method' is deprecated and will raise in a future version. Use obj.ffill() or obj.bfill() instead.\n",
      "  diff_smoothed = diff_abs.where(diff_mask_0, np.nan).fillna(\n",
      "c:\\code\\ntnu\\semester9\\ml_prosjekt\\venv\\lib\\site-packages\\autots\\tools\\transform.py:3817: FutureWarning: DataFrame.fillna with 'method' is deprecated and will raise in a future version. Use obj.ffill() or obj.bfill() instead.\n",
      "  group_ids = range_arr[~diff_mask].fillna(method='ffill')  # [diff_mask]\n",
      "c:\\code\\ntnu\\semester9\\ml_prosjekt\\venv\\lib\\site-packages\\autots\\tools\\transform.py:3876: FutureWarning: DataFrame.fillna with 'method' is deprecated and will raise in a future version. Use obj.ffill() or obj.bfill() instead.\n",
      "  return df - self.lvlshft.reindex(index=df.index, columns=df.columns).fillna(\n"
     ]
    },
    {
     "name": "stdout",
     "output_type": "stream",
     "text": [
      "Model Number: 103 with model LastValueNaive in generation 2 of 5\n",
      "Model Number: 104 with model AverageValueNaive in generation 2 of 5\n"
     ]
    },
    {
     "name": "stderr",
     "output_type": "stream",
     "text": [
      "c:\\code\\ntnu\\semester9\\ml_prosjekt\\venv\\lib\\site-packages\\autots\\tools\\transform.py:3886: FutureWarning: DataFrame.fillna with 'method' is deprecated and will raise in a future version. Use obj.ffill() or obj.bfill() instead.\n",
      "  return df + self.lvlshft.reindex(index=df.index, columns=df.columns).fillna(\n",
      "c:\\code\\ntnu\\semester9\\ml_prosjekt\\venv\\lib\\site-packages\\autots\\tools\\transform.py:3886: FutureWarning: DataFrame.fillna with 'method' is deprecated and will raise in a future version. Use obj.ffill() or obj.bfill() instead.\n",
      "  return df + self.lvlshft.reindex(index=df.index, columns=df.columns).fillna(\n",
      "c:\\code\\ntnu\\semester9\\ml_prosjekt\\venv\\lib\\site-packages\\autots\\tools\\transform.py:3886: FutureWarning: DataFrame.fillna with 'method' is deprecated and will raise in a future version. Use obj.ffill() or obj.bfill() instead.\n",
      "  return df + self.lvlshft.reindex(index=df.index, columns=df.columns).fillna(\n",
      "c:\\code\\ntnu\\semester9\\ml_prosjekt\\venv\\lib\\site-packages\\autots\\tools\\impute.py:42: FutureWarning: DataFrame.fillna with 'method' is deprecated and will raise in a future version. Use obj.ffill() or obj.bfill() instead.\n",
      "  df = df.fillna(method='ffill')\n",
      "c:\\code\\ntnu\\semester9\\ml_prosjekt\\venv\\lib\\site-packages\\autots\\tools\\impute.py:43: FutureWarning: DataFrame.fillna with 'method' is deprecated and will raise in a future version. Use obj.ffill() or obj.bfill() instead.\n",
      "  return df.fillna(method='bfill').fillna(0)\n",
      "c:\\code\\ntnu\\semester9\\ml_prosjekt\\venv\\lib\\site-packages\\autots\\tools\\impute.py:42: FutureWarning: DataFrame.fillna with 'method' is deprecated and will raise in a future version. Use obj.ffill() or obj.bfill() instead.\n",
      "  df = df.fillna(method='ffill')\n",
      "c:\\code\\ntnu\\semester9\\ml_prosjekt\\venv\\lib\\site-packages\\autots\\tools\\impute.py:43: FutureWarning: DataFrame.fillna with 'method' is deprecated and will raise in a future version. Use obj.ffill() or obj.bfill() instead.\n",
      "  return df.fillna(method='bfill').fillna(0)\n",
      "c:\\code\\ntnu\\semester9\\ml_prosjekt\\venv\\lib\\site-packages\\autots\\tools\\transform.py:1006: FutureWarning: The 'axis' keyword in DataFrame.groupby is deprecated and will be removed in a future version.\n",
      "  self.tile_values_lag_1 = df2.groupby(level=0, axis=0).mean()\n",
      "c:\\code\\ntnu\\semester9\\ml_prosjekt\\venv\\lib\\site-packages\\autots\\tools\\impute.py:42: FutureWarning: DataFrame.fillna with 'method' is deprecated and will raise in a future version. Use obj.ffill() or obj.bfill() instead.\n",
      "  df = df.fillna(method='ffill')\n",
      "c:\\code\\ntnu\\semester9\\ml_prosjekt\\venv\\lib\\site-packages\\autots\\tools\\impute.py:43: FutureWarning: DataFrame.fillna with 'method' is deprecated and will raise in a future version. Use obj.ffill() or obj.bfill() instead.\n",
      "  return df.fillna(method='bfill').fillna(0)\n"
     ]
    },
    {
     "name": "stdout",
     "output_type": "stream",
     "text": [
      "Model Number: 105 with model SeasonalNaive in generation 2 of 5\n",
      "Model Number: 106 with model GLS in generation 2 of 5\n"
     ]
    },
    {
     "name": "stderr",
     "output_type": "stream",
     "text": [
      "c:\\code\\ntnu\\semester9\\ml_prosjekt\\venv\\lib\\site-packages\\autots\\tools\\transform.py:1377: FutureWarning: DataFrame.fillna with 'method' is deprecated and will raise in a future version. Use obj.ffill() or obj.bfill() instead.\n",
      "  df = (df - df.shift(self.lag)).fillna(method=\"bfill\")\n"
     ]
    },
    {
     "name": "stdout",
     "output_type": "stream",
     "text": [
      "New Generation: 3 of 5\n",
      "Model Number: 107 with model SeasonalNaive in generation 3 of 5\n",
      "Model Number: 108 with model AverageValueNaive in generation 3 of 5\n",
      "Model Number: 109 with model AverageValueNaive in generation 3 of 5\n",
      "Model Number: 110 with model AverageValueNaive in generation 3 of 5\n",
      "Model Number: 111 with model ConstantNaive in generation 3 of 5\n",
      "Model Number: 112 with model SeasonalNaive in generation 3 of 5\n"
     ]
    },
    {
     "name": "stderr",
     "output_type": "stream",
     "text": [
      "c:\\code\\ntnu\\semester9\\ml_prosjekt\\venv\\lib\\site-packages\\autots\\tools\\impute.py:243: FutureWarning: DataFrame.fillna with 'method' is deprecated and will raise in a future version. Use obj.ffill() or obj.bfill() instead.\n",
      "  df = df.interpolate(method=method, order=5).fillna(method='bfill')\n",
      "c:\\code\\ntnu\\semester9\\ml_prosjekt\\venv\\lib\\site-packages\\autots\\tools\\transform.py:1006: FutureWarning: The 'axis' keyword in DataFrame.groupby is deprecated and will be removed in a future version.\n",
      "  self.tile_values_lag_1 = df2.groupby(level=0, axis=0).mean()\n",
      "c:\\code\\ntnu\\semester9\\ml_prosjekt\\venv\\lib\\site-packages\\autots\\tools\\impute.py:42: FutureWarning: DataFrame.fillna with 'method' is deprecated and will raise in a future version. Use obj.ffill() or obj.bfill() instead.\n",
      "  df = df.fillna(method='ffill')\n",
      "c:\\code\\ntnu\\semester9\\ml_prosjekt\\venv\\lib\\site-packages\\autots\\tools\\impute.py:43: FutureWarning: DataFrame.fillna with 'method' is deprecated and will raise in a future version. Use obj.ffill() or obj.bfill() instead.\n",
      "  return df.fillna(method='bfill').fillna(0)\n",
      "c:\\code\\ntnu\\semester9\\ml_prosjekt\\venv\\lib\\site-packages\\autots\\tools\\transform.py:1377: FutureWarning: DataFrame.fillna with 'method' is deprecated and will raise in a future version. Use obj.ffill() or obj.bfill() instead.\n",
      "  df = (df - df.shift(self.lag)).fillna(method=\"bfill\")\n",
      "c:\\code\\ntnu\\semester9\\ml_prosjekt\\venv\\lib\\site-packages\\autots\\tools\\impute.py:42: FutureWarning: DataFrame.fillna with 'method' is deprecated and will raise in a future version. Use obj.ffill() or obj.bfill() instead.\n",
      "  df = df.fillna(method='ffill')\n",
      "c:\\code\\ntnu\\semester9\\ml_prosjekt\\venv\\lib\\site-packages\\autots\\tools\\impute.py:43: FutureWarning: DataFrame.fillna with 'method' is deprecated and will raise in a future version. Use obj.ffill() or obj.bfill() instead.\n",
      "  return df.fillna(method='bfill').fillna(0)\n",
      "c:\\code\\ntnu\\semester9\\ml_prosjekt\\venv\\lib\\site-packages\\autots\\tools\\transform.py:1006: FutureWarning: The 'axis' keyword in DataFrame.groupby is deprecated and will be removed in a future version.\n",
      "  self.tile_values_lag_1 = df2.groupby(level=0, axis=0).mean()\n",
      "c:\\code\\ntnu\\semester9\\ml_prosjekt\\venv\\lib\\site-packages\\autots\\tools\\transform.py:1377: FutureWarning: DataFrame.fillna with 'method' is deprecated and will raise in a future version. Use obj.ffill() or obj.bfill() instead.\n",
      "  df = (df - df.shift(self.lag)).fillna(method=\"bfill\")\n",
      "c:\\code\\ntnu\\semester9\\ml_prosjekt\\venv\\lib\\site-packages\\autots\\tools\\transform.py:403: FutureWarning: DataFrame.fillna with 'method' is deprecated and will raise in a future version. Use obj.ffill() or obj.bfill() instead.\n",
      "  df = (df - cycles).fillna(method=\"ffill\").fillna(method=\"bfill\")\n"
     ]
    },
    {
     "name": "stdout",
     "output_type": "stream",
     "text": [
      "Template Eval Error: MemoryError((36344, 36344, 52), dtype('float64')) in model 112 in generation 3: SeasonalNaive\n",
      "Model Number: 113 with model LastValueNaive in generation 3 of 5\n",
      "Model Number: 114 with model AverageValueNaive in generation 3 of 5\n",
      "Model Number: 115 with model GLS in generation 3 of 5\n"
     ]
    },
    {
     "name": "stderr",
     "output_type": "stream",
     "text": [
      "c:\\code\\ntnu\\semester9\\ml_prosjekt\\venv\\lib\\site-packages\\autots\\tools\\transform.py:1377: FutureWarning: DataFrame.fillna with 'method' is deprecated and will raise in a future version. Use obj.ffill() or obj.bfill() instead.\n",
      "  df = (df - df.shift(self.lag)).fillna(method=\"bfill\")\n",
      "c:\\code\\ntnu\\semester9\\ml_prosjekt\\venv\\lib\\site-packages\\autots\\tools\\impute.py:42: FutureWarning: DataFrame.fillna with 'method' is deprecated and will raise in a future version. Use obj.ffill() or obj.bfill() instead.\n",
      "  df = df.fillna(method='ffill')\n",
      "c:\\code\\ntnu\\semester9\\ml_prosjekt\\venv\\lib\\site-packages\\autots\\tools\\impute.py:43: FutureWarning: DataFrame.fillna with 'method' is deprecated and will raise in a future version. Use obj.ffill() or obj.bfill() instead.\n",
      "  return df.fillna(method='bfill').fillna(0)\n",
      "c:\\code\\ntnu\\semester9\\ml_prosjekt\\venv\\lib\\site-packages\\autots\\tools\\transform.py:1377: FutureWarning: DataFrame.fillna with 'method' is deprecated and will raise in a future version. Use obj.ffill() or obj.bfill() instead.\n",
      "  df = (df - df.shift(self.lag)).fillna(method=\"bfill\")\n",
      "c:\\code\\ntnu\\semester9\\ml_prosjekt\\venv\\lib\\site-packages\\autots\\tools\\transform.py:1006: FutureWarning: The 'axis' keyword in DataFrame.groupby is deprecated and will be removed in a future version.\n",
      "  self.tile_values_lag_1 = df2.groupby(level=0, axis=0).mean()\n"
     ]
    },
    {
     "name": "stdout",
     "output_type": "stream",
     "text": [
      "Model Number: 116 with model SeasonalityMotif in generation 3 of 5\n"
     ]
    },
    {
     "name": "stderr",
     "output_type": "stream",
     "text": [
      "c:\\code\\ntnu\\semester9\\ml_prosjekt\\venv\\lib\\site-packages\\autots\\tools\\transform.py:1377: FutureWarning: DataFrame.fillna with 'method' is deprecated and will raise in a future version. Use obj.ffill() or obj.bfill() instead.\n",
      "  df = (df - df.shift(self.lag)).fillna(method=\"bfill\")\n"
     ]
    },
    {
     "name": "stdout",
     "output_type": "stream",
     "text": [
      "Model Number: 117 with model SeasonalNaive in generation 3 of 5\n"
     ]
    },
    {
     "name": "stderr",
     "output_type": "stream",
     "text": [
      "c:\\code\\ntnu\\semester9\\ml_prosjekt\\venv\\lib\\site-packages\\autots\\tools\\transform.py:1377: FutureWarning: DataFrame.fillna with 'method' is deprecated and will raise in a future version. Use obj.ffill() or obj.bfill() instead.\n",
      "  df = (df - df.shift(self.lag)).fillna(method=\"bfill\")\n"
     ]
    },
    {
     "name": "stdout",
     "output_type": "stream",
     "text": [
      "Model Number: 118 with model LastValueNaive in generation 3 of 5\n",
      "Model Number: 119 with model SeasonalNaive in generation 3 of 5\n"
     ]
    },
    {
     "name": "stderr",
     "output_type": "stream",
     "text": [
      "c:\\code\\ntnu\\semester9\\ml_prosjekt\\venv\\lib\\site-packages\\autots\\tools\\impute.py:243: FutureWarning: DataFrame.fillna with 'method' is deprecated and will raise in a future version. Use obj.ffill() or obj.bfill() instead.\n",
      "  df = df.interpolate(method=method, order=5).fillna(method='bfill')\n",
      "c:\\code\\ntnu\\semester9\\ml_prosjekt\\venv\\lib\\site-packages\\autots\\tools\\impute.py:42: FutureWarning: DataFrame.fillna with 'method' is deprecated and will raise in a future version. Use obj.ffill() or obj.bfill() instead.\n",
      "  df = df.fillna(method='ffill')\n",
      "c:\\code\\ntnu\\semester9\\ml_prosjekt\\venv\\lib\\site-packages\\autots\\tools\\impute.py:43: FutureWarning: DataFrame.fillna with 'method' is deprecated and will raise in a future version. Use obj.ffill() or obj.bfill() instead.\n",
      "  return df.fillna(method='bfill').fillna(0)\n",
      "c:\\code\\ntnu\\semester9\\ml_prosjekt\\venv\\lib\\site-packages\\autots\\tools\\transform.py:403: FutureWarning: DataFrame.fillna with 'method' is deprecated and will raise in a future version. Use obj.ffill() or obj.bfill() instead.\n",
      "  df = (df - cycles).fillna(method=\"ffill\").fillna(method=\"bfill\")\n",
      "c:\\code\\ntnu\\semester9\\ml_prosjekt\\venv\\lib\\site-packages\\autots\\models\\basics.py:440: FutureWarning: The 'axis' keyword in DataFrame.groupby is deprecated and will be removed in a future version.\n",
      "  self.tile_values_lag_1 = df.groupby(level=0, axis=0).median()\n"
     ]
    },
    {
     "name": "stdout",
     "output_type": "stream",
     "text": [
      "Model Number: 120 with model SeasonalNaive in generation 3 of 5\n"
     ]
    },
    {
     "name": "stderr",
     "output_type": "stream",
     "text": [
      "c:\\code\\ntnu\\semester9\\ml_prosjekt\\venv\\lib\\site-packages\\autots\\tools\\transform.py:1377: FutureWarning: DataFrame.fillna with 'method' is deprecated and will raise in a future version. Use obj.ffill() or obj.bfill() instead.\n",
      "  df = (df - df.shift(self.lag)).fillna(method=\"bfill\")\n"
     ]
    },
    {
     "name": "stdout",
     "output_type": "stream",
     "text": [
      "Template Eval Error: Exception('Transformer QuantileTransformer failed on inverse') in model 120 in generation 3: SeasonalNaive\n",
      "Model Number: 121 with model GLS in generation 3 of 5\n",
      "Template Eval Error: MemoryError((36344, 36344, 52), dtype('float64')) in model 121 in generation 3: GLS\n",
      "Model Number: 122 with model ConstantNaive in generation 3 of 5\n",
      "Template Eval Error: MemoryError((36344, 36344, 52), dtype('float64')) in model 122 in generation 3: ConstantNaive\n",
      "Model Number: 123 with model LastValueNaive in generation 3 of 5\n",
      "Model Number: 124 with model LastValueNaive in generation 3 of 5\n",
      "Model Number: 125 with model GLS in generation 3 of 5\n"
     ]
    },
    {
     "name": "stderr",
     "output_type": "stream",
     "text": [
      "c:\\code\\ntnu\\semester9\\ml_prosjekt\\venv\\lib\\site-packages\\autots\\tools\\transform.py:403: FutureWarning: DataFrame.fillna with 'method' is deprecated and will raise in a future version. Use obj.ffill() or obj.bfill() instead.\n",
      "  df = (df - cycles).fillna(method=\"ffill\").fillna(method=\"bfill\")\n",
      "c:\\code\\ntnu\\semester9\\ml_prosjekt\\venv\\lib\\site-packages\\autots\\tools\\impute.py:42: FutureWarning: DataFrame.fillna with 'method' is deprecated and will raise in a future version. Use obj.ffill() or obj.bfill() instead.\n",
      "  df = df.fillna(method='ffill')\n",
      "c:\\code\\ntnu\\semester9\\ml_prosjekt\\venv\\lib\\site-packages\\autots\\tools\\impute.py:43: FutureWarning: DataFrame.fillna with 'method' is deprecated and will raise in a future version. Use obj.ffill() or obj.bfill() instead.\n",
      "  return df.fillna(method='bfill').fillna(0)\n"
     ]
    },
    {
     "name": "stdout",
     "output_type": "stream",
     "text": [
      "Model Number: 126 with model GLS in generation 3 of 5\n"
     ]
    },
    {
     "name": "stderr",
     "output_type": "stream",
     "text": [
      "c:\\code\\ntnu\\semester9\\ml_prosjekt\\venv\\lib\\site-packages\\autots\\tools\\impute.py:42: FutureWarning: DataFrame.fillna with 'method' is deprecated and will raise in a future version. Use obj.ffill() or obj.bfill() instead.\n",
      "  df = df.fillna(method='ffill')\n",
      "c:\\code\\ntnu\\semester9\\ml_prosjekt\\venv\\lib\\site-packages\\autots\\tools\\impute.py:43: FutureWarning: DataFrame.fillna with 'method' is deprecated and will raise in a future version. Use obj.ffill() or obj.bfill() instead.\n",
      "  return df.fillna(method='bfill').fillna(0)\n",
      "c:\\code\\ntnu\\semester9\\ml_prosjekt\\venv\\lib\\site-packages\\autots\\tools\\transform.py:1377: FutureWarning: DataFrame.fillna with 'method' is deprecated and will raise in a future version. Use obj.ffill() or obj.bfill() instead.\n",
      "  df = (df - df.shift(self.lag)).fillna(method=\"bfill\")\n"
     ]
    },
    {
     "name": "stdout",
     "output_type": "stream",
     "text": [
      "Model Number: 127 with model AverageValueNaive in generation 3 of 5\n",
      "Model Number: 128 with model SeasonalNaive in generation 3 of 5\n"
     ]
    },
    {
     "name": "stderr",
     "output_type": "stream",
     "text": [
      "c:\\code\\ntnu\\semester9\\ml_prosjekt\\venv\\lib\\site-packages\\autots\\tools\\transform.py:1006: FutureWarning: The 'axis' keyword in DataFrame.groupby is deprecated and will be removed in a future version.\n",
      "  self.tile_values_lag_1 = df2.groupby(level=0, axis=0).mean()\n",
      "c:\\code\\ntnu\\semester9\\ml_prosjekt\\venv\\lib\\site-packages\\autots\\tools\\transform.py:1377: FutureWarning: DataFrame.fillna with 'method' is deprecated and will raise in a future version. Use obj.ffill() or obj.bfill() instead.\n",
      "  df = (df - df.shift(self.lag)).fillna(method=\"bfill\")\n",
      "c:\\code\\ntnu\\semester9\\ml_prosjekt\\venv\\lib\\site-packages\\autots\\models\\basics.py:440: FutureWarning: The 'axis' keyword in DataFrame.groupby is deprecated and will be removed in a future version.\n",
      "  self.tile_values_lag_1 = df.groupby(level=0, axis=0).median()\n"
     ]
    },
    {
     "name": "stdout",
     "output_type": "stream",
     "text": [
      "Model Number: 129 with model LastValueNaive in generation 3 of 5\n",
      "Model Number: 130 with model AverageValueNaive in generation 3 of 5\n",
      "Model Number: 131 with model SeasonalNaive in generation 3 of 5\n"
     ]
    },
    {
     "name": "stderr",
     "output_type": "stream",
     "text": [
      "c:\\code\\ntnu\\semester9\\ml_prosjekt\\venv\\lib\\site-packages\\autots\\tools\\transform.py:1377: FutureWarning: DataFrame.fillna with 'method' is deprecated and will raise in a future version. Use obj.ffill() or obj.bfill() instead.\n",
      "  df = (df - df.shift(self.lag)).fillna(method=\"bfill\")\n",
      "c:\\code\\ntnu\\semester9\\ml_prosjekt\\venv\\lib\\site-packages\\autots\\tools\\impute.py:42: FutureWarning: DataFrame.fillna with 'method' is deprecated and will raise in a future version. Use obj.ffill() or obj.bfill() instead.\n",
      "  df = df.fillna(method='ffill')\n",
      "c:\\code\\ntnu\\semester9\\ml_prosjekt\\venv\\lib\\site-packages\\autots\\tools\\impute.py:43: FutureWarning: DataFrame.fillna with 'method' is deprecated and will raise in a future version. Use obj.ffill() or obj.bfill() instead.\n",
      "  return df.fillna(method='bfill').fillna(0)\n"
     ]
    },
    {
     "name": "stdout",
     "output_type": "stream",
     "text": [
      "Model Number: 132 with model GLS in generation 3 of 5\n"
     ]
    },
    {
     "name": "stderr",
     "output_type": "stream",
     "text": [
      "c:\\code\\ntnu\\semester9\\ml_prosjekt\\venv\\lib\\site-packages\\autots\\tools\\impute.py:243: FutureWarning: DataFrame.fillna with 'method' is deprecated and will raise in a future version. Use obj.ffill() or obj.bfill() instead.\n",
      "  df = df.interpolate(method=method, order=5).fillna(method='bfill')\n",
      "c:\\code\\ntnu\\semester9\\ml_prosjekt\\venv\\lib\\site-packages\\autots\\tools\\transform.py:1006: FutureWarning: The 'axis' keyword in DataFrame.groupby is deprecated and will be removed in a future version.\n",
      "  self.tile_values_lag_1 = df2.groupby(level=0, axis=0).mean()\n"
     ]
    },
    {
     "name": "stdout",
     "output_type": "stream",
     "text": [
      "Model Number: 133 with model LastValueNaive in generation 3 of 5\n",
      "Model Number: 134 with model LastValueNaive in generation 3 of 5\n"
     ]
    },
    {
     "name": "stderr",
     "output_type": "stream",
     "text": [
      "c:\\code\\ntnu\\semester9\\ml_prosjekt\\venv\\lib\\site-packages\\autots\\tools\\transform.py:1377: FutureWarning: DataFrame.fillna with 'method' is deprecated and will raise in a future version. Use obj.ffill() or obj.bfill() instead.\n",
      "  df = (df - df.shift(self.lag)).fillna(method=\"bfill\")\n",
      "c:\\code\\ntnu\\semester9\\ml_prosjekt\\venv\\lib\\site-packages\\autots\\tools\\impute.py:42: FutureWarning: DataFrame.fillna with 'method' is deprecated and will raise in a future version. Use obj.ffill() or obj.bfill() instead.\n",
      "  df = df.fillna(method='ffill')\n",
      "c:\\code\\ntnu\\semester9\\ml_prosjekt\\venv\\lib\\site-packages\\autots\\tools\\impute.py:43: FutureWarning: DataFrame.fillna with 'method' is deprecated and will raise in a future version. Use obj.ffill() or obj.bfill() instead.\n",
      "  return df.fillna(method='bfill').fillna(0)\n",
      "c:\\code\\ntnu\\semester9\\ml_prosjekt\\venv\\lib\\site-packages\\autots\\tools\\transform.py:529: FutureWarning: DataFrame.fillna with 'method' is deprecated and will raise in a future version. Use obj.ffill() or obj.bfill() instead.\n",
      "  return df.fillna(method=\"ffill\").fillna(method=\"bfill\")\n",
      "c:\\code\\ntnu\\semester9\\ml_prosjekt\\venv\\lib\\site-packages\\autots\\tools\\transform.py:888: FutureWarning: DataFrame.fillna with 'method' is deprecated and will raise in a future version. Use obj.ffill() or obj.bfill() instead.\n",
      "  df.tail(self.window).fillna(method=\"ffill\").fillna(method=\"bfill\")\n",
      "c:\\code\\ntnu\\semester9\\ml_prosjekt\\venv\\lib\\site-packages\\autots\\tools\\transform.py:891: FutureWarning: DataFrame.fillna with 'method' is deprecated and will raise in a future version. Use obj.ffill() or obj.bfill() instead.\n",
      "  df.head(self.window).fillna(method=\"ffill\").fillna(method=\"bfill\")\n",
      "c:\\code\\ntnu\\semester9\\ml_prosjekt\\venv\\lib\\site-packages\\autots\\tools\\transform.py:1377: FutureWarning: DataFrame.fillna with 'method' is deprecated and will raise in a future version. Use obj.ffill() or obj.bfill() instead.\n",
      "  df = (df - df.shift(self.lag)).fillna(method=\"bfill\")\n"
     ]
    },
    {
     "name": "stdout",
     "output_type": "stream",
     "text": [
      "Model Number: 135 with model AverageValueNaive in generation 3 of 5\n",
      "Model Number: 136 with model SeasonalNaive in generation 3 of 5\n"
     ]
    },
    {
     "name": "stderr",
     "output_type": "stream",
     "text": [
      "c:\\code\\ntnu\\semester9\\ml_prosjekt\\venv\\lib\\site-packages\\autots\\tools\\transform.py:1006: FutureWarning: The 'axis' keyword in DataFrame.groupby is deprecated and will be removed in a future version.\n",
      "  self.tile_values_lag_1 = df2.groupby(level=0, axis=0).mean()\n",
      "c:\\code\\ntnu\\semester9\\ml_prosjekt\\venv\\lib\\site-packages\\autots\\tools\\transform.py:2402: FutureWarning: DataFrame.fillna with 'method' is deprecated and will raise in a future version. Use obj.ffill() or obj.bfill() instead.\n",
      "  return (df - self.means.shift(self.lag).values[..., None]).fillna(\n"
     ]
    },
    {
     "name": "stdout",
     "output_type": "stream",
     "text": [
      "New Generation: 4 of 5\n",
      "Model Number: 137 with model SeasonalityMotif in generation 4 of 5\n",
      "Model Number: 138 with model LastValueNaive in generation 4 of 5\n",
      "Model Number: 139 with model SeasonalNaive in generation 4 of 5\n"
     ]
    },
    {
     "name": "stderr",
     "output_type": "stream",
     "text": [
      "c:\\code\\ntnu\\semester9\\ml_prosjekt\\venv\\lib\\site-packages\\autots\\tools\\impute.py:42: FutureWarning: DataFrame.fillna with 'method' is deprecated and will raise in a future version. Use obj.ffill() or obj.bfill() instead.\n",
      "  df = df.fillna(method='ffill')\n",
      "c:\\code\\ntnu\\semester9\\ml_prosjekt\\venv\\lib\\site-packages\\autots\\tools\\impute.py:43: FutureWarning: DataFrame.fillna with 'method' is deprecated and will raise in a future version. Use obj.ffill() or obj.bfill() instead.\n",
      "  return df.fillna(method='bfill').fillna(0)\n"
     ]
    },
    {
     "name": "stdout",
     "output_type": "stream",
     "text": [
      "Model Number: 140 with model AverageValueNaive in generation 4 of 5\n",
      "Model Number: 141 with model GLS in generation 4 of 5\n",
      "Template Eval Error: Exception('Transformer FastICA failed on fit') in model 141 in generation 4: GLS\n",
      "Model Number: 142 with model AverageValueNaive in generation 4 of 5\n",
      "Template Eval Error: ValueError(\"Model returned NaN due to a preprocessing transformer {'fillna': 'ffill_mean_biased', 'transformations': {'0': 'AlignLastValue', '1': 'QuantileTransformer', '2': 'DifferencedTransformer', '3': 'Detrend'}, 'transformation_params': {'0': {'rows': 1, 'lag': 1, 'method': 'multiplicative', 'strength': 0.5, 'first_value_only': False}, '1': {'output_distribution': 'uniform', 'n_quantiles': 1000}, '2': {}, '3': {'model': 'Tweedie', 'phi': 1, 'window': None, 'transform_dict': {'fillna': None, 'transformations': {'0': 'EWMAFilter'}, 'transformation_params': {'0': {'span': 2}}}}}}. fail_on_forecast_nan=True\") in model 142 in generation 4: AverageValueNaive\n",
      "Model Number: 143 with model GLS in generation 4 of 5\n",
      "Template Eval Error: Exception('Transformer BTCD failed on fit') in model 143 in generation 4: GLS\n",
      "Model Number: 144 with model SeasonalNaive in generation 4 of 5\n",
      "Template Eval Error: Exception('Transformer QuantileTransformer failed on fit') in model 144 in generation 4: SeasonalNaive\n",
      "Model Number: 145 with model GLS in generation 4 of 5\n"
     ]
    },
    {
     "name": "stderr",
     "output_type": "stream",
     "text": [
      "c:\\code\\ntnu\\semester9\\ml_prosjekt\\venv\\lib\\site-packages\\autots\\tools\\impute.py:42: FutureWarning: DataFrame.fillna with 'method' is deprecated and will raise in a future version. Use obj.ffill() or obj.bfill() instead.\n",
      "  df = df.fillna(method='ffill')\n",
      "c:\\code\\ntnu\\semester9\\ml_prosjekt\\venv\\lib\\site-packages\\autots\\tools\\impute.py:43: FutureWarning: DataFrame.fillna with 'method' is deprecated and will raise in a future version. Use obj.ffill() or obj.bfill() instead.\n",
      "  return df.fillna(method='bfill').fillna(0)\n",
      "c:\\code\\ntnu\\semester9\\ml_prosjekt\\venv\\lib\\site-packages\\autots\\tools\\transform.py:1006: FutureWarning: The 'axis' keyword in DataFrame.groupby is deprecated and will be removed in a future version.\n",
      "  self.tile_values_lag_1 = df2.groupby(level=0, axis=0).mean()\n",
      "c:\\code\\ntnu\\semester9\\ml_prosjekt\\venv\\lib\\site-packages\\autots\\tools\\transform.py:1377: FutureWarning: DataFrame.fillna with 'method' is deprecated and will raise in a future version. Use obj.ffill() or obj.bfill() instead.\n",
      "  df = (df - df.shift(self.lag)).fillna(method=\"bfill\")\n",
      "c:\\code\\ntnu\\semester9\\ml_prosjekt\\venv\\lib\\site-packages\\autots\\tools\\impute.py:243: FutureWarning: DataFrame.fillna with 'method' is deprecated and will raise in a future version. Use obj.ffill() or obj.bfill() instead.\n",
      "  df = df.interpolate(method=method, order=5).fillna(method='bfill')\n",
      "c:\\code\\ntnu\\semester9\\ml_prosjekt\\venv\\lib\\site-packages\\autots\\tools\\impute.py:42: FutureWarning: DataFrame.fillna with 'method' is deprecated and will raise in a future version. Use obj.ffill() or obj.bfill() instead.\n",
      "  df = df.fillna(method='ffill')\n",
      "c:\\code\\ntnu\\semester9\\ml_prosjekt\\venv\\lib\\site-packages\\autots\\tools\\impute.py:43: FutureWarning: DataFrame.fillna with 'method' is deprecated and will raise in a future version. Use obj.ffill() or obj.bfill() instead.\n",
      "  return df.fillna(method='bfill').fillna(0)\n",
      "c:\\code\\ntnu\\semester9\\ml_prosjekt\\venv\\lib\\site-packages\\autots\\tools\\transform.py:1377: FutureWarning: DataFrame.fillna with 'method' is deprecated and will raise in a future version. Use obj.ffill() or obj.bfill() instead.\n",
      "  df = (df - df.shift(self.lag)).fillna(method=\"bfill\")\n",
      "c:\\code\\ntnu\\semester9\\ml_prosjekt\\venv\\lib\\site-packages\\autots\\tools\\impute.py:243: FutureWarning: DataFrame.fillna with 'method' is deprecated and will raise in a future version. Use obj.ffill() or obj.bfill() instead.\n",
      "  df = df.interpolate(method=method, order=5).fillna(method='bfill')\n",
      "c:\\code\\ntnu\\semester9\\ml_prosjekt\\venv\\lib\\site-packages\\autots\\tools\\impute.py:42: FutureWarning: DataFrame.fillna with 'method' is deprecated and will raise in a future version. Use obj.ffill() or obj.bfill() instead.\n",
      "  df = df.fillna(method='ffill')\n",
      "c:\\code\\ntnu\\semester9\\ml_prosjekt\\venv\\lib\\site-packages\\autots\\tools\\impute.py:43: FutureWarning: DataFrame.fillna with 'method' is deprecated and will raise in a future version. Use obj.ffill() or obj.bfill() instead.\n",
      "  return df.fillna(method='bfill').fillna(0)\n",
      "c:\\code\\ntnu\\semester9\\ml_prosjekt\\venv\\lib\\site-packages\\autots\\tools\\impute.py:42: FutureWarning: DataFrame.fillna with 'method' is deprecated and will raise in a future version. Use obj.ffill() or obj.bfill() instead.\n",
      "  df = df.fillna(method='ffill')\n",
      "c:\\code\\ntnu\\semester9\\ml_prosjekt\\venv\\lib\\site-packages\\autots\\tools\\impute.py:43: FutureWarning: DataFrame.fillna with 'method' is deprecated and will raise in a future version. Use obj.ffill() or obj.bfill() instead.\n",
      "  return df.fillna(method='bfill').fillna(0)\n",
      "c:\\code\\ntnu\\semester9\\ml_prosjekt\\venv\\lib\\site-packages\\sklearn\\svm\\_classes.py:32: FutureWarning: The default value of `dual` will change from `True` to `'auto'` in 1.5. Set the value of `dual` explicitly to suppress the warning.\n",
      "  warnings.warn(\n",
      "c:\\code\\ntnu\\semester9\\ml_prosjekt\\venv\\lib\\site-packages\\sklearn\\svm\\_base.py:1250: ConvergenceWarning: Liblinear failed to converge, increase the number of iterations.\n",
      "  warnings.warn(\n",
      "c:\\code\\ntnu\\semester9\\ml_prosjekt\\venv\\lib\\site-packages\\autots\\tools\\transform.py:1377: FutureWarning: DataFrame.fillna with 'method' is deprecated and will raise in a future version. Use obj.ffill() or obj.bfill() instead.\n",
      "  df = (df - df.shift(self.lag)).fillna(method=\"bfill\")\n"
     ]
    },
    {
     "name": "stdout",
     "output_type": "stream",
     "text": [
      "Model Number: 146 with model AverageValueNaive in generation 4 of 5\n",
      "Model Number: 147 with model SeasonalNaive in generation 4 of 5\n"
     ]
    },
    {
     "name": "stderr",
     "output_type": "stream",
     "text": [
      "c:\\code\\ntnu\\semester9\\ml_prosjekt\\venv\\lib\\site-packages\\autots\\tools\\impute.py:42: FutureWarning: DataFrame.fillna with 'method' is deprecated and will raise in a future version. Use obj.ffill() or obj.bfill() instead.\n",
      "  df = df.fillna(method='ffill')\n",
      "c:\\code\\ntnu\\semester9\\ml_prosjekt\\venv\\lib\\site-packages\\autots\\tools\\impute.py:43: FutureWarning: DataFrame.fillna with 'method' is deprecated and will raise in a future version. Use obj.ffill() or obj.bfill() instead.\n",
      "  return df.fillna(method='bfill').fillna(0)\n",
      "c:\\code\\ntnu\\semester9\\ml_prosjekt\\venv\\lib\\site-packages\\autots\\tools\\transform.py:1006: FutureWarning: The 'axis' keyword in DataFrame.groupby is deprecated and will be removed in a future version.\n",
      "  self.tile_values_lag_1 = df2.groupby(level=0, axis=0).mean()\n",
      "c:\\code\\ntnu\\semester9\\ml_prosjekt\\venv\\lib\\site-packages\\autots\\tools\\transform.py:1006: FutureWarning: The 'axis' keyword in DataFrame.groupby is deprecated and will be removed in a future version.\n",
      "  self.tile_values_lag_1 = df2.groupby(level=0, axis=0).mean()\n"
     ]
    },
    {
     "name": "stdout",
     "output_type": "stream",
     "text": [
      "Model Number: 148 with model AverageValueNaive in generation 4 of 5\n",
      "Model Number: 149 with model AverageValueNaive in generation 4 of 5\n",
      "Model Number: 150 with model SeasonalNaive in generation 4 of 5\n"
     ]
    },
    {
     "name": "stderr",
     "output_type": "stream",
     "text": [
      "c:\\code\\ntnu\\semester9\\ml_prosjekt\\venv\\lib\\site-packages\\autots\\tools\\impute.py:42: FutureWarning: DataFrame.fillna with 'method' is deprecated and will raise in a future version. Use obj.ffill() or obj.bfill() instead.\n",
      "  df = df.fillna(method='ffill')\n",
      "c:\\code\\ntnu\\semester9\\ml_prosjekt\\venv\\lib\\site-packages\\autots\\tools\\impute.py:43: FutureWarning: DataFrame.fillna with 'method' is deprecated and will raise in a future version. Use obj.ffill() or obj.bfill() instead.\n",
      "  return df.fillna(method='bfill').fillna(0)\n",
      "c:\\code\\ntnu\\semester9\\ml_prosjekt\\venv\\lib\\site-packages\\autots\\tools\\transform.py:1377: FutureWarning: DataFrame.fillna with 'method' is deprecated and will raise in a future version. Use obj.ffill() or obj.bfill() instead.\n",
      "  df = (df - df.shift(self.lag)).fillna(method=\"bfill\")\n",
      "c:\\code\\ntnu\\semester9\\ml_prosjekt\\venv\\lib\\site-packages\\autots\\tools\\transform.py:1377: FutureWarning: DataFrame.fillna with 'method' is deprecated and will raise in a future version. Use obj.ffill() or obj.bfill() instead.\n",
      "  df = (df - df.shift(self.lag)).fillna(method=\"bfill\")\n",
      "c:\\code\\ntnu\\semester9\\ml_prosjekt\\venv\\lib\\site-packages\\autots\\tools\\transform.py:1377: FutureWarning: DataFrame.fillna with 'method' is deprecated and will raise in a future version. Use obj.ffill() or obj.bfill() instead.\n",
      "  df = (df - df.shift(self.lag)).fillna(method=\"bfill\")\n"
     ]
    },
    {
     "name": "stdout",
     "output_type": "stream",
     "text": [
      "Model Number: 151 with model AverageValueNaive in generation 4 of 5\n",
      "Model Number: 152 with model LastValueNaive in generation 4 of 5\n",
      "Model Number: 153 with model GLS in generation 4 of 5\n"
     ]
    },
    {
     "name": "stderr",
     "output_type": "stream",
     "text": [
      "c:\\code\\ntnu\\semester9\\ml_prosjekt\\venv\\lib\\site-packages\\autots\\tools\\transform.py:1377: FutureWarning: DataFrame.fillna with 'method' is deprecated and will raise in a future version. Use obj.ffill() or obj.bfill() instead.\n",
      "  df = (df - df.shift(self.lag)).fillna(method=\"bfill\")\n",
      "c:\\code\\ntnu\\semester9\\ml_prosjekt\\venv\\lib\\site-packages\\autots\\tools\\transform.py:1377: FutureWarning: DataFrame.fillna with 'method' is deprecated and will raise in a future version. Use obj.ffill() or obj.bfill() instead.\n",
      "  df = (df - df.shift(self.lag)).fillna(method=\"bfill\")\n",
      "c:\\code\\ntnu\\semester9\\ml_prosjekt\\venv\\lib\\site-packages\\autots\\tools\\impute.py:42: FutureWarning: DataFrame.fillna with 'method' is deprecated and will raise in a future version. Use obj.ffill() or obj.bfill() instead.\n",
      "  df = df.fillna(method='ffill')\n",
      "c:\\code\\ntnu\\semester9\\ml_prosjekt\\venv\\lib\\site-packages\\autots\\tools\\impute.py:43: FutureWarning: DataFrame.fillna with 'method' is deprecated and will raise in a future version. Use obj.ffill() or obj.bfill() instead.\n",
      "  return df.fillna(method='bfill').fillna(0)\n",
      "c:\\code\\ntnu\\semester9\\ml_prosjekt\\venv\\lib\\site-packages\\autots\\tools\\transform.py:1006: FutureWarning: The 'axis' keyword in DataFrame.groupby is deprecated and will be removed in a future version.\n",
      "  self.tile_values_lag_1 = df2.groupby(level=0, axis=0).mean()\n"
     ]
    },
    {
     "name": "stdout",
     "output_type": "stream",
     "text": [
      "Model Number: 154 with model GLS in generation 4 of 5\n",
      "Template Eval Error: Exception('Transformer BTCD failed on fit') in model 154 in generation 4: GLS\n",
      "Model Number: 155 with model GLS in generation 4 of 5\n"
     ]
    },
    {
     "name": "stderr",
     "output_type": "stream",
     "text": [
      "c:\\code\\ntnu\\semester9\\ml_prosjekt\\venv\\lib\\site-packages\\autots\\tools\\impute.py:42: FutureWarning: DataFrame.fillna with 'method' is deprecated and will raise in a future version. Use obj.ffill() or obj.bfill() instead.\n",
      "  df = df.fillna(method='ffill')\n",
      "c:\\code\\ntnu\\semester9\\ml_prosjekt\\venv\\lib\\site-packages\\autots\\tools\\impute.py:43: FutureWarning: DataFrame.fillna with 'method' is deprecated and will raise in a future version. Use obj.ffill() or obj.bfill() instead.\n",
      "  return df.fillna(method='bfill').fillna(0)\n",
      "c:\\code\\ntnu\\semester9\\ml_prosjekt\\venv\\lib\\site-packages\\autots\\tools\\impute.py:243: FutureWarning: DataFrame.fillna with 'method' is deprecated and will raise in a future version. Use obj.ffill() or obj.bfill() instead.\n",
      "  df = df.interpolate(method=method, order=5).fillna(method='bfill')\n",
      "c:\\code\\ntnu\\semester9\\ml_prosjekt\\venv\\lib\\site-packages\\autots\\tools\\transform.py:1006: FutureWarning: The 'axis' keyword in DataFrame.groupby is deprecated and will be removed in a future version.\n",
      "  self.tile_values_lag_1 = df2.groupby(level=0, axis=0).mean()\n"
     ]
    },
    {
     "name": "stdout",
     "output_type": "stream",
     "text": [
      "Model Number: 156 with model SeasonalNaive in generation 4 of 5\n"
     ]
    },
    {
     "name": "stderr",
     "output_type": "stream",
     "text": [
      "c:\\code\\ntnu\\semester9\\ml_prosjekt\\venv\\lib\\site-packages\\autots\\tools\\impute.py:243: FutureWarning: DataFrame.fillna with 'method' is deprecated and will raise in a future version. Use obj.ffill() or obj.bfill() instead.\n",
      "  df = df.interpolate(method=method, order=5).fillna(method='bfill')\n"
     ]
    },
    {
     "name": "stdout",
     "output_type": "stream",
     "text": [
      "Model Number: 157 with model AverageValueNaive in generation 4 of 5\n",
      "Model Number: 158 with model AverageValueNaive in generation 4 of 5\n",
      "Model Number: 159 with model AverageValueNaive in generation 4 of 5\n"
     ]
    },
    {
     "name": "stderr",
     "output_type": "stream",
     "text": [
      "c:\\code\\ntnu\\semester9\\ml_prosjekt\\venv\\lib\\site-packages\\autots\\tools\\transform.py:1377: FutureWarning: DataFrame.fillna with 'method' is deprecated and will raise in a future version. Use obj.ffill() or obj.bfill() instead.\n",
      "  df = (df - df.shift(self.lag)).fillna(method=\"bfill\")\n",
      "c:\\code\\ntnu\\semester9\\ml_prosjekt\\venv\\lib\\site-packages\\autots\\tools\\impute.py:42: FutureWarning: DataFrame.fillna with 'method' is deprecated and will raise in a future version. Use obj.ffill() or obj.bfill() instead.\n",
      "  df = df.fillna(method='ffill')\n",
      "c:\\code\\ntnu\\semester9\\ml_prosjekt\\venv\\lib\\site-packages\\autots\\tools\\impute.py:43: FutureWarning: DataFrame.fillna with 'method' is deprecated and will raise in a future version. Use obj.ffill() or obj.bfill() instead.\n",
      "  return df.fillna(method='bfill').fillna(0)\n",
      "c:\\code\\ntnu\\semester9\\ml_prosjekt\\venv\\lib\\site-packages\\autots\\tools\\impute.py:42: FutureWarning: DataFrame.fillna with 'method' is deprecated and will raise in a future version. Use obj.ffill() or obj.bfill() instead.\n",
      "  df = df.fillna(method='ffill')\n",
      "c:\\code\\ntnu\\semester9\\ml_prosjekt\\venv\\lib\\site-packages\\autots\\tools\\impute.py:43: FutureWarning: DataFrame.fillna with 'method' is deprecated and will raise in a future version. Use obj.ffill() or obj.bfill() instead.\n",
      "  return df.fillna(method='bfill').fillna(0)\n"
     ]
    },
    {
     "name": "stdout",
     "output_type": "stream",
     "text": [
      "Model Number: 160 with model GLS in generation 4 of 5\n",
      "Template Eval Error: Exception('Transformer FastICA failed on fit') in model 160 in generation 4: GLS\n",
      "Model Number: 161 with model AverageValueNaive in generation 4 of 5\n",
      "Model Number: 162 with model GLS in generation 4 of 5\n"
     ]
    },
    {
     "name": "stderr",
     "output_type": "stream",
     "text": [
      "c:\\code\\ntnu\\semester9\\ml_prosjekt\\venv\\lib\\site-packages\\autots\\tools\\impute.py:42: FutureWarning: DataFrame.fillna with 'method' is deprecated and will raise in a future version. Use obj.ffill() or obj.bfill() instead.\n",
      "  df = df.fillna(method='ffill')\n",
      "c:\\code\\ntnu\\semester9\\ml_prosjekt\\venv\\lib\\site-packages\\autots\\tools\\impute.py:43: FutureWarning: DataFrame.fillna with 'method' is deprecated and will raise in a future version. Use obj.ffill() or obj.bfill() instead.\n",
      "  return df.fillna(method='bfill').fillna(0)\n",
      "c:\\code\\ntnu\\semester9\\ml_prosjekt\\venv\\lib\\site-packages\\autots\\tools\\impute.py:243: FutureWarning: DataFrame.fillna with 'method' is deprecated and will raise in a future version. Use obj.ffill() or obj.bfill() instead.\n",
      "  df = df.interpolate(method=method, order=5).fillna(method='bfill')\n",
      "c:\\code\\ntnu\\semester9\\ml_prosjekt\\venv\\lib\\site-packages\\autots\\tools\\transform.py:888: FutureWarning: DataFrame.fillna with 'method' is deprecated and will raise in a future version. Use obj.ffill() or obj.bfill() instead.\n",
      "  df.tail(self.window).fillna(method=\"ffill\").fillna(method=\"bfill\")\n",
      "c:\\code\\ntnu\\semester9\\ml_prosjekt\\venv\\lib\\site-packages\\autots\\tools\\transform.py:891: FutureWarning: DataFrame.fillna with 'method' is deprecated and will raise in a future version. Use obj.ffill() or obj.bfill() instead.\n",
      "  df.head(self.window).fillna(method=\"ffill\").fillna(method=\"bfill\")\n",
      "c:\\code\\ntnu\\semester9\\ml_prosjekt\\venv\\lib\\site-packages\\autots\\tools\\transform.py:1377: FutureWarning: DataFrame.fillna with 'method' is deprecated and will raise in a future version. Use obj.ffill() or obj.bfill() instead.\n",
      "  df = (df - df.shift(self.lag)).fillna(method=\"bfill\")\n"
     ]
    },
    {
     "name": "stdout",
     "output_type": "stream",
     "text": [
      "Model Number: 163 with model AverageValueNaive in generation 4 of 5\n",
      "Model Number: 164 with model SeasonalNaive in generation 4 of 5\n"
     ]
    },
    {
     "name": "stderr",
     "output_type": "stream",
     "text": [
      "c:\\code\\ntnu\\semester9\\ml_prosjekt\\venv\\lib\\site-packages\\autots\\tools\\impute.py:42: FutureWarning: DataFrame.fillna with 'method' is deprecated and will raise in a future version. Use obj.ffill() or obj.bfill() instead.\n",
      "  df = df.fillna(method='ffill')\n",
      "c:\\code\\ntnu\\semester9\\ml_prosjekt\\venv\\lib\\site-packages\\autots\\tools\\impute.py:43: FutureWarning: DataFrame.fillna with 'method' is deprecated and will raise in a future version. Use obj.ffill() or obj.bfill() instead.\n",
      "  return df.fillna(method='bfill').fillna(0)\n",
      "c:\\code\\ntnu\\semester9\\ml_prosjekt\\venv\\lib\\site-packages\\autots\\tools\\transform.py:403: FutureWarning: DataFrame.fillna with 'method' is deprecated and will raise in a future version. Use obj.ffill() or obj.bfill() instead.\n",
      "  df = (df - cycles).fillna(method=\"ffill\").fillna(method=\"bfill\")\n",
      "c:\\code\\ntnu\\semester9\\ml_prosjekt\\venv\\lib\\site-packages\\autots\\models\\basics.py:440: FutureWarning: The 'axis' keyword in DataFrame.groupby is deprecated and will be removed in a future version.\n",
      "  self.tile_values_lag_1 = df.groupby(level=0, axis=0).median()\n"
     ]
    },
    {
     "name": "stdout",
     "output_type": "stream",
     "text": [
      "Model Number: 165 with model SeasonalNaive in generation 4 of 5\n"
     ]
    },
    {
     "name": "stderr",
     "output_type": "stream",
     "text": [
      "c:\\code\\ntnu\\semester9\\ml_prosjekt\\venv\\lib\\site-packages\\autots\\tools\\impute.py:42: FutureWarning: DataFrame.fillna with 'method' is deprecated and will raise in a future version. Use obj.ffill() or obj.bfill() instead.\n",
      "  df = df.fillna(method='ffill')\n",
      "c:\\code\\ntnu\\semester9\\ml_prosjekt\\venv\\lib\\site-packages\\autots\\tools\\impute.py:43: FutureWarning: DataFrame.fillna with 'method' is deprecated and will raise in a future version. Use obj.ffill() or obj.bfill() instead.\n",
      "  return df.fillna(method='bfill').fillna(0)\n"
     ]
    },
    {
     "name": "stdout",
     "output_type": "stream",
     "text": [
      "Model Number: 166 with model LastValueNaive in generation 4 of 5\n",
      "New Generation: 5 of 5\n",
      "Model Number: 167 with model SeasonalNaive in generation 5 of 5\n"
     ]
    },
    {
     "name": "stderr",
     "output_type": "stream",
     "text": [
      "c:\\code\\ntnu\\semester9\\ml_prosjekt\\venv\\lib\\site-packages\\autots\\tools\\transform.py:1377: FutureWarning: DataFrame.fillna with 'method' is deprecated and will raise in a future version. Use obj.ffill() or obj.bfill() instead.\n",
      "  df = (df - df.shift(self.lag)).fillna(method=\"bfill\")\n",
      "c:\\code\\ntnu\\semester9\\ml_prosjekt\\venv\\lib\\site-packages\\autots\\tools\\impute.py:243: FutureWarning: DataFrame.fillna with 'method' is deprecated and will raise in a future version. Use obj.ffill() or obj.bfill() instead.\n",
      "  df = df.interpolate(method=method, order=5).fillna(method='bfill')\n",
      "c:\\code\\ntnu\\semester9\\ml_prosjekt\\venv\\lib\\site-packages\\autots\\tools\\transform.py:1377: FutureWarning: DataFrame.fillna with 'method' is deprecated and will raise in a future version. Use obj.ffill() or obj.bfill() instead.\n",
      "  df = (df - df.shift(self.lag)).fillna(method=\"bfill\")\n",
      "c:\\code\\ntnu\\semester9\\ml_prosjekt\\venv\\lib\\site-packages\\autots\\tools\\transform.py:1377: FutureWarning: DataFrame.fillna with 'method' is deprecated and will raise in a future version. Use obj.ffill() or obj.bfill() instead.\n",
      "  df = (df - df.shift(self.lag)).fillna(method=\"bfill\")\n"
     ]
    },
    {
     "name": "stdout",
     "output_type": "stream",
     "text": [
      "Template Eval Error: Exception('Transformer AlignLastValue failed on inverse') in model 167 in generation 5: SeasonalNaive\n",
      "Model Number: 168 with model GLS in generation 5 of 5\n"
     ]
    },
    {
     "name": "stderr",
     "output_type": "stream",
     "text": [
      "c:\\code\\ntnu\\semester9\\ml_prosjekt\\venv\\lib\\site-packages\\autots\\tools\\transform.py:1377: FutureWarning: DataFrame.fillna with 'method' is deprecated and will raise in a future version. Use obj.ffill() or obj.bfill() instead.\n",
      "  df = (df - df.shift(self.lag)).fillna(method=\"bfill\")\n",
      "c:\\code\\ntnu\\semester9\\ml_prosjekt\\venv\\lib\\site-packages\\autots\\tools\\transform.py:3804: FutureWarning: DataFrame.fillna with 'method' is deprecated and will raise in a future version. Use obj.ffill() or obj.bfill() instead.\n",
      "  diff_smoothed = diff_abs.where(diff_mask_0, np.nan).fillna(\n",
      "c:\\code\\ntnu\\semester9\\ml_prosjekt\\venv\\lib\\site-packages\\autots\\tools\\transform.py:3817: FutureWarning: DataFrame.fillna with 'method' is deprecated and will raise in a future version. Use obj.ffill() or obj.bfill() instead.\n",
      "  group_ids = range_arr[~diff_mask].fillna(method='ffill')  # [diff_mask]\n",
      "c:\\code\\ntnu\\semester9\\ml_prosjekt\\venv\\lib\\site-packages\\autots\\tools\\transform.py:3876: FutureWarning: DataFrame.fillna with 'method' is deprecated and will raise in a future version. Use obj.ffill() or obj.bfill() instead.\n",
      "  return df - self.lvlshft.reindex(index=df.index, columns=df.columns).fillna(\n"
     ]
    },
    {
     "name": "stdout",
     "output_type": "stream",
     "text": [
      "Model Number: 169 with model GLS in generation 5 of 5\n",
      "Template Eval Error: Exception('Transformer BTCD failed on fit') in model 169 in generation 5: GLS\n",
      "Model Number: 170 with model SeasonalNaive in generation 5 of 5\n",
      "Template Eval Error: Exception('Transformer Detrend failed on fit') in model 170 in generation 5: SeasonalNaive\n",
      "Model Number: 171 with model AverageValueNaive in generation 5 of 5\n",
      "Model Number: 172 with model AverageValueNaive in generation 5 of 5\n",
      "Model Number: 173 with model AverageValueNaive in generation 5 of 5\n"
     ]
    },
    {
     "name": "stderr",
     "output_type": "stream",
     "text": [
      "c:\\code\\ntnu\\semester9\\ml_prosjekt\\venv\\lib\\site-packages\\autots\\tools\\transform.py:3886: FutureWarning: DataFrame.fillna with 'method' is deprecated and will raise in a future version. Use obj.ffill() or obj.bfill() instead.\n",
      "  return df + self.lvlshft.reindex(index=df.index, columns=df.columns).fillna(\n",
      "c:\\code\\ntnu\\semester9\\ml_prosjekt\\venv\\lib\\site-packages\\autots\\tools\\transform.py:3886: FutureWarning: DataFrame.fillna with 'method' is deprecated and will raise in a future version. Use obj.ffill() or obj.bfill() instead.\n",
      "  return df + self.lvlshft.reindex(index=df.index, columns=df.columns).fillna(\n",
      "c:\\code\\ntnu\\semester9\\ml_prosjekt\\venv\\lib\\site-packages\\autots\\tools\\transform.py:3886: FutureWarning: DataFrame.fillna with 'method' is deprecated and will raise in a future version. Use obj.ffill() or obj.bfill() instead.\n",
      "  return df + self.lvlshft.reindex(index=df.index, columns=df.columns).fillna(\n",
      "c:\\code\\ntnu\\semester9\\ml_prosjekt\\venv\\lib\\site-packages\\autots\\tools\\impute.py:42: FutureWarning: DataFrame.fillna with 'method' is deprecated and will raise in a future version. Use obj.ffill() or obj.bfill() instead.\n",
      "  df = df.fillna(method='ffill')\n",
      "c:\\code\\ntnu\\semester9\\ml_prosjekt\\venv\\lib\\site-packages\\autots\\tools\\impute.py:43: FutureWarning: DataFrame.fillna with 'method' is deprecated and will raise in a future version. Use obj.ffill() or obj.bfill() instead.\n",
      "  return df.fillna(method='bfill').fillna(0)\n",
      "c:\\code\\ntnu\\semester9\\ml_prosjekt\\venv\\lib\\site-packages\\autots\\tools\\transform.py:1004: FutureWarning: The 'axis' keyword in DataFrame.groupby is deprecated and will be removed in a future version.\n",
      "  self.tile_values_lag_1 = df2.groupby(level=0, axis=0).median()\n",
      "c:\\code\\ntnu\\semester9\\ml_prosjekt\\venv\\lib\\site-packages\\autots\\tools\\impute.py:42: FutureWarning: DataFrame.fillna with 'method' is deprecated and will raise in a future version. Use obj.ffill() or obj.bfill() instead.\n",
      "  df = df.fillna(method='ffill')\n",
      "c:\\code\\ntnu\\semester9\\ml_prosjekt\\venv\\lib\\site-packages\\autots\\tools\\impute.py:43: FutureWarning: DataFrame.fillna with 'method' is deprecated and will raise in a future version. Use obj.ffill() or obj.bfill() instead.\n",
      "  return df.fillna(method='bfill').fillna(0)\n",
      "c:\\code\\ntnu\\semester9\\ml_prosjekt\\venv\\lib\\site-packages\\autots\\tools\\transform.py:1006: FutureWarning: The 'axis' keyword in DataFrame.groupby is deprecated and will be removed in a future version.\n",
      "  self.tile_values_lag_1 = df2.groupby(level=0, axis=0).mean()\n",
      "c:\\code\\ntnu\\semester9\\ml_prosjekt\\venv\\lib\\site-packages\\autots\\tools\\transform.py:1377: FutureWarning: DataFrame.fillna with 'method' is deprecated and will raise in a future version. Use obj.ffill() or obj.bfill() instead.\n",
      "  df = (df - df.shift(self.lag)).fillna(method=\"bfill\")\n",
      "c:\\code\\ntnu\\semester9\\ml_prosjekt\\venv\\lib\\site-packages\\autots\\tools\\transform.py:1006: FutureWarning: The 'axis' keyword in DataFrame.groupby is deprecated and will be removed in a future version.\n",
      "  self.tile_values_lag_1 = df2.groupby(level=0, axis=0).mean()\n",
      "c:\\code\\ntnu\\semester9\\ml_prosjekt\\venv\\lib\\site-packages\\autots\\tools\\impute.py:42: FutureWarning: DataFrame.fillna with 'method' is deprecated and will raise in a future version. Use obj.ffill() or obj.bfill() instead.\n",
      "  df = df.fillna(method='ffill')\n",
      "c:\\code\\ntnu\\semester9\\ml_prosjekt\\venv\\lib\\site-packages\\autots\\tools\\impute.py:43: FutureWarning: DataFrame.fillna with 'method' is deprecated and will raise in a future version. Use obj.ffill() or obj.bfill() instead.\n",
      "  return df.fillna(method='bfill').fillna(0)\n",
      "c:\\code\\ntnu\\semester9\\ml_prosjekt\\venv\\lib\\site-packages\\autots\\tools\\transform.py:1006: FutureWarning: The 'axis' keyword in DataFrame.groupby is deprecated and will be removed in a future version.\n",
      "  self.tile_values_lag_1 = df2.groupby(level=0, axis=0).mean()\n",
      "c:\\code\\ntnu\\semester9\\ml_prosjekt\\venv\\lib\\site-packages\\autots\\tools\\transform.py:1377: FutureWarning: DataFrame.fillna with 'method' is deprecated and will raise in a future version. Use obj.ffill() or obj.bfill() instead.\n",
      "  df = (df - df.shift(self.lag)).fillna(method=\"bfill\")\n",
      "c:\\code\\ntnu\\semester9\\ml_prosjekt\\venv\\lib\\site-packages\\autots\\tools\\transform.py:1377: FutureWarning: DataFrame.fillna with 'method' is deprecated and will raise in a future version. Use obj.ffill() or obj.bfill() instead.\n",
      "  df = (df - df.shift(self.lag)).fillna(method=\"bfill\")\n"
     ]
    },
    {
     "name": "stdout",
     "output_type": "stream",
     "text": [
      "Model Number: 174 with model AverageValueNaive in generation 5 of 5\n",
      "Template Eval Error: Exception('Transformer BTCD failed on fit') in model 174 in generation 5: AverageValueNaive\n",
      "Model Number: 175 with model GLS in generation 5 of 5\n",
      "Model Number: 176 with model GLS in generation 5 of 5\n",
      "Model Number: 177 with model GLS in generation 5 of 5\n"
     ]
    },
    {
     "name": "stderr",
     "output_type": "stream",
     "text": [
      "c:\\code\\ntnu\\semester9\\ml_prosjekt\\venv\\lib\\site-packages\\autots\\tools\\impute.py:243: FutureWarning: DataFrame.fillna with 'method' is deprecated and will raise in a future version. Use obj.ffill() or obj.bfill() instead.\n",
      "  df = df.interpolate(method=method, order=5).fillna(method='bfill')\n",
      "c:\\code\\ntnu\\semester9\\ml_prosjekt\\venv\\lib\\site-packages\\autots\\tools\\transform.py:1377: FutureWarning: DataFrame.fillna with 'method' is deprecated and will raise in a future version. Use obj.ffill() or obj.bfill() instead.\n",
      "  df = (df - df.shift(self.lag)).fillna(method=\"bfill\")\n"
     ]
    },
    {
     "name": "stdout",
     "output_type": "stream",
     "text": [
      "Model Number: 178 with model AverageValueNaive in generation 5 of 5\n",
      "Model Number: 179 with model GLS in generation 5 of 5\n"
     ]
    },
    {
     "name": "stderr",
     "output_type": "stream",
     "text": [
      "c:\\code\\ntnu\\semester9\\ml_prosjekt\\venv\\lib\\site-packages\\autots\\tools\\impute.py:42: FutureWarning: DataFrame.fillna with 'method' is deprecated and will raise in a future version. Use obj.ffill() or obj.bfill() instead.\n",
      "  df = df.fillna(method='ffill')\n",
      "c:\\code\\ntnu\\semester9\\ml_prosjekt\\venv\\lib\\site-packages\\autots\\tools\\impute.py:43: FutureWarning: DataFrame.fillna with 'method' is deprecated and will raise in a future version. Use obj.ffill() or obj.bfill() instead.\n",
      "  return df.fillna(method='bfill').fillna(0)\n",
      "c:\\code\\ntnu\\semester9\\ml_prosjekt\\venv\\lib\\site-packages\\autots\\tools\\impute.py:42: FutureWarning: DataFrame.fillna with 'method' is deprecated and will raise in a future version. Use obj.ffill() or obj.bfill() instead.\n",
      "  df = df.fillna(method='ffill')\n",
      "c:\\code\\ntnu\\semester9\\ml_prosjekt\\venv\\lib\\site-packages\\autots\\tools\\impute.py:43: FutureWarning: DataFrame.fillna with 'method' is deprecated and will raise in a future version. Use obj.ffill() or obj.bfill() instead.\n",
      "  return df.fillna(method='bfill').fillna(0)\n",
      "c:\\code\\ntnu\\semester9\\ml_prosjekt\\venv\\lib\\site-packages\\autots\\tools\\transform.py:3804: FutureWarning: DataFrame.fillna with 'method' is deprecated and will raise in a future version. Use obj.ffill() or obj.bfill() instead.\n",
      "  diff_smoothed = diff_abs.where(diff_mask_0, np.nan).fillna(\n",
      "c:\\code\\ntnu\\semester9\\ml_prosjekt\\venv\\lib\\site-packages\\autots\\tools\\transform.py:3817: FutureWarning: DataFrame.fillna with 'method' is deprecated and will raise in a future version. Use obj.ffill() or obj.bfill() instead.\n",
      "  group_ids = range_arr[~diff_mask].fillna(method='ffill')  # [diff_mask]\n",
      "c:\\code\\ntnu\\semester9\\ml_prosjekt\\venv\\lib\\site-packages\\autots\\tools\\transform.py:3876: FutureWarning: DataFrame.fillna with 'method' is deprecated and will raise in a future version. Use obj.ffill() or obj.bfill() instead.\n",
      "  return df - self.lvlshft.reindex(index=df.index, columns=df.columns).fillna(\n",
      "c:\\code\\ntnu\\semester9\\ml_prosjekt\\venv\\lib\\site-packages\\autots\\tools\\transform.py:3804: FutureWarning: DataFrame.fillna with 'method' is deprecated and will raise in a future version. Use obj.ffill() or obj.bfill() instead.\n",
      "  diff_smoothed = diff_abs.where(diff_mask_0, np.nan).fillna(\n",
      "c:\\code\\ntnu\\semester9\\ml_prosjekt\\venv\\lib\\site-packages\\autots\\tools\\transform.py:3817: FutureWarning: DataFrame.fillna with 'method' is deprecated and will raise in a future version. Use obj.ffill() or obj.bfill() instead.\n",
      "  group_ids = range_arr[~diff_mask].fillna(method='ffill')  # [diff_mask]\n",
      "c:\\code\\ntnu\\semester9\\ml_prosjekt\\venv\\lib\\site-packages\\autots\\tools\\transform.py:3876: FutureWarning: DataFrame.fillna with 'method' is deprecated and will raise in a future version. Use obj.ffill() or obj.bfill() instead.\n",
      "  return df - self.lvlshft.reindex(index=df.index, columns=df.columns).fillna(\n",
      "c:\\code\\ntnu\\semester9\\ml_prosjekt\\venv\\lib\\site-packages\\autots\\tools\\transform.py:3886: FutureWarning: DataFrame.fillna with 'method' is deprecated and will raise in a future version. Use obj.ffill() or obj.bfill() instead.\n",
      "  return df + self.lvlshft.reindex(index=df.index, columns=df.columns).fillna(\n",
      "c:\\code\\ntnu\\semester9\\ml_prosjekt\\venv\\lib\\site-packages\\autots\\tools\\transform.py:3886: FutureWarning: DataFrame.fillna with 'method' is deprecated and will raise in a future version. Use obj.ffill() or obj.bfill() instead.\n",
      "  return df + self.lvlshft.reindex(index=df.index, columns=df.columns).fillna(\n",
      "c:\\code\\ntnu\\semester9\\ml_prosjekt\\venv\\lib\\site-packages\\autots\\tools\\transform.py:3886: FutureWarning: DataFrame.fillna with 'method' is deprecated and will raise in a future version. Use obj.ffill() or obj.bfill() instead.\n",
      "  return df + self.lvlshft.reindex(index=df.index, columns=df.columns).fillna(\n",
      "c:\\code\\ntnu\\semester9\\ml_prosjekt\\venv\\lib\\site-packages\\autots\\tools\\transform.py:3886: FutureWarning: DataFrame.fillna with 'method' is deprecated and will raise in a future version. Use obj.ffill() or obj.bfill() instead.\n",
      "  return df + self.lvlshft.reindex(index=df.index, columns=df.columns).fillna(\n",
      "c:\\code\\ntnu\\semester9\\ml_prosjekt\\venv\\lib\\site-packages\\autots\\tools\\impute.py:42: FutureWarning: DataFrame.fillna with 'method' is deprecated and will raise in a future version. Use obj.ffill() or obj.bfill() instead.\n",
      "  df = df.fillna(method='ffill')\n",
      "c:\\code\\ntnu\\semester9\\ml_prosjekt\\venv\\lib\\site-packages\\autots\\tools\\impute.py:43: FutureWarning: DataFrame.fillna with 'method' is deprecated and will raise in a future version. Use obj.ffill() or obj.bfill() instead.\n",
      "  return df.fillna(method='bfill').fillna(0)\n",
      "c:\\code\\ntnu\\semester9\\ml_prosjekt\\venv\\lib\\site-packages\\autots\\tools\\transform.py:888: FutureWarning: DataFrame.fillna with 'method' is deprecated and will raise in a future version. Use obj.ffill() or obj.bfill() instead.\n",
      "  df.tail(self.window).fillna(method=\"ffill\").fillna(method=\"bfill\")\n",
      "c:\\code\\ntnu\\semester9\\ml_prosjekt\\venv\\lib\\site-packages\\autots\\tools\\transform.py:891: FutureWarning: DataFrame.fillna with 'method' is deprecated and will raise in a future version. Use obj.ffill() or obj.bfill() instead.\n",
      "  df.head(self.window).fillna(method=\"ffill\").fillna(method=\"bfill\")\n"
     ]
    },
    {
     "name": "stdout",
     "output_type": "stream",
     "text": [
      "Model Number: 180 with model LastValueNaive in generation 5 of 5\n",
      "Model Number: 181 with model LastValueNaive in generation 5 of 5\n",
      "Model Number: 182 with model LastValueNaive in generation 5 of 5\n",
      "Model Number: 183 with model LastValueNaive in generation 5 of 5\n",
      "Model Number: 184 with model AverageValueNaive in generation 5 of 5\n",
      "Model Number: 185 with model AverageValueNaive in generation 5 of 5\n",
      "Model Number: 186 with model AverageValueNaive in generation 5 of 5\n",
      "Model Number: 187 with model SeasonalNaive in generation 5 of 5\n"
     ]
    },
    {
     "name": "stderr",
     "output_type": "stream",
     "text": [
      "c:\\code\\ntnu\\semester9\\ml_prosjekt\\venv\\lib\\site-packages\\autots\\tools\\impute.py:243: FutureWarning: DataFrame.interpolate with method=pad is deprecated and will raise in a future version. Use obj.ffill() or obj.bfill() instead.\n",
      "  df = df.interpolate(method=method, order=5).fillna(method='bfill')\n",
      "c:\\code\\ntnu\\semester9\\ml_prosjekt\\venv\\lib\\site-packages\\autots\\tools\\impute.py:243: FutureWarning: DataFrame.fillna with 'method' is deprecated and will raise in a future version. Use obj.ffill() or obj.bfill() instead.\n",
      "  df = df.interpolate(method=method, order=5).fillna(method='bfill')\n",
      "c:\\code\\ntnu\\semester9\\ml_prosjekt\\venv\\lib\\site-packages\\autots\\tools\\transform.py:888: FutureWarning: DataFrame.fillna with 'method' is deprecated and will raise in a future version. Use obj.ffill() or obj.bfill() instead.\n",
      "  df.tail(self.window).fillna(method=\"ffill\").fillna(method=\"bfill\")\n",
      "c:\\code\\ntnu\\semester9\\ml_prosjekt\\venv\\lib\\site-packages\\autots\\tools\\transform.py:891: FutureWarning: DataFrame.fillna with 'method' is deprecated and will raise in a future version. Use obj.ffill() or obj.bfill() instead.\n",
      "  df.head(self.window).fillna(method=\"ffill\").fillna(method=\"bfill\")\n",
      "c:\\code\\ntnu\\semester9\\ml_prosjekt\\venv\\lib\\site-packages\\autots\\tools\\transform.py:403: FutureWarning: DataFrame.fillna with 'method' is deprecated and will raise in a future version. Use obj.ffill() or obj.bfill() instead.\n",
      "  df = (df - cycles).fillna(method=\"ffill\").fillna(method=\"bfill\")\n",
      "c:\\code\\ntnu\\semester9\\ml_prosjekt\\venv\\lib\\site-packages\\autots\\tools\\transform.py:1377: FutureWarning: DataFrame.fillna with 'method' is deprecated and will raise in a future version. Use obj.ffill() or obj.bfill() instead.\n",
      "  df = (df - df.shift(self.lag)).fillna(method=\"bfill\")\n",
      "c:\\code\\ntnu\\semester9\\ml_prosjekt\\venv\\lib\\site-packages\\autots\\tools\\impute.py:42: FutureWarning: DataFrame.fillna with 'method' is deprecated and will raise in a future version. Use obj.ffill() or obj.bfill() instead.\n",
      "  df = df.fillna(method='ffill')\n",
      "c:\\code\\ntnu\\semester9\\ml_prosjekt\\venv\\lib\\site-packages\\autots\\tools\\impute.py:43: FutureWarning: DataFrame.fillna with 'method' is deprecated and will raise in a future version. Use obj.ffill() or obj.bfill() instead.\n",
      "  return df.fillna(method='bfill').fillna(0)\n",
      "c:\\code\\ntnu\\semester9\\ml_prosjekt\\venv\\lib\\site-packages\\autots\\tools\\impute.py:42: FutureWarning: DataFrame.fillna with 'method' is deprecated and will raise in a future version. Use obj.ffill() or obj.bfill() instead.\n",
      "  df = df.fillna(method='ffill')\n",
      "c:\\code\\ntnu\\semester9\\ml_prosjekt\\venv\\lib\\site-packages\\autots\\tools\\impute.py:43: FutureWarning: DataFrame.fillna with 'method' is deprecated and will raise in a future version. Use obj.ffill() or obj.bfill() instead.\n",
      "  return df.fillna(method='bfill').fillna(0)\n",
      "c:\\code\\ntnu\\semester9\\ml_prosjekt\\venv\\lib\\site-packages\\autots\\tools\\impute.py:42: FutureWarning: DataFrame.fillna with 'method' is deprecated and will raise in a future version. Use obj.ffill() or obj.bfill() instead.\n",
      "  df = df.fillna(method='ffill')\n",
      "c:\\code\\ntnu\\semester9\\ml_prosjekt\\venv\\lib\\site-packages\\autots\\tools\\impute.py:43: FutureWarning: DataFrame.fillna with 'method' is deprecated and will raise in a future version. Use obj.ffill() or obj.bfill() instead.\n",
      "  return df.fillna(method='bfill').fillna(0)\n",
      "c:\\code\\ntnu\\semester9\\ml_prosjekt\\venv\\lib\\site-packages\\autots\\tools\\transform.py:3804: FutureWarning: DataFrame.fillna with 'method' is deprecated and will raise in a future version. Use obj.ffill() or obj.bfill() instead.\n",
      "  diff_smoothed = diff_abs.where(diff_mask_0, np.nan).fillna(\n",
      "c:\\code\\ntnu\\semester9\\ml_prosjekt\\venv\\lib\\site-packages\\autots\\tools\\transform.py:3817: FutureWarning: DataFrame.fillna with 'method' is deprecated and will raise in a future version. Use obj.ffill() or obj.bfill() instead.\n",
      "  group_ids = range_arr[~diff_mask].fillna(method='ffill')  # [diff_mask]\n",
      "c:\\code\\ntnu\\semester9\\ml_prosjekt\\venv\\lib\\site-packages\\autots\\tools\\transform.py:3876: FutureWarning: DataFrame.fillna with 'method' is deprecated and will raise in a future version. Use obj.ffill() or obj.bfill() instead.\n",
      "  return df - self.lvlshft.reindex(index=df.index, columns=df.columns).fillna(\n",
      "c:\\code\\ntnu\\semester9\\ml_prosjekt\\venv\\lib\\site-packages\\autots\\tools\\transform.py:1006: FutureWarning: The 'axis' keyword in DataFrame.groupby is deprecated and will be removed in a future version.\n",
      "  self.tile_values_lag_1 = df2.groupby(level=0, axis=0).mean()\n",
      "c:\\code\\ntnu\\semester9\\ml_prosjekt\\venv\\lib\\site-packages\\autots\\tools\\transform.py:3886: FutureWarning: DataFrame.fillna with 'method' is deprecated and will raise in a future version. Use obj.ffill() or obj.bfill() instead.\n",
      "  return df + self.lvlshft.reindex(index=df.index, columns=df.columns).fillna(\n",
      "c:\\code\\ntnu\\semester9\\ml_prosjekt\\venv\\lib\\site-packages\\autots\\tools\\transform.py:3886: FutureWarning: DataFrame.fillna with 'method' is deprecated and will raise in a future version. Use obj.ffill() or obj.bfill() instead.\n",
      "  return df + self.lvlshft.reindex(index=df.index, columns=df.columns).fillna(\n",
      "c:\\code\\ntnu\\semester9\\ml_prosjekt\\venv\\lib\\site-packages\\autots\\tools\\transform.py:3886: FutureWarning: DataFrame.fillna with 'method' is deprecated and will raise in a future version. Use obj.ffill() or obj.bfill() instead.\n",
      "  return df + self.lvlshft.reindex(index=df.index, columns=df.columns).fillna(\n",
      "c:\\code\\ntnu\\semester9\\ml_prosjekt\\venv\\lib\\site-packages\\autots\\tools\\transform.py:1006: FutureWarning: The 'axis' keyword in DataFrame.groupby is deprecated and will be removed in a future version.\n",
      "  self.tile_values_lag_1 = df2.groupby(level=0, axis=0).mean()\n",
      "c:\\code\\ntnu\\semester9\\ml_prosjekt\\venv\\lib\\site-packages\\autots\\tools\\transform.py:403: FutureWarning: DataFrame.fillna with 'method' is deprecated and will raise in a future version. Use obj.ffill() or obj.bfill() instead.\n",
      "  df = (df - cycles).fillna(method=\"ffill\").fillna(method=\"bfill\")\n",
      "c:\\code\\ntnu\\semester9\\ml_prosjekt\\venv\\lib\\site-packages\\autots\\tools\\transform.py:1377: FutureWarning: DataFrame.fillna with 'method' is deprecated and will raise in a future version. Use obj.ffill() or obj.bfill() instead.\n",
      "  df = (df - df.shift(self.lag)).fillna(method=\"bfill\")\n",
      "c:\\code\\ntnu\\semester9\\ml_prosjekt\\venv\\lib\\site-packages\\autots\\models\\basics.py:440: FutureWarning: The 'axis' keyword in DataFrame.groupby is deprecated and will be removed in a future version.\n",
      "  self.tile_values_lag_1 = df.groupby(level=0, axis=0).median()\n"
     ]
    },
    {
     "name": "stdout",
     "output_type": "stream",
     "text": [
      "Model Number: 188 with model AverageValueNaive in generation 5 of 5\n",
      "Model Number: 189 with model SeasonalNaive in generation 5 of 5\n"
     ]
    },
    {
     "name": "stderr",
     "output_type": "stream",
     "text": [
      "c:\\code\\ntnu\\semester9\\ml_prosjekt\\venv\\lib\\site-packages\\autots\\tools\\impute.py:42: FutureWarning: DataFrame.fillna with 'method' is deprecated and will raise in a future version. Use obj.ffill() or obj.bfill() instead.\n",
      "  df = df.fillna(method='ffill')\n",
      "c:\\code\\ntnu\\semester9\\ml_prosjekt\\venv\\lib\\site-packages\\autots\\tools\\impute.py:43: FutureWarning: DataFrame.fillna with 'method' is deprecated and will raise in a future version. Use obj.ffill() or obj.bfill() instead.\n",
      "  return df.fillna(method='bfill').fillna(0)\n",
      "c:\\code\\ntnu\\semester9\\ml_prosjekt\\venv\\lib\\site-packages\\autots\\tools\\transform.py:1006: FutureWarning: The 'axis' keyword in DataFrame.groupby is deprecated and will be removed in a future version.\n",
      "  self.tile_values_lag_1 = df2.groupby(level=0, axis=0).mean()\n"
     ]
    },
    {
     "name": "stdout",
     "output_type": "stream",
     "text": [
      "Template Eval Error: MemoryError((36344, 36344, 52), dtype('float64')) in model 189 in generation 5: SeasonalNaive\n",
      "Model Number: 190 with model LastValueNaive in generation 5 of 5\n",
      "TotalRuntime missing in 6!\n",
      "Validation Round: 1\n",
      "Model Number: 1 of 29 with model AverageValueNaive for Validation 1\n"
     ]
    },
    {
     "name": "stderr",
     "output_type": "stream",
     "text": [
      "c:\\code\\ntnu\\semester9\\ml_prosjekt\\venv\\lib\\site-packages\\autots\\tools\\impute.py:42: FutureWarning: DataFrame.fillna with 'method' is deprecated and will raise in a future version. Use obj.ffill() or obj.bfill() instead.\n",
      "  df = df.fillna(method='ffill')\n",
      "c:\\code\\ntnu\\semester9\\ml_prosjekt\\venv\\lib\\site-packages\\autots\\tools\\impute.py:43: FutureWarning: DataFrame.fillna with 'method' is deprecated and will raise in a future version. Use obj.ffill() or obj.bfill() instead.\n",
      "  return df.fillna(method='bfill').fillna(0)\n",
      "c:\\code\\ntnu\\semester9\\ml_prosjekt\\venv\\lib\\site-packages\\autots\\tools\\transform.py:403: FutureWarning: DataFrame.fillna with 'method' is deprecated and will raise in a future version. Use obj.ffill() or obj.bfill() instead.\n",
      "  df = (df - cycles).fillna(method=\"ffill\").fillna(method=\"bfill\")\n",
      "c:\\code\\ntnu\\semester9\\ml_prosjekt\\venv\\lib\\site-packages\\autots\\tools\\transform.py:1377: FutureWarning: DataFrame.fillna with 'method' is deprecated and will raise in a future version. Use obj.ffill() or obj.bfill() instead.\n",
      "  df = (df - df.shift(self.lag)).fillna(method=\"bfill\")\n",
      "c:\\code\\ntnu\\semester9\\ml_prosjekt\\venv\\lib\\site-packages\\autots\\evaluator\\auto_model.py:1409: RuntimeWarning: Mean of empty slice\n",
      "  scaler = np.nanmean(np.abs(np.diff(df_train[-100:], axis=0)), axis=0)\n",
      "c:\\code\\ntnu\\semester9\\ml_prosjekt\\venv\\lib\\site-packages\\autots\\evaluator\\auto_model.py:1410: RuntimeWarning: All-NaN slice encountered\n",
      "  fill_val = np.nanmax(scaler)\n",
      "c:\\code\\ntnu\\semester9\\ml_prosjekt\\venv\\lib\\site-packages\\autots\\tools\\transform.py:1377: FutureWarning: DataFrame.fillna with 'method' is deprecated and will raise in a future version. Use obj.ffill() or obj.bfill() instead.\n",
      "  df = (df - df.shift(self.lag)).fillna(method=\"bfill\")\n"
     ]
    },
    {
     "name": "stdout",
     "output_type": "stream",
     "text": [
      "📈 1 - AverageValueNaive with avg smape 182.85: \n",
      "Model Number: 2 of 29 with model AverageValueNaive for Validation 1\n",
      "📈 2 - AverageValueNaive with avg smape 179.14: \n",
      "Model Number: 3 of 29 with model AverageValueNaive for Validation 1\n",
      "3 - AverageValueNaive with avg smape 182.85: \n",
      "Model Number: 4 of 29 with model SeasonalNaive for Validation 1\n"
     ]
    },
    {
     "name": "stderr",
     "output_type": "stream",
     "text": [
      "c:\\code\\ntnu\\semester9\\ml_prosjekt\\venv\\lib\\site-packages\\autots\\tools\\impute.py:42: FutureWarning: DataFrame.fillna with 'method' is deprecated and will raise in a future version. Use obj.ffill() or obj.bfill() instead.\n",
      "  df = df.fillna(method='ffill')\n",
      "c:\\code\\ntnu\\semester9\\ml_prosjekt\\venv\\lib\\site-packages\\autots\\tools\\impute.py:43: FutureWarning: DataFrame.fillna with 'method' is deprecated and will raise in a future version. Use obj.ffill() or obj.bfill() instead.\n",
      "  return df.fillna(method='bfill').fillna(0)\n",
      "c:\\code\\ntnu\\semester9\\ml_prosjekt\\venv\\lib\\site-packages\\autots\\tools\\transform.py:1377: FutureWarning: DataFrame.fillna with 'method' is deprecated and will raise in a future version. Use obj.ffill() or obj.bfill() instead.\n",
      "  df = (df - df.shift(self.lag)).fillna(method=\"bfill\")\n",
      "c:\\code\\ntnu\\semester9\\ml_prosjekt\\venv\\lib\\site-packages\\autots\\tools\\transform.py:1377: FutureWarning: DataFrame.fillna with 'method' is deprecated and will raise in a future version. Use obj.ffill() or obj.bfill() instead.\n",
      "  df = (df - df.shift(self.lag)).fillna(method=\"bfill\")\n",
      "c:\\code\\ntnu\\semester9\\ml_prosjekt\\venv\\lib\\site-packages\\autots\\tools\\transform.py:1377: FutureWarning: DataFrame.fillna with 'method' is deprecated and will raise in a future version. Use obj.ffill() or obj.bfill() instead.\n",
      "  df = (df - df.shift(self.lag)).fillna(method=\"bfill\")\n",
      "c:\\code\\ntnu\\semester9\\ml_prosjekt\\venv\\lib\\site-packages\\autots\\models\\basics.py:442: FutureWarning: The 'axis' keyword in DataFrame.groupby is deprecated and will be removed in a future version.\n",
      "  self.tile_values_lag_1 = df.groupby(level=0, axis=0).mean()\n"
     ]
    },
    {
     "name": "stdout",
     "output_type": "stream",
     "text": [
      "4 - SeasonalNaive with avg smape 182.85: \n",
      "Model Number: 5 of 29 with model SeasonalNaive for Validation 1\n"
     ]
    },
    {
     "name": "stderr",
     "output_type": "stream",
     "text": [
      "c:\\code\\ntnu\\semester9\\ml_prosjekt\\venv\\lib\\site-packages\\autots\\tools\\transform.py:1377: FutureWarning: DataFrame.fillna with 'method' is deprecated and will raise in a future version. Use obj.ffill() or obj.bfill() instead.\n",
      "  df = (df - df.shift(self.lag)).fillna(method=\"bfill\")\n"
     ]
    },
    {
     "name": "stdout",
     "output_type": "stream",
     "text": [
      "5 - SeasonalNaive with avg smape 182.85: \n",
      "Model Number: 6 of 29 with model GLS for Validation 1\n"
     ]
    },
    {
     "name": "stderr",
     "output_type": "stream",
     "text": [
      "c:\\code\\ntnu\\semester9\\ml_prosjekt\\venv\\lib\\site-packages\\autots\\tools\\transform.py:1377: FutureWarning: DataFrame.fillna with 'method' is deprecated and will raise in a future version. Use obj.ffill() or obj.bfill() instead.\n",
      "  df = (df - df.shift(self.lag)).fillna(method=\"bfill\")\n"
     ]
    },
    {
     "name": "stdout",
     "output_type": "stream",
     "text": [
      "6 - GLS with avg smape 182.85: \n",
      "Model Number: 7 of 29 with model AverageValueNaive for Validation 1\n",
      "📈 7 - AverageValueNaive with avg smape 46.77: \n",
      "Model Number: 8 of 29 with model GLS for Validation 1\n"
     ]
    },
    {
     "name": "stderr",
     "output_type": "stream",
     "text": [
      "c:\\code\\ntnu\\semester9\\ml_prosjekt\\venv\\lib\\site-packages\\autots\\tools\\impute.py:243: FutureWarning: DataFrame.fillna with 'method' is deprecated and will raise in a future version. Use obj.ffill() or obj.bfill() instead.\n",
      "  df = df.interpolate(method=method, order=5).fillna(method='bfill')\n",
      "c:\\code\\ntnu\\semester9\\ml_prosjekt\\venv\\lib\\site-packages\\autots\\tools\\impute.py:42: FutureWarning: DataFrame.fillna with 'method' is deprecated and will raise in a future version. Use obj.ffill() or obj.bfill() instead.\n",
      "  df = df.fillna(method='ffill')\n",
      "c:\\code\\ntnu\\semester9\\ml_prosjekt\\venv\\lib\\site-packages\\autots\\tools\\impute.py:43: FutureWarning: DataFrame.fillna with 'method' is deprecated and will raise in a future version. Use obj.ffill() or obj.bfill() instead.\n",
      "  return df.fillna(method='bfill').fillna(0)\n",
      "c:\\code\\ntnu\\semester9\\ml_prosjekt\\venv\\lib\\site-packages\\autots\\tools\\transform.py:1377: FutureWarning: DataFrame.fillna with 'method' is deprecated and will raise in a future version. Use obj.ffill() or obj.bfill() instead.\n",
      "  df = (df - df.shift(self.lag)).fillna(method=\"bfill\")\n"
     ]
    },
    {
     "name": "stdout",
     "output_type": "stream",
     "text": [
      "8 - GLS with avg smape 195.83: \n",
      "Model Number: 9 of 29 with model AverageValueNaive for Validation 1\n",
      "9 - AverageValueNaive with avg smape 183.52: \n",
      "Model Number: 10 of 29 with model AverageValueNaive for Validation 1\n",
      "10 - AverageValueNaive with avg smape 176.67: \n",
      "Model Number: 11 of 29 with model GLS for Validation 1\n"
     ]
    },
    {
     "name": "stderr",
     "output_type": "stream",
     "text": [
      "c:\\code\\ntnu\\semester9\\ml_prosjekt\\venv\\lib\\site-packages\\autots\\tools\\impute.py:42: FutureWarning: DataFrame.fillna with 'method' is deprecated and will raise in a future version. Use obj.ffill() or obj.bfill() instead.\n",
      "  df = df.fillna(method='ffill')\n",
      "c:\\code\\ntnu\\semester9\\ml_prosjekt\\venv\\lib\\site-packages\\autots\\tools\\impute.py:43: FutureWarning: DataFrame.fillna with 'method' is deprecated and will raise in a future version. Use obj.ffill() or obj.bfill() instead.\n",
      "  return df.fillna(method='bfill').fillna(0)\n",
      "c:\\code\\ntnu\\semester9\\ml_prosjekt\\venv\\lib\\site-packages\\autots\\tools\\transform.py:1006: FutureWarning: The 'axis' keyword in DataFrame.groupby is deprecated and will be removed in a future version.\n",
      "  self.tile_values_lag_1 = df2.groupby(level=0, axis=0).mean()\n",
      "c:\\code\\ntnu\\semester9\\ml_prosjekt\\venv\\lib\\site-packages\\autots\\tools\\impute.py:42: FutureWarning: DataFrame.fillna with 'method' is deprecated and will raise in a future version. Use obj.ffill() or obj.bfill() instead.\n",
      "  df = df.fillna(method='ffill')\n",
      "c:\\code\\ntnu\\semester9\\ml_prosjekt\\venv\\lib\\site-packages\\autots\\tools\\impute.py:43: FutureWarning: DataFrame.fillna with 'method' is deprecated and will raise in a future version. Use obj.ffill() or obj.bfill() instead.\n",
      "  return df.fillna(method='bfill').fillna(0)\n",
      "c:\\code\\ntnu\\semester9\\ml_prosjekt\\venv\\lib\\site-packages\\autots\\tools\\impute.py:42: FutureWarning: DataFrame.fillna with 'method' is deprecated and will raise in a future version. Use obj.ffill() or obj.bfill() instead.\n",
      "  df = df.fillna(method='ffill')\n",
      "c:\\code\\ntnu\\semester9\\ml_prosjekt\\venv\\lib\\site-packages\\autots\\tools\\impute.py:43: FutureWarning: DataFrame.fillna with 'method' is deprecated and will raise in a future version. Use obj.ffill() or obj.bfill() instead.\n",
      "  return df.fillna(method='bfill').fillna(0)\n",
      "c:\\code\\ntnu\\semester9\\ml_prosjekt\\venv\\lib\\site-packages\\autots\\tools\\transform.py:1377: FutureWarning: DataFrame.fillna with 'method' is deprecated and will raise in a future version. Use obj.ffill() or obj.bfill() instead.\n",
      "  df = (df - df.shift(self.lag)).fillna(method=\"bfill\")\n"
     ]
    },
    {
     "name": "stdout",
     "output_type": "stream",
     "text": [
      "11 - GLS with avg smape 194.36: \n",
      "Model Number: 12 of 29 with model SeasonalNaive for Validation 1\n"
     ]
    },
    {
     "name": "stderr",
     "output_type": "stream",
     "text": [
      "c:\\code\\ntnu\\semester9\\ml_prosjekt\\venv\\lib\\site-packages\\autots\\tools\\transform.py:1377: FutureWarning: DataFrame.fillna with 'method' is deprecated and will raise in a future version. Use obj.ffill() or obj.bfill() instead.\n",
      "  df = (df - df.shift(self.lag)).fillna(method=\"bfill\")\n"
     ]
    },
    {
     "name": "stdout",
     "output_type": "stream",
     "text": [
      "12 - SeasonalNaive with avg smape 182.85: \n",
      "Model Number: 13 of 29 with model SeasonalNaive for Validation 1\n"
     ]
    },
    {
     "name": "stderr",
     "output_type": "stream",
     "text": [
      "c:\\code\\ntnu\\semester9\\ml_prosjekt\\venv\\lib\\site-packages\\autots\\tools\\impute.py:42: FutureWarning: DataFrame.fillna with 'method' is deprecated and will raise in a future version. Use obj.ffill() or obj.bfill() instead.\n",
      "  df = df.fillna(method='ffill')\n",
      "c:\\code\\ntnu\\semester9\\ml_prosjekt\\venv\\lib\\site-packages\\autots\\tools\\impute.py:43: FutureWarning: DataFrame.fillna with 'method' is deprecated and will raise in a future version. Use obj.ffill() or obj.bfill() instead.\n",
      "  return df.fillna(method='bfill').fillna(0)\n"
     ]
    },
    {
     "name": "stdout",
     "output_type": "stream",
     "text": [
      "13 - SeasonalNaive with avg smape 46.77: \n",
      "Model Number: 14 of 29 with model SeasonalNaive for Validation 1\n"
     ]
    },
    {
     "name": "stderr",
     "output_type": "stream",
     "text": [
      "c:\\code\\ntnu\\semester9\\ml_prosjekt\\venv\\lib\\site-packages\\autots\\tools\\impute.py:42: FutureWarning: DataFrame.fillna with 'method' is deprecated and will raise in a future version. Use obj.ffill() or obj.bfill() instead.\n",
      "  df = df.fillna(method='ffill')\n",
      "c:\\code\\ntnu\\semester9\\ml_prosjekt\\venv\\lib\\site-packages\\autots\\tools\\impute.py:43: FutureWarning: DataFrame.fillna with 'method' is deprecated and will raise in a future version. Use obj.ffill() or obj.bfill() instead.\n",
      "  return df.fillna(method='bfill').fillna(0)\n"
     ]
    },
    {
     "name": "stdout",
     "output_type": "stream",
     "text": [
      "14 - SeasonalNaive with avg smape 176.67: \n",
      "Model Number: 15 of 29 with model SeasonalNaive for Validation 1\n"
     ]
    },
    {
     "name": "stderr",
     "output_type": "stream",
     "text": [
      "c:\\code\\ntnu\\semester9\\ml_prosjekt\\venv\\lib\\site-packages\\autots\\tools\\impute.py:42: FutureWarning: DataFrame.fillna with 'method' is deprecated and will raise in a future version. Use obj.ffill() or obj.bfill() instead.\n",
      "  df = df.fillna(method='ffill')\n",
      "c:\\code\\ntnu\\semester9\\ml_prosjekt\\venv\\lib\\site-packages\\autots\\tools\\impute.py:43: FutureWarning: DataFrame.fillna with 'method' is deprecated and will raise in a future version. Use obj.ffill() or obj.bfill() instead.\n",
      "  return df.fillna(method='bfill').fillna(0)\n"
     ]
    },
    {
     "name": "stdout",
     "output_type": "stream",
     "text": [
      "15 - SeasonalNaive with avg smape 176.67: \n",
      "Model Number: 16 of 29 with model LastValueNaive for Validation 1\n"
     ]
    },
    {
     "name": "stderr",
     "output_type": "stream",
     "text": [
      "c:\\code\\ntnu\\semester9\\ml_prosjekt\\venv\\lib\\site-packages\\autots\\tools\\impute.py:42: FutureWarning: DataFrame.fillna with 'method' is deprecated and will raise in a future version. Use obj.ffill() or obj.bfill() instead.\n",
      "  df = df.fillna(method='ffill')\n",
      "c:\\code\\ntnu\\semester9\\ml_prosjekt\\venv\\lib\\site-packages\\autots\\tools\\impute.py:43: FutureWarning: DataFrame.fillna with 'method' is deprecated and will raise in a future version. Use obj.ffill() or obj.bfill() instead.\n",
      "  return df.fillna(method='bfill').fillna(0)\n",
      "c:\\code\\ntnu\\semester9\\ml_prosjekt\\venv\\lib\\site-packages\\autots\\tools\\transform.py:529: FutureWarning: DataFrame.fillna with 'method' is deprecated and will raise in a future version. Use obj.ffill() or obj.bfill() instead.\n",
      "  return df.fillna(method=\"ffill\").fillna(method=\"bfill\")\n",
      "c:\\code\\ntnu\\semester9\\ml_prosjekt\\venv\\lib\\site-packages\\autots\\tools\\transform.py:888: FutureWarning: DataFrame.fillna with 'method' is deprecated and will raise in a future version. Use obj.ffill() or obj.bfill() instead.\n",
      "  df.tail(self.window).fillna(method=\"ffill\").fillna(method=\"bfill\")\n",
      "c:\\code\\ntnu\\semester9\\ml_prosjekt\\venv\\lib\\site-packages\\autots\\tools\\transform.py:891: FutureWarning: DataFrame.fillna with 'method' is deprecated and will raise in a future version. Use obj.ffill() or obj.bfill() instead.\n",
      "  df.head(self.window).fillna(method=\"ffill\").fillna(method=\"bfill\")\n",
      "c:\\code\\ntnu\\semester9\\ml_prosjekt\\venv\\lib\\site-packages\\autots\\tools\\transform.py:1377: FutureWarning: DataFrame.fillna with 'method' is deprecated and will raise in a future version. Use obj.ffill() or obj.bfill() instead.\n",
      "  df = (df - df.shift(self.lag)).fillna(method=\"bfill\")\n"
     ]
    },
    {
     "name": "stdout",
     "output_type": "stream",
     "text": [
      "16 - LastValueNaive with avg smape 174.27: \n",
      "Model Number: 17 of 29 with model GLS for Validation 1\n"
     ]
    },
    {
     "name": "stderr",
     "output_type": "stream",
     "text": [
      "c:\\code\\ntnu\\semester9\\ml_prosjekt\\venv\\lib\\site-packages\\autots\\tools\\impute.py:243: FutureWarning: DataFrame.fillna with 'method' is deprecated and will raise in a future version. Use obj.ffill() or obj.bfill() instead.\n",
      "  df = df.interpolate(method=method, order=5).fillna(method='bfill')\n",
      "c:\\code\\ntnu\\semester9\\ml_prosjekt\\venv\\lib\\site-packages\\autots\\tools\\transform.py:1006: FutureWarning: The 'axis' keyword in DataFrame.groupby is deprecated and will be removed in a future version.\n",
      "  self.tile_values_lag_1 = df2.groupby(level=0, axis=0).mean()\n"
     ]
    },
    {
     "name": "stdout",
     "output_type": "stream",
     "text": [
      "17 - GLS with avg smape 46.77: \n",
      "Model Number: 18 of 29 with model GLS for Validation 1\n"
     ]
    },
    {
     "name": "stderr",
     "output_type": "stream",
     "text": [
      "c:\\code\\ntnu\\semester9\\ml_prosjekt\\venv\\lib\\site-packages\\autots\\tools\\impute.py:42: FutureWarning: DataFrame.fillna with 'method' is deprecated and will raise in a future version. Use obj.ffill() or obj.bfill() instead.\n",
      "  df = df.fillna(method='ffill')\n",
      "c:\\code\\ntnu\\semester9\\ml_prosjekt\\venv\\lib\\site-packages\\autots\\tools\\impute.py:43: FutureWarning: DataFrame.fillna with 'method' is deprecated and will raise in a future version. Use obj.ffill() or obj.bfill() instead.\n",
      "  return df.fillna(method='bfill').fillna(0)\n",
      "c:\\code\\ntnu\\semester9\\ml_prosjekt\\venv\\lib\\site-packages\\autots\\tools\\transform.py:1377: FutureWarning: DataFrame.fillna with 'method' is deprecated and will raise in a future version. Use obj.ffill() or obj.bfill() instead.\n",
      "  df = (df - df.shift(self.lag)).fillna(method=\"bfill\")\n",
      "c:\\code\\ntnu\\semester9\\ml_prosjekt\\venv\\lib\\site-packages\\autots\\tools\\transform.py:3804: FutureWarning: DataFrame.fillna with 'method' is deprecated and will raise in a future version. Use obj.ffill() or obj.bfill() instead.\n",
      "  diff_smoothed = diff_abs.where(diff_mask_0, np.nan).fillna(\n",
      "c:\\code\\ntnu\\semester9\\ml_prosjekt\\venv\\lib\\site-packages\\autots\\tools\\transform.py:3817: FutureWarning: DataFrame.fillna with 'method' is deprecated and will raise in a future version. Use obj.ffill() or obj.bfill() instead.\n",
      "  group_ids = range_arr[~diff_mask].fillna(method='ffill')  # [diff_mask]\n",
      "c:\\code\\ntnu\\semester9\\ml_prosjekt\\venv\\lib\\site-packages\\autots\\tools\\transform.py:3876: FutureWarning: DataFrame.fillna with 'method' is deprecated and will raise in a future version. Use obj.ffill() or obj.bfill() instead.\n",
      "  return df - self.lvlshft.reindex(index=df.index, columns=df.columns).fillna(\n",
      "c:\\code\\ntnu\\semester9\\ml_prosjekt\\venv\\lib\\site-packages\\autots\\tools\\transform.py:3886: FutureWarning: DataFrame.fillna with 'method' is deprecated and will raise in a future version. Use obj.ffill() or obj.bfill() instead.\n",
      "  return df + self.lvlshft.reindex(index=df.index, columns=df.columns).fillna(\n",
      "c:\\code\\ntnu\\semester9\\ml_prosjekt\\venv\\lib\\site-packages\\autots\\tools\\transform.py:3886: FutureWarning: DataFrame.fillna with 'method' is deprecated and will raise in a future version. Use obj.ffill() or obj.bfill() instead.\n",
      "  return df + self.lvlshft.reindex(index=df.index, columns=df.columns).fillna(\n",
      "c:\\code\\ntnu\\semester9\\ml_prosjekt\\venv\\lib\\site-packages\\autots\\tools\\transform.py:3886: FutureWarning: DataFrame.fillna with 'method' is deprecated and will raise in a future version. Use obj.ffill() or obj.bfill() instead.\n",
      "  return df + self.lvlshft.reindex(index=df.index, columns=df.columns).fillna(\n",
      "c:\\code\\ntnu\\semester9\\ml_prosjekt\\venv\\lib\\site-packages\\autots\\tools\\impute.py:42: FutureWarning: DataFrame.fillna with 'method' is deprecated and will raise in a future version. Use obj.ffill() or obj.bfill() instead.\n",
      "  df = df.fillna(method='ffill')\n",
      "c:\\code\\ntnu\\semester9\\ml_prosjekt\\venv\\lib\\site-packages\\autots\\tools\\impute.py:43: FutureWarning: DataFrame.fillna with 'method' is deprecated and will raise in a future version. Use obj.ffill() or obj.bfill() instead.\n",
      "  return df.fillna(method='bfill').fillna(0)\n"
     ]
    },
    {
     "name": "stdout",
     "output_type": "stream",
     "text": [
      "18 - GLS with avg smape 46.77: \n",
      "Model Number: 19 of 29 with model GLS for Validation 1\n"
     ]
    },
    {
     "name": "stderr",
     "output_type": "stream",
     "text": [
      "c:\\code\\ntnu\\semester9\\ml_prosjekt\\venv\\lib\\site-packages\\autots\\tools\\transform.py:1006: FutureWarning: The 'axis' keyword in DataFrame.groupby is deprecated and will be removed in a future version.\n",
      "  self.tile_values_lag_1 = df2.groupby(level=0, axis=0).mean()\n"
     ]
    },
    {
     "name": "stdout",
     "output_type": "stream",
     "text": [
      "19 - GLS with avg smape 81.95: \n",
      "Model Number: 20 of 29 with model LastValueNaive for Validation 1\n",
      "20 - LastValueNaive with avg smape 85.93: \n",
      "Model Number: 21 of 29 with model LastValueNaive for Validation 1\n"
     ]
    },
    {
     "name": "stderr",
     "output_type": "stream",
     "text": [
      "c:\\code\\ntnu\\semester9\\ml_prosjekt\\venv\\lib\\site-packages\\autots\\tools\\impute.py:42: FutureWarning: DataFrame.fillna with 'method' is deprecated and will raise in a future version. Use obj.ffill() or obj.bfill() instead.\n",
      "  df = df.fillna(method='ffill')\n",
      "c:\\code\\ntnu\\semester9\\ml_prosjekt\\venv\\lib\\site-packages\\autots\\tools\\impute.py:43: FutureWarning: DataFrame.fillna with 'method' is deprecated and will raise in a future version. Use obj.ffill() or obj.bfill() instead.\n",
      "  return df.fillna(method='bfill').fillna(0)\n",
      "c:\\code\\ntnu\\semester9\\ml_prosjekt\\venv\\lib\\site-packages\\autots\\tools\\transform.py:403: FutureWarning: DataFrame.fillna with 'method' is deprecated and will raise in a future version. Use obj.ffill() or obj.bfill() instead.\n",
      "  df = (df - cycles).fillna(method=\"ffill\").fillna(method=\"bfill\")\n",
      "c:\\code\\ntnu\\semester9\\ml_prosjekt\\venv\\lib\\site-packages\\autots\\tools\\impute.py:42: FutureWarning: DataFrame.fillna with 'method' is deprecated and will raise in a future version. Use obj.ffill() or obj.bfill() instead.\n",
      "  df = df.fillna(method='ffill')\n",
      "c:\\code\\ntnu\\semester9\\ml_prosjekt\\venv\\lib\\site-packages\\autots\\tools\\impute.py:43: FutureWarning: DataFrame.fillna with 'method' is deprecated and will raise in a future version. Use obj.ffill() or obj.bfill() instead.\n",
      "  return df.fillna(method='bfill').fillna(0)\n",
      "c:\\code\\ntnu\\semester9\\ml_prosjekt\\venv\\lib\\site-packages\\autots\\tools\\transform.py:888: FutureWarning: DataFrame.fillna with 'method' is deprecated and will raise in a future version. Use obj.ffill() or obj.bfill() instead.\n",
      "  df.tail(self.window).fillna(method=\"ffill\").fillna(method=\"bfill\")\n",
      "c:\\code\\ntnu\\semester9\\ml_prosjekt\\venv\\lib\\site-packages\\autots\\tools\\transform.py:891: FutureWarning: DataFrame.fillna with 'method' is deprecated and will raise in a future version. Use obj.ffill() or obj.bfill() instead.\n",
      "  df.head(self.window).fillna(method=\"ffill\").fillna(method=\"bfill\")\n",
      "c:\\code\\ntnu\\semester9\\ml_prosjekt\\venv\\lib\\site-packages\\autots\\tools\\transform.py:1377: FutureWarning: DataFrame.fillna with 'method' is deprecated and will raise in a future version. Use obj.ffill() or obj.bfill() instead.\n",
      "  df = (df - df.shift(self.lag)).fillna(method=\"bfill\")\n"
     ]
    },
    {
     "name": "stdout",
     "output_type": "stream",
     "text": [
      "21 - LastValueNaive with avg smape 176.67: \n",
      "Model Number: 22 of 29 with model LastValueNaive for Validation 1\n",
      "22 - LastValueNaive with avg smape 139.08: \n",
      "Model Number: 23 of 29 with model LastValueNaive for Validation 1\n",
      "23 - LastValueNaive with avg smape 182.85: \n",
      "Model Number: 24 of 29 with model LastValueNaive for Validation 1\n",
      "24 - LastValueNaive with avg smape 70.57: \n",
      "Model Number: 25 of 29 with model ConstantNaive for Validation 1\n",
      "25 - ConstantNaive with avg smape 46.77: \n",
      "Model Number: 26 of 29 with model ConstantNaive for Validation 1\n",
      "26 - ConstantNaive with avg smape 199.92: \n",
      "Model Number: 27 of 29 with model ConstantNaive for Validation 1\n",
      "27 - ConstantNaive with avg smape 176.67: \n",
      "Model Number: 28 of 29 with model ConstantNaive for Validation 1\n"
     ]
    },
    {
     "name": "stderr",
     "output_type": "stream",
     "text": [
      "c:\\code\\ntnu\\semester9\\ml_prosjekt\\venv\\lib\\site-packages\\autots\\tools\\transform.py:403: FutureWarning: DataFrame.fillna with 'method' is deprecated and will raise in a future version. Use obj.ffill() or obj.bfill() instead.\n",
      "  df = (df - cycles).fillna(method=\"ffill\").fillna(method=\"bfill\")\n",
      "c:\\code\\ntnu\\semester9\\ml_prosjekt\\venv\\lib\\site-packages\\autots\\tools\\transform.py:1377: FutureWarning: DataFrame.fillna with 'method' is deprecated and will raise in a future version. Use obj.ffill() or obj.bfill() instead.\n",
      "  df = (df - df.shift(self.lag)).fillna(method=\"bfill\")\n",
      "c:\\code\\ntnu\\semester9\\ml_prosjekt\\venv\\lib\\site-packages\\autots\\tools\\impute.py:42: FutureWarning: DataFrame.fillna with 'method' is deprecated and will raise in a future version. Use obj.ffill() or obj.bfill() instead.\n",
      "  df = df.fillna(method='ffill')\n",
      "c:\\code\\ntnu\\semester9\\ml_prosjekt\\venv\\lib\\site-packages\\autots\\tools\\impute.py:43: FutureWarning: DataFrame.fillna with 'method' is deprecated and will raise in a future version. Use obj.ffill() or obj.bfill() instead.\n",
      "  return df.fillna(method='bfill').fillna(0)\n",
      "c:\\code\\ntnu\\semester9\\ml_prosjekt\\venv\\lib\\site-packages\\autots\\tools\\transform.py:1377: FutureWarning: DataFrame.fillna with 'method' is deprecated and will raise in a future version. Use obj.ffill() or obj.bfill() instead.\n",
      "  df = (df - df.shift(self.lag)).fillna(method=\"bfill\")\n",
      "c:\\code\\ntnu\\semester9\\ml_prosjekt\\venv\\lib\\site-packages\\autots\\tools\\impute.py:42: FutureWarning: DataFrame.fillna with 'method' is deprecated and will raise in a future version. Use obj.ffill() or obj.bfill() instead.\n",
      "  df = df.fillna(method='ffill')\n",
      "c:\\code\\ntnu\\semester9\\ml_prosjekt\\venv\\lib\\site-packages\\autots\\tools\\impute.py:43: FutureWarning: DataFrame.fillna with 'method' is deprecated and will raise in a future version. Use obj.ffill() or obj.bfill() instead.\n",
      "  return df.fillna(method='bfill').fillna(0)\n",
      "c:\\code\\ntnu\\semester9\\ml_prosjekt\\venv\\lib\\site-packages\\autots\\tools\\impute.py:42: FutureWarning: DataFrame.fillna with 'method' is deprecated and will raise in a future version. Use obj.ffill() or obj.bfill() instead.\n",
      "  df = df.fillna(method='ffill')\n",
      "c:\\code\\ntnu\\semester9\\ml_prosjekt\\venv\\lib\\site-packages\\autots\\tools\\impute.py:43: FutureWarning: DataFrame.fillna with 'method' is deprecated and will raise in a future version. Use obj.ffill() or obj.bfill() instead.\n",
      "  return df.fillna(method='bfill').fillna(0)\n",
      "c:\\code\\ntnu\\semester9\\ml_prosjekt\\venv\\lib\\site-packages\\autots\\tools\\impute.py:42: FutureWarning: DataFrame.fillna with 'method' is deprecated and will raise in a future version. Use obj.ffill() or obj.bfill() instead.\n",
      "  df = df.fillna(method='ffill')\n",
      "c:\\code\\ntnu\\semester9\\ml_prosjekt\\venv\\lib\\site-packages\\autots\\tools\\impute.py:43: FutureWarning: DataFrame.fillna with 'method' is deprecated and will raise in a future version. Use obj.ffill() or obj.bfill() instead.\n",
      "  return df.fillna(method='bfill').fillna(0)\n"
     ]
    },
    {
     "name": "stdout",
     "output_type": "stream",
     "text": [
      "28 - ConstantNaive with avg smape 199.91: \n",
      "Model Number: 29 of 29 with model ConstantNaive for Validation 1\n"
     ]
    },
    {
     "name": "stderr",
     "output_type": "stream",
     "text": [
      "c:\\code\\ntnu\\semester9\\ml_prosjekt\\venv\\lib\\site-packages\\autots\\tools\\impute.py:42: FutureWarning: DataFrame.fillna with 'method' is deprecated and will raise in a future version. Use obj.ffill() or obj.bfill() instead.\n",
      "  df = df.fillna(method='ffill')\n",
      "c:\\code\\ntnu\\semester9\\ml_prosjekt\\venv\\lib\\site-packages\\autots\\tools\\impute.py:43: FutureWarning: DataFrame.fillna with 'method' is deprecated and will raise in a future version. Use obj.ffill() or obj.bfill() instead.\n",
      "  return df.fillna(method='bfill').fillna(0)\n",
      "c:\\code\\ntnu\\semester9\\ml_prosjekt\\venv\\lib\\site-packages\\autots\\tools\\impute.py:42: FutureWarning: DataFrame.fillna with 'method' is deprecated and will raise in a future version. Use obj.ffill() or obj.bfill() instead.\n",
      "  df = df.fillna(method='ffill')\n",
      "c:\\code\\ntnu\\semester9\\ml_prosjekt\\venv\\lib\\site-packages\\autots\\tools\\impute.py:43: FutureWarning: DataFrame.fillna with 'method' is deprecated and will raise in a future version. Use obj.ffill() or obj.bfill() instead.\n",
      "  return df.fillna(method='bfill').fillna(0)\n",
      "c:\\code\\ntnu\\semester9\\ml_prosjekt\\venv\\lib\\site-packages\\autots\\tools\\impute.py:42: FutureWarning: DataFrame.fillna with 'method' is deprecated and will raise in a future version. Use obj.ffill() or obj.bfill() instead.\n",
      "  df = df.fillna(method='ffill')\n",
      "c:\\code\\ntnu\\semester9\\ml_prosjekt\\venv\\lib\\site-packages\\autots\\tools\\impute.py:43: FutureWarning: DataFrame.fillna with 'method' is deprecated and will raise in a future version. Use obj.ffill() or obj.bfill() instead.\n",
      "  return df.fillna(method='bfill').fillna(0)\n"
     ]
    },
    {
     "name": "stdout",
     "output_type": "stream",
     "text": [
      "29 - ConstantNaive with avg smape 46.77: \n",
      "Validation Round: 2\n",
      "Model Number: 1 of 29 with model AverageValueNaive for Validation 2\n",
      "📈 1 - AverageValueNaive with avg smape 171.06: \n",
      "Model Number: 2 of 29 with model AverageValueNaive for Validation 2\n",
      "📈 2 - AverageValueNaive with avg smape 166.33: \n",
      "Model Number: 3 of 29 with model AverageValueNaive for Validation 2\n"
     ]
    },
    {
     "name": "stderr",
     "output_type": "stream",
     "text": [
      "c:\\code\\ntnu\\semester9\\ml_prosjekt\\venv\\lib\\site-packages\\autots\\tools\\impute.py:42: FutureWarning: DataFrame.fillna with 'method' is deprecated and will raise in a future version. Use obj.ffill() or obj.bfill() instead.\n",
      "  df = df.fillna(method='ffill')\n",
      "c:\\code\\ntnu\\semester9\\ml_prosjekt\\venv\\lib\\site-packages\\autots\\tools\\impute.py:43: FutureWarning: DataFrame.fillna with 'method' is deprecated and will raise in a future version. Use obj.ffill() or obj.bfill() instead.\n",
      "  return df.fillna(method='bfill').fillna(0)\n",
      "c:\\code\\ntnu\\semester9\\ml_prosjekt\\venv\\lib\\site-packages\\autots\\evaluator\\auto_model.py:1409: RuntimeWarning: Mean of empty slice\n",
      "  scaler = np.nanmean(np.abs(np.diff(df_train[-100:], axis=0)), axis=0)\n",
      "c:\\code\\ntnu\\semester9\\ml_prosjekt\\venv\\lib\\site-packages\\autots\\evaluator\\auto_model.py:1410: RuntimeWarning: All-NaN slice encountered\n",
      "  fill_val = np.nanmax(scaler)\n",
      "c:\\code\\ntnu\\semester9\\ml_prosjekt\\venv\\lib\\site-packages\\autots\\tools\\transform.py:1377: FutureWarning: DataFrame.fillna with 'method' is deprecated and will raise in a future version. Use obj.ffill() or obj.bfill() instead.\n",
      "  df = (df - df.shift(self.lag)).fillna(method=\"bfill\")\n",
      "c:\\code\\ntnu\\semester9\\ml_prosjekt\\venv\\lib\\site-packages\\autots\\tools\\impute.py:42: FutureWarning: DataFrame.fillna with 'method' is deprecated and will raise in a future version. Use obj.ffill() or obj.bfill() instead.\n",
      "  df = df.fillna(method='ffill')\n",
      "c:\\code\\ntnu\\semester9\\ml_prosjekt\\venv\\lib\\site-packages\\autots\\tools\\impute.py:43: FutureWarning: DataFrame.fillna with 'method' is deprecated and will raise in a future version. Use obj.ffill() or obj.bfill() instead.\n",
      "  return df.fillna(method='bfill').fillna(0)\n",
      "c:\\code\\ntnu\\semester9\\ml_prosjekt\\venv\\lib\\site-packages\\autots\\tools\\transform.py:1377: FutureWarning: DataFrame.fillna with 'method' is deprecated and will raise in a future version. Use obj.ffill() or obj.bfill() instead.\n",
      "  df = (df - df.shift(self.lag)).fillna(method=\"bfill\")\n",
      "c:\\code\\ntnu\\semester9\\ml_prosjekt\\venv\\lib\\site-packages\\autots\\tools\\transform.py:1377: FutureWarning: DataFrame.fillna with 'method' is deprecated and will raise in a future version. Use obj.ffill() or obj.bfill() instead.\n",
      "  df = (df - df.shift(self.lag)).fillna(method=\"bfill\")\n",
      "c:\\code\\ntnu\\semester9\\ml_prosjekt\\venv\\lib\\site-packages\\autots\\tools\\transform.py:1377: FutureWarning: DataFrame.fillna with 'method' is deprecated and will raise in a future version. Use obj.ffill() or obj.bfill() instead.\n",
      "  df = (df - df.shift(self.lag)).fillna(method=\"bfill\")\n",
      "c:\\code\\ntnu\\semester9\\ml_prosjekt\\venv\\lib\\site-packages\\autots\\models\\basics.py:442: FutureWarning: The 'axis' keyword in DataFrame.groupby is deprecated and will be removed in a future version.\n",
      "  self.tile_values_lag_1 = df.groupby(level=0, axis=0).mean()\n"
     ]
    },
    {
     "name": "stdout",
     "output_type": "stream",
     "text": [
      "3 - AverageValueNaive with avg smape 171.06: \n",
      "Model Number: 4 of 29 with model SeasonalNaive for Validation 2\n",
      "4 - SeasonalNaive with avg smape 171.06: \n",
      "Model Number: 5 of 29 with model SeasonalNaive for Validation 2\n"
     ]
    },
    {
     "name": "stderr",
     "output_type": "stream",
     "text": [
      "c:\\code\\ntnu\\semester9\\ml_prosjekt\\venv\\lib\\site-packages\\autots\\tools\\transform.py:1377: FutureWarning: DataFrame.fillna with 'method' is deprecated and will raise in a future version. Use obj.ffill() or obj.bfill() instead.\n",
      "  df = (df - df.shift(self.lag)).fillna(method=\"bfill\")\n"
     ]
    },
    {
     "name": "stdout",
     "output_type": "stream",
     "text": [
      "5 - SeasonalNaive with avg smape 171.06: \n",
      "Model Number: 6 of 29 with model GLS for Validation 2\n"
     ]
    },
    {
     "name": "stderr",
     "output_type": "stream",
     "text": [
      "c:\\code\\ntnu\\semester9\\ml_prosjekt\\venv\\lib\\site-packages\\autots\\tools\\transform.py:1377: FutureWarning: DataFrame.fillna with 'method' is deprecated and will raise in a future version. Use obj.ffill() or obj.bfill() instead.\n",
      "  df = (df - df.shift(self.lag)).fillna(method=\"bfill\")\n"
     ]
    },
    {
     "name": "stdout",
     "output_type": "stream",
     "text": [
      "6 - GLS with avg smape 171.06: \n",
      "Model Number: 7 of 29 with model AverageValueNaive for Validation 2\n",
      "📈 7 - AverageValueNaive with avg smape 55.53: \n",
      "Model Number: 8 of 29 with model GLS for Validation 2\n"
     ]
    },
    {
     "name": "stderr",
     "output_type": "stream",
     "text": [
      "c:\\code\\ntnu\\semester9\\ml_prosjekt\\venv\\lib\\site-packages\\autots\\tools\\impute.py:243: FutureWarning: DataFrame.fillna with 'method' is deprecated and will raise in a future version. Use obj.ffill() or obj.bfill() instead.\n",
      "  df = df.interpolate(method=method, order=5).fillna(method='bfill')\n",
      "c:\\code\\ntnu\\semester9\\ml_prosjekt\\venv\\lib\\site-packages\\autots\\tools\\impute.py:42: FutureWarning: DataFrame.fillna with 'method' is deprecated and will raise in a future version. Use obj.ffill() or obj.bfill() instead.\n",
      "  df = df.fillna(method='ffill')\n",
      "c:\\code\\ntnu\\semester9\\ml_prosjekt\\venv\\lib\\site-packages\\autots\\tools\\impute.py:43: FutureWarning: DataFrame.fillna with 'method' is deprecated and will raise in a future version. Use obj.ffill() or obj.bfill() instead.\n",
      "  return df.fillna(method='bfill').fillna(0)\n",
      "c:\\code\\ntnu\\semester9\\ml_prosjekt\\venv\\lib\\site-packages\\autots\\tools\\transform.py:1377: FutureWarning: DataFrame.fillna with 'method' is deprecated and will raise in a future version. Use obj.ffill() or obj.bfill() instead.\n",
      "  df = (df - df.shift(self.lag)).fillna(method=\"bfill\")\n"
     ]
    },
    {
     "name": "stdout",
     "output_type": "stream",
     "text": [
      "8 - GLS with avg smape 55.53: \n",
      "Model Number: 9 of 29 with model AverageValueNaive for Validation 2\n",
      "9 - AverageValueNaive with avg smape 184.04: \n",
      "Model Number: 10 of 29 with model AverageValueNaive for Validation 2\n",
      "10 - AverageValueNaive with avg smape 55.53: \n",
      "Model Number: 11 of 29 with model GLS for Validation 2\n"
     ]
    },
    {
     "name": "stderr",
     "output_type": "stream",
     "text": [
      "c:\\code\\ntnu\\semester9\\ml_prosjekt\\venv\\lib\\site-packages\\autots\\tools\\impute.py:42: FutureWarning: DataFrame.fillna with 'method' is deprecated and will raise in a future version. Use obj.ffill() or obj.bfill() instead.\n",
      "  df = df.fillna(method='ffill')\n",
      "c:\\code\\ntnu\\semester9\\ml_prosjekt\\venv\\lib\\site-packages\\autots\\tools\\impute.py:43: FutureWarning: DataFrame.fillna with 'method' is deprecated and will raise in a future version. Use obj.ffill() or obj.bfill() instead.\n",
      "  return df.fillna(method='bfill').fillna(0)\n",
      "c:\\code\\ntnu\\semester9\\ml_prosjekt\\venv\\lib\\site-packages\\autots\\tools\\transform.py:1006: FutureWarning: The 'axis' keyword in DataFrame.groupby is deprecated and will be removed in a future version.\n",
      "  self.tile_values_lag_1 = df2.groupby(level=0, axis=0).mean()\n",
      "c:\\code\\ntnu\\semester9\\ml_prosjekt\\venv\\lib\\site-packages\\autots\\tools\\impute.py:42: FutureWarning: DataFrame.fillna with 'method' is deprecated and will raise in a future version. Use obj.ffill() or obj.bfill() instead.\n",
      "  df = df.fillna(method='ffill')\n",
      "c:\\code\\ntnu\\semester9\\ml_prosjekt\\venv\\lib\\site-packages\\autots\\tools\\impute.py:43: FutureWarning: DataFrame.fillna with 'method' is deprecated and will raise in a future version. Use obj.ffill() or obj.bfill() instead.\n",
      "  return df.fillna(method='bfill').fillna(0)\n",
      "c:\\code\\ntnu\\semester9\\ml_prosjekt\\venv\\lib\\site-packages\\autots\\tools\\impute.py:42: FutureWarning: DataFrame.fillna with 'method' is deprecated and will raise in a future version. Use obj.ffill() or obj.bfill() instead.\n",
      "  df = df.fillna(method='ffill')\n",
      "c:\\code\\ntnu\\semester9\\ml_prosjekt\\venv\\lib\\site-packages\\autots\\tools\\impute.py:43: FutureWarning: DataFrame.fillna with 'method' is deprecated and will raise in a future version. Use obj.ffill() or obj.bfill() instead.\n",
      "  return df.fillna(method='bfill').fillna(0)\n",
      "c:\\code\\ntnu\\semester9\\ml_prosjekt\\venv\\lib\\site-packages\\autots\\tools\\transform.py:1377: FutureWarning: DataFrame.fillna with 'method' is deprecated and will raise in a future version. Use obj.ffill() or obj.bfill() instead.\n",
      "  df = (df - df.shift(self.lag)).fillna(method=\"bfill\")\n"
     ]
    },
    {
     "name": "stdout",
     "output_type": "stream",
     "text": [
      "11 - GLS with avg smape 55.53: \n",
      "Model Number: 12 of 29 with model SeasonalNaive for Validation 2\n"
     ]
    },
    {
     "name": "stderr",
     "output_type": "stream",
     "text": [
      "c:\\code\\ntnu\\semester9\\ml_prosjekt\\venv\\lib\\site-packages\\autots\\tools\\transform.py:1377: FutureWarning: DataFrame.fillna with 'method' is deprecated and will raise in a future version. Use obj.ffill() or obj.bfill() instead.\n",
      "  df = (df - df.shift(self.lag)).fillna(method=\"bfill\")\n"
     ]
    },
    {
     "name": "stdout",
     "output_type": "stream",
     "text": [
      "12 - SeasonalNaive with avg smape 171.06: \n",
      "Model Number: 13 of 29 with model SeasonalNaive for Validation 2\n"
     ]
    },
    {
     "name": "stderr",
     "output_type": "stream",
     "text": [
      "c:\\code\\ntnu\\semester9\\ml_prosjekt\\venv\\lib\\site-packages\\autots\\tools\\impute.py:42: FutureWarning: DataFrame.fillna with 'method' is deprecated and will raise in a future version. Use obj.ffill() or obj.bfill() instead.\n",
      "  df = df.fillna(method='ffill')\n",
      "c:\\code\\ntnu\\semester9\\ml_prosjekt\\venv\\lib\\site-packages\\autots\\tools\\impute.py:43: FutureWarning: DataFrame.fillna with 'method' is deprecated and will raise in a future version. Use obj.ffill() or obj.bfill() instead.\n",
      "  return df.fillna(method='bfill').fillna(0)\n"
     ]
    },
    {
     "name": "stdout",
     "output_type": "stream",
     "text": [
      "13 - SeasonalNaive with avg smape 55.53: \n",
      "Model Number: 14 of 29 with model SeasonalNaive for Validation 2\n"
     ]
    },
    {
     "name": "stderr",
     "output_type": "stream",
     "text": [
      "c:\\code\\ntnu\\semester9\\ml_prosjekt\\venv\\lib\\site-packages\\autots\\tools\\impute.py:42: FutureWarning: DataFrame.fillna with 'method' is deprecated and will raise in a future version. Use obj.ffill() or obj.bfill() instead.\n",
      "  df = df.fillna(method='ffill')\n",
      "c:\\code\\ntnu\\semester9\\ml_prosjekt\\venv\\lib\\site-packages\\autots\\tools\\impute.py:43: FutureWarning: DataFrame.fillna with 'method' is deprecated and will raise in a future version. Use obj.ffill() or obj.bfill() instead.\n",
      "  return df.fillna(method='bfill').fillna(0)\n"
     ]
    },
    {
     "name": "stdout",
     "output_type": "stream",
     "text": [
      "14 - SeasonalNaive with avg smape 55.53: \n",
      "Model Number: 15 of 29 with model SeasonalNaive for Validation 2\n"
     ]
    },
    {
     "name": "stderr",
     "output_type": "stream",
     "text": [
      "c:\\code\\ntnu\\semester9\\ml_prosjekt\\venv\\lib\\site-packages\\autots\\tools\\impute.py:42: FutureWarning: DataFrame.fillna with 'method' is deprecated and will raise in a future version. Use obj.ffill() or obj.bfill() instead.\n",
      "  df = df.fillna(method='ffill')\n",
      "c:\\code\\ntnu\\semester9\\ml_prosjekt\\venv\\lib\\site-packages\\autots\\tools\\impute.py:43: FutureWarning: DataFrame.fillna with 'method' is deprecated and will raise in a future version. Use obj.ffill() or obj.bfill() instead.\n",
      "  return df.fillna(method='bfill').fillna(0)\n"
     ]
    },
    {
     "name": "stdout",
     "output_type": "stream",
     "text": [
      "15 - SeasonalNaive with avg smape 55.53: \n",
      "Model Number: 16 of 29 with model LastValueNaive for Validation 2\n"
     ]
    },
    {
     "name": "stderr",
     "output_type": "stream",
     "text": [
      "c:\\code\\ntnu\\semester9\\ml_prosjekt\\venv\\lib\\site-packages\\autots\\tools\\impute.py:42: FutureWarning: DataFrame.fillna with 'method' is deprecated and will raise in a future version. Use obj.ffill() or obj.bfill() instead.\n",
      "  df = df.fillna(method='ffill')\n",
      "c:\\code\\ntnu\\semester9\\ml_prosjekt\\venv\\lib\\site-packages\\autots\\tools\\impute.py:43: FutureWarning: DataFrame.fillna with 'method' is deprecated and will raise in a future version. Use obj.ffill() or obj.bfill() instead.\n",
      "  return df.fillna(method='bfill').fillna(0)\n",
      "c:\\code\\ntnu\\semester9\\ml_prosjekt\\venv\\lib\\site-packages\\autots\\tools\\transform.py:529: FutureWarning: DataFrame.fillna with 'method' is deprecated and will raise in a future version. Use obj.ffill() or obj.bfill() instead.\n",
      "  return df.fillna(method=\"ffill\").fillna(method=\"bfill\")\n",
      "c:\\code\\ntnu\\semester9\\ml_prosjekt\\venv\\lib\\site-packages\\autots\\tools\\transform.py:888: FutureWarning: DataFrame.fillna with 'method' is deprecated and will raise in a future version. Use obj.ffill() or obj.bfill() instead.\n",
      "  df.tail(self.window).fillna(method=\"ffill\").fillna(method=\"bfill\")\n",
      "c:\\code\\ntnu\\semester9\\ml_prosjekt\\venv\\lib\\site-packages\\autots\\tools\\transform.py:891: FutureWarning: DataFrame.fillna with 'method' is deprecated and will raise in a future version. Use obj.ffill() or obj.bfill() instead.\n",
      "  df.head(self.window).fillna(method=\"ffill\").fillna(method=\"bfill\")\n",
      "c:\\code\\ntnu\\semester9\\ml_prosjekt\\venv\\lib\\site-packages\\autots\\tools\\transform.py:1377: FutureWarning: DataFrame.fillna with 'method' is deprecated and will raise in a future version. Use obj.ffill() or obj.bfill() instead.\n",
      "  df = (df - df.shift(self.lag)).fillna(method=\"bfill\")\n"
     ]
    },
    {
     "name": "stdout",
     "output_type": "stream",
     "text": [
      "16 - LastValueNaive with avg smape 55.53: \n",
      "Model Number: 17 of 29 with model GLS for Validation 2\n"
     ]
    },
    {
     "name": "stderr",
     "output_type": "stream",
     "text": [
      "c:\\code\\ntnu\\semester9\\ml_prosjekt\\venv\\lib\\site-packages\\autots\\tools\\impute.py:243: FutureWarning: DataFrame.fillna with 'method' is deprecated and will raise in a future version. Use obj.ffill() or obj.bfill() instead.\n",
      "  df = df.interpolate(method=method, order=5).fillna(method='bfill')\n",
      "c:\\code\\ntnu\\semester9\\ml_prosjekt\\venv\\lib\\site-packages\\autots\\tools\\transform.py:1006: FutureWarning: The 'axis' keyword in DataFrame.groupby is deprecated and will be removed in a future version.\n",
      "  self.tile_values_lag_1 = df2.groupby(level=0, axis=0).mean()\n"
     ]
    },
    {
     "name": "stdout",
     "output_type": "stream",
     "text": [
      "17 - GLS with avg smape 185.05: \n",
      "Model Number: 18 of 29 with model GLS for Validation 2\n"
     ]
    },
    {
     "name": "stderr",
     "output_type": "stream",
     "text": [
      "c:\\code\\ntnu\\semester9\\ml_prosjekt\\venv\\lib\\site-packages\\autots\\tools\\impute.py:42: FutureWarning: DataFrame.fillna with 'method' is deprecated and will raise in a future version. Use obj.ffill() or obj.bfill() instead.\n",
      "  df = df.fillna(method='ffill')\n",
      "c:\\code\\ntnu\\semester9\\ml_prosjekt\\venv\\lib\\site-packages\\autots\\tools\\impute.py:43: FutureWarning: DataFrame.fillna with 'method' is deprecated and will raise in a future version. Use obj.ffill() or obj.bfill() instead.\n",
      "  return df.fillna(method='bfill').fillna(0)\n",
      "c:\\code\\ntnu\\semester9\\ml_prosjekt\\venv\\lib\\site-packages\\autots\\tools\\transform.py:1377: FutureWarning: DataFrame.fillna with 'method' is deprecated and will raise in a future version. Use obj.ffill() or obj.bfill() instead.\n",
      "  df = (df - df.shift(self.lag)).fillna(method=\"bfill\")\n",
      "c:\\code\\ntnu\\semester9\\ml_prosjekt\\venv\\lib\\site-packages\\autots\\tools\\transform.py:3804: FutureWarning: DataFrame.fillna with 'method' is deprecated and will raise in a future version. Use obj.ffill() or obj.bfill() instead.\n",
      "  diff_smoothed = diff_abs.where(diff_mask_0, np.nan).fillna(\n",
      "c:\\code\\ntnu\\semester9\\ml_prosjekt\\venv\\lib\\site-packages\\autots\\tools\\transform.py:3817: FutureWarning: DataFrame.fillna with 'method' is deprecated and will raise in a future version. Use obj.ffill() or obj.bfill() instead.\n",
      "  group_ids = range_arr[~diff_mask].fillna(method='ffill')  # [diff_mask]\n",
      "c:\\code\\ntnu\\semester9\\ml_prosjekt\\venv\\lib\\site-packages\\autots\\tools\\transform.py:3876: FutureWarning: DataFrame.fillna with 'method' is deprecated and will raise in a future version. Use obj.ffill() or obj.bfill() instead.\n",
      "  return df - self.lvlshft.reindex(index=df.index, columns=df.columns).fillna(\n",
      "c:\\code\\ntnu\\semester9\\ml_prosjekt\\venv\\lib\\site-packages\\autots\\tools\\transform.py:3886: FutureWarning: DataFrame.fillna with 'method' is deprecated and will raise in a future version. Use obj.ffill() or obj.bfill() instead.\n",
      "  return df + self.lvlshft.reindex(index=df.index, columns=df.columns).fillna(\n",
      "c:\\code\\ntnu\\semester9\\ml_prosjekt\\venv\\lib\\site-packages\\autots\\tools\\transform.py:3886: FutureWarning: DataFrame.fillna with 'method' is deprecated and will raise in a future version. Use obj.ffill() or obj.bfill() instead.\n",
      "  return df + self.lvlshft.reindex(index=df.index, columns=df.columns).fillna(\n",
      "c:\\code\\ntnu\\semester9\\ml_prosjekt\\venv\\lib\\site-packages\\autots\\tools\\transform.py:3886: FutureWarning: DataFrame.fillna with 'method' is deprecated and will raise in a future version. Use obj.ffill() or obj.bfill() instead.\n",
      "  return df + self.lvlshft.reindex(index=df.index, columns=df.columns).fillna(\n",
      "c:\\code\\ntnu\\semester9\\ml_prosjekt\\venv\\lib\\site-packages\\autots\\tools\\impute.py:42: FutureWarning: DataFrame.fillna with 'method' is deprecated and will raise in a future version. Use obj.ffill() or obj.bfill() instead.\n",
      "  df = df.fillna(method='ffill')\n",
      "c:\\code\\ntnu\\semester9\\ml_prosjekt\\venv\\lib\\site-packages\\autots\\tools\\impute.py:43: FutureWarning: DataFrame.fillna with 'method' is deprecated and will raise in a future version. Use obj.ffill() or obj.bfill() instead.\n",
      "  return df.fillna(method='bfill').fillna(0)\n"
     ]
    },
    {
     "name": "stdout",
     "output_type": "stream",
     "text": [
      "18 - GLS with avg smape 55.53: \n",
      "Model Number: 19 of 29 with model GLS for Validation 2\n"
     ]
    },
    {
     "name": "stderr",
     "output_type": "stream",
     "text": [
      "c:\\code\\ntnu\\semester9\\ml_prosjekt\\venv\\lib\\site-packages\\autots\\tools\\transform.py:1006: FutureWarning: The 'axis' keyword in DataFrame.groupby is deprecated and will be removed in a future version.\n",
      "  self.tile_values_lag_1 = df2.groupby(level=0, axis=0).mean()\n"
     ]
    },
    {
     "name": "stdout",
     "output_type": "stream",
     "text": [
      "19 - GLS with avg smape 86.28: \n",
      "Model Number: 20 of 29 with model LastValueNaive for Validation 2\n",
      "20 - LastValueNaive with avg smape 150.1: \n",
      "Model Number: 21 of 29 with model LastValueNaive for Validation 2\n"
     ]
    },
    {
     "name": "stderr",
     "output_type": "stream",
     "text": [
      "c:\\code\\ntnu\\semester9\\ml_prosjekt\\venv\\lib\\site-packages\\autots\\tools\\impute.py:42: FutureWarning: DataFrame.fillna with 'method' is deprecated and will raise in a future version. Use obj.ffill() or obj.bfill() instead.\n",
      "  df = df.fillna(method='ffill')\n",
      "c:\\code\\ntnu\\semester9\\ml_prosjekt\\venv\\lib\\site-packages\\autots\\tools\\impute.py:43: FutureWarning: DataFrame.fillna with 'method' is deprecated and will raise in a future version. Use obj.ffill() or obj.bfill() instead.\n",
      "  return df.fillna(method='bfill').fillna(0)\n",
      "c:\\code\\ntnu\\semester9\\ml_prosjekt\\venv\\lib\\site-packages\\autots\\tools\\transform.py:403: FutureWarning: DataFrame.fillna with 'method' is deprecated and will raise in a future version. Use obj.ffill() or obj.bfill() instead.\n",
      "  df = (df - cycles).fillna(method=\"ffill\").fillna(method=\"bfill\")\n",
      "c:\\code\\ntnu\\semester9\\ml_prosjekt\\venv\\lib\\site-packages\\autots\\tools\\impute.py:42: FutureWarning: DataFrame.fillna with 'method' is deprecated and will raise in a future version. Use obj.ffill() or obj.bfill() instead.\n",
      "  df = df.fillna(method='ffill')\n",
      "c:\\code\\ntnu\\semester9\\ml_prosjekt\\venv\\lib\\site-packages\\autots\\tools\\impute.py:43: FutureWarning: DataFrame.fillna with 'method' is deprecated and will raise in a future version. Use obj.ffill() or obj.bfill() instead.\n",
      "  return df.fillna(method='bfill').fillna(0)\n",
      "c:\\code\\ntnu\\semester9\\ml_prosjekt\\venv\\lib\\site-packages\\autots\\tools\\transform.py:888: FutureWarning: DataFrame.fillna with 'method' is deprecated and will raise in a future version. Use obj.ffill() or obj.bfill() instead.\n",
      "  df.tail(self.window).fillna(method=\"ffill\").fillna(method=\"bfill\")\n",
      "c:\\code\\ntnu\\semester9\\ml_prosjekt\\venv\\lib\\site-packages\\autots\\tools\\transform.py:891: FutureWarning: DataFrame.fillna with 'method' is deprecated and will raise in a future version. Use obj.ffill() or obj.bfill() instead.\n",
      "  df.head(self.window).fillna(method=\"ffill\").fillna(method=\"bfill\")\n",
      "c:\\code\\ntnu\\semester9\\ml_prosjekt\\venv\\lib\\site-packages\\autots\\tools\\transform.py:1377: FutureWarning: DataFrame.fillna with 'method' is deprecated and will raise in a future version. Use obj.ffill() or obj.bfill() instead.\n",
      "  df = (df - df.shift(self.lag)).fillna(method=\"bfill\")\n"
     ]
    },
    {
     "name": "stdout",
     "output_type": "stream",
     "text": [
      "21 - LastValueNaive with avg smape 55.53: \n",
      "Model Number: 22 of 29 with model LastValueNaive for Validation 2\n",
      "22 - LastValueNaive with avg smape 180.12: \n",
      "Model Number: 23 of 29 with model LastValueNaive for Validation 2\n",
      "23 - LastValueNaive with avg smape 171.06: \n",
      "Model Number: 24 of 29 with model LastValueNaive for Validation 2\n",
      "24 - LastValueNaive with avg smape 152.01: \n",
      "Model Number: 25 of 29 with model ConstantNaive for Validation 2\n",
      "25 - ConstantNaive with avg smape 55.53: \n",
      "Model Number: 26 of 29 with model ConstantNaive for Validation 2\n",
      "26 - ConstantNaive with avg smape 199.98: \n",
      "Model Number: 27 of 29 with model ConstantNaive for Validation 2\n",
      "27 - ConstantNaive with avg smape 55.53: \n",
      "Model Number: 28 of 29 with model ConstantNaive for Validation 2\n"
     ]
    },
    {
     "name": "stderr",
     "output_type": "stream",
     "text": [
      "c:\\code\\ntnu\\semester9\\ml_prosjekt\\venv\\lib\\site-packages\\autots\\tools\\transform.py:403: FutureWarning: DataFrame.fillna with 'method' is deprecated and will raise in a future version. Use obj.ffill() or obj.bfill() instead.\n",
      "  df = (df - cycles).fillna(method=\"ffill\").fillna(method=\"bfill\")\n",
      "c:\\code\\ntnu\\semester9\\ml_prosjekt\\venv\\lib\\site-packages\\autots\\tools\\transform.py:1377: FutureWarning: DataFrame.fillna with 'method' is deprecated and will raise in a future version. Use obj.ffill() or obj.bfill() instead.\n",
      "  df = (df - df.shift(self.lag)).fillna(method=\"bfill\")\n",
      "c:\\code\\ntnu\\semester9\\ml_prosjekt\\venv\\lib\\site-packages\\autots\\tools\\impute.py:42: FutureWarning: DataFrame.fillna with 'method' is deprecated and will raise in a future version. Use obj.ffill() or obj.bfill() instead.\n",
      "  df = df.fillna(method='ffill')\n",
      "c:\\code\\ntnu\\semester9\\ml_prosjekt\\venv\\lib\\site-packages\\autots\\tools\\impute.py:43: FutureWarning: DataFrame.fillna with 'method' is deprecated and will raise in a future version. Use obj.ffill() or obj.bfill() instead.\n",
      "  return df.fillna(method='bfill').fillna(0)\n",
      "c:\\code\\ntnu\\semester9\\ml_prosjekt\\venv\\lib\\site-packages\\autots\\tools\\transform.py:1377: FutureWarning: DataFrame.fillna with 'method' is deprecated and will raise in a future version. Use obj.ffill() or obj.bfill() instead.\n",
      "  df = (df - df.shift(self.lag)).fillna(method=\"bfill\")\n",
      "c:\\code\\ntnu\\semester9\\ml_prosjekt\\venv\\lib\\site-packages\\autots\\tools\\impute.py:42: FutureWarning: DataFrame.fillna with 'method' is deprecated and will raise in a future version. Use obj.ffill() or obj.bfill() instead.\n",
      "  df = df.fillna(method='ffill')\n",
      "c:\\code\\ntnu\\semester9\\ml_prosjekt\\venv\\lib\\site-packages\\autots\\tools\\impute.py:43: FutureWarning: DataFrame.fillna with 'method' is deprecated and will raise in a future version. Use obj.ffill() or obj.bfill() instead.\n",
      "  return df.fillna(method='bfill').fillna(0)\n",
      "c:\\code\\ntnu\\semester9\\ml_prosjekt\\venv\\lib\\site-packages\\autots\\tools\\impute.py:42: FutureWarning: DataFrame.fillna with 'method' is deprecated and will raise in a future version. Use obj.ffill() or obj.bfill() instead.\n",
      "  df = df.fillna(method='ffill')\n",
      "c:\\code\\ntnu\\semester9\\ml_prosjekt\\venv\\lib\\site-packages\\autots\\tools\\impute.py:43: FutureWarning: DataFrame.fillna with 'method' is deprecated and will raise in a future version. Use obj.ffill() or obj.bfill() instead.\n",
      "  return df.fillna(method='bfill').fillna(0)\n",
      "c:\\code\\ntnu\\semester9\\ml_prosjekt\\venv\\lib\\site-packages\\autots\\tools\\impute.py:42: FutureWarning: DataFrame.fillna with 'method' is deprecated and will raise in a future version. Use obj.ffill() or obj.bfill() instead.\n",
      "  df = df.fillna(method='ffill')\n",
      "c:\\code\\ntnu\\semester9\\ml_prosjekt\\venv\\lib\\site-packages\\autots\\tools\\impute.py:43: FutureWarning: DataFrame.fillna with 'method' is deprecated and will raise in a future version. Use obj.ffill() or obj.bfill() instead.\n",
      "  return df.fillna(method='bfill').fillna(0)\n"
     ]
    },
    {
     "name": "stdout",
     "output_type": "stream",
     "text": [
      "28 - ConstantNaive with avg smape 199.98: \n",
      "Model Number: 29 of 29 with model ConstantNaive for Validation 2\n"
     ]
    },
    {
     "name": "stderr",
     "output_type": "stream",
     "text": [
      "c:\\code\\ntnu\\semester9\\ml_prosjekt\\venv\\lib\\site-packages\\autots\\tools\\impute.py:42: FutureWarning: DataFrame.fillna with 'method' is deprecated and will raise in a future version. Use obj.ffill() or obj.bfill() instead.\n",
      "  df = df.fillna(method='ffill')\n",
      "c:\\code\\ntnu\\semester9\\ml_prosjekt\\venv\\lib\\site-packages\\autots\\tools\\impute.py:43: FutureWarning: DataFrame.fillna with 'method' is deprecated and will raise in a future version. Use obj.ffill() or obj.bfill() instead.\n",
      "  return df.fillna(method='bfill').fillna(0)\n",
      "c:\\code\\ntnu\\semester9\\ml_prosjekt\\venv\\lib\\site-packages\\autots\\tools\\impute.py:42: FutureWarning: DataFrame.fillna with 'method' is deprecated and will raise in a future version. Use obj.ffill() or obj.bfill() instead.\n",
      "  df = df.fillna(method='ffill')\n",
      "c:\\code\\ntnu\\semester9\\ml_prosjekt\\venv\\lib\\site-packages\\autots\\tools\\impute.py:43: FutureWarning: DataFrame.fillna with 'method' is deprecated and will raise in a future version. Use obj.ffill() or obj.bfill() instead.\n",
      "  return df.fillna(method='bfill').fillna(0)\n"
     ]
    },
    {
     "name": "stdout",
     "output_type": "stream",
     "text": [
      "29 - ConstantNaive with avg smape 55.53: \n",
      "TotalRuntime missing in 7!\n",
      "Validation Round: 1\n",
      "TotalRuntime missing in 0!\n",
      "Validation Round: 2\n",
      "TotalRuntime missing in 0!\n"
     ]
    },
    {
     "name": "stderr",
     "output_type": "stream",
     "text": [
      "c:\\code\\ntnu\\semester9\\ml_prosjekt\\venv\\lib\\site-packages\\autots\\tools\\impute.py:42: FutureWarning: DataFrame.fillna with 'method' is deprecated and will raise in a future version. Use obj.ffill() or obj.bfill() instead.\n",
      "  df = df.fillna(method='ffill')\n",
      "c:\\code\\ntnu\\semester9\\ml_prosjekt\\venv\\lib\\site-packages\\autots\\tools\\impute.py:43: FutureWarning: DataFrame.fillna with 'method' is deprecated and will raise in a future version. Use obj.ffill() or obj.bfill() instead.\n",
      "  return df.fillna(method='bfill').fillna(0)\n",
      "c:\\code\\ntnu\\semester9\\ml_prosjekt\\venv\\lib\\site-packages\\autots\\tools\\impute.py:42: FutureWarning: DataFrame.fillna with 'method' is deprecated and will raise in a future version. Use obj.ffill() or obj.bfill() instead.\n",
      "  df = df.fillna(method='ffill')\n",
      "c:\\code\\ntnu\\semester9\\ml_prosjekt\\venv\\lib\\site-packages\\autots\\tools\\impute.py:43: FutureWarning: DataFrame.fillna with 'method' is deprecated and will raise in a future version. Use obj.ffill() or obj.bfill() instead.\n",
      "  return df.fillna(method='bfill').fillna(0)\n",
      "c:\\code\\ntnu\\semester9\\ml_prosjekt\\venv\\lib\\site-packages\\autots\\evaluator\\auto_model.py:1409: RuntimeWarning: Mean of empty slice\n",
      "  scaler = np.nanmean(np.abs(np.diff(df_train[-100:], axis=0)), axis=0)\n",
      "c:\\code\\ntnu\\semester9\\ml_prosjekt\\venv\\lib\\site-packages\\autots\\evaluator\\auto_model.py:1410: RuntimeWarning: All-NaN slice encountered\n",
      "  fill_val = np.nanmax(scaler)\n",
      "c:\\code\\ntnu\\semester9\\ml_prosjekt\\venv\\lib\\site-packages\\autots\\evaluator\\auto_model.py:1409: RuntimeWarning: Mean of empty slice\n",
      "  scaler = np.nanmean(np.abs(np.diff(df_train[-100:], axis=0)), axis=0)\n",
      "c:\\code\\ntnu\\semester9\\ml_prosjekt\\venv\\lib\\site-packages\\autots\\evaluator\\auto_model.py:1410: RuntimeWarning: All-NaN slice encountered\n",
      "  fill_val = np.nanmax(scaler)\n"
     ]
    }
   ],
   "source": [
    "x_train['date_forecast'] = date_forecast\n",
    "\n",
    "model = AutoTS(\n",
    "    forecast_length=1600,\n",
    "    frequency='infer',\n",
    "    prediction_interval=0.95,\n",
    "    ensemble=None,\n",
    "    #models_mode='deep',\n",
    "    model_list = 'superfast',# or ['ARIMA','ETS']\n",
    "    max_generations=5 if start_fresh else 0,\n",
    "    num_validations=2 if start_fresh else 0,\n",
    "    no_negatives=True,\n",
    "    n_jobs='12',\n",
    "    validation_method=\"backwards\"\n",
    ")\n",
    "\n",
    "if not start_fresh:\n",
    "    model = model.import_template(f\"template_{location}.csv\", method='only') # method='add on'\n",
    "model = model.fit(x_train, date_col='date_forecast', value_col='pv_measurement', result_file=f\"result_{location}_{version}.csv\")"
   ]
  },
  {
   "cell_type": "code",
   "execution_count": 11,
   "metadata": {},
   "outputs": [
    {
     "name": "stdout",
     "output_type": "stream",
     "text": [
      "Initiated AutoTS object with best model: \n",
      "AverageValueNaive\n",
      "{'fillna': 'zero', 'transformations': {'0': 'ClipOutliers', '1': 'QuantileTransformer', '2': 'MaxAbsScaler'}, 'transformation_params': {'0': {'method': 'clip', 'std_threshold': 3, 'fillna': None}, '1': {'output_distribution': 'uniform', 'n_quantiles': 1000}, '2': {}}}\n",
      "{'method': 'Weighted_Mean', 'window': None}\n",
      "Validation: 0, 1, 2\n",
      "SMAPE: 110.31096563011457, 46.766169154228855, 55.530973451327434\n",
      "MAE: 88.92096563011457, 5.871467661691542, 8.968517699115045\n",
      "SPL: 296.28469829036743, 24.514780210931512, 25.08393788286119\n"
     ]
    }
   ],
   "source": [
    "print(model)"
   ]
  },
  {
   "cell_type": "code",
   "execution_count": 12,
   "metadata": {},
   "outputs": [],
   "source": [
    "#results = model.results()[['Model', 'smape', 'mae', 'rmse', 'made', 'mage', 'mle']]\n",
    "#results.sort_values('mae')"
   ]
  },
  {
   "cell_type": "code",
   "execution_count": null,
   "metadata": {},
   "outputs": [],
   "source": []
  },
  {
   "cell_type": "code",
   "execution_count": 13,
   "metadata": {},
   "outputs": [],
   "source": [
    "model.export_best_model(f'model_{location}_{version}.csv')"
   ]
  },
  {
   "cell_type": "code",
   "execution_count": 14,
   "metadata": {},
   "outputs": [],
   "source": [
    "model.export_template(f'template_{location}_{version}.csv', n=20)"
   ]
  },
  {
   "cell_type": "code",
   "execution_count": 36,
   "metadata": {},
   "outputs": [],
   "source": [
    "model.best_model_name = \"SeasonalNaive\"\n",
    "model.best_model_params = {\"method\": \"lastvalue\", \"lag_1\": 7, \"lag_2\": 59}\n",
    "model.best_model_transformation_params = {\"fillna\": \"zero\", \"transformations\": {\"0\": \"ClipOutliers\", \"1\": \"QuantileTransformer\", \"2\": \"MaxAbsScaler\"}, \"transformation_params\": {\"0\": {\"method\": \"clip\", \"std_threshold\": 3, \"fillna\": None}, \"1\": {\"output_distribution\": \"uniform\", \"n_quantiles\": 1000}, \"2\": {}}}\n"
   ]
  },
  {
   "cell_type": "code",
   "execution_count": 37,
   "metadata": {},
   "outputs": [],
   "source": [
    "prediction = model.predict(verbose=1)"
   ]
  },
  {
   "cell_type": "code",
   "execution_count": 38,
   "metadata": {},
   "outputs": [],
   "source": [
    "forecasts_df = prediction.forecast\n",
    "initial_results = model.results()"
   ]
  },
  {
   "cell_type": "code",
   "execution_count": 39,
   "metadata": {},
   "outputs": [
    {
     "data": {
      "text/html": [
       "<div>\n",
       "<style scoped>\n",
       "    .dataframe tbody tr th:only-of-type {\n",
       "        vertical-align: middle;\n",
       "    }\n",
       "\n",
       "    .dataframe tbody tr th {\n",
       "        vertical-align: top;\n",
       "    }\n",
       "\n",
       "    .dataframe thead th {\n",
       "        text-align: right;\n",
       "    }\n",
       "</style>\n",
       "<table border=\"1\" class=\"dataframe\">\n",
       "  <thead>\n",
       "    <tr style=\"text-align: right;\">\n",
       "      <th></th>\n",
       "      <th>pv_measurement</th>\n",
       "    </tr>\n",
       "  </thead>\n",
       "  <tbody>\n",
       "    <tr>\n",
       "      <th>2023-05-01 00:00:00</th>\n",
       "      <td>374.360000</td>\n",
       "    </tr>\n",
       "    <tr>\n",
       "      <th>2023-05-01 01:00:00</th>\n",
       "      <td>353.789712</td>\n",
       "    </tr>\n",
       "    <tr>\n",
       "      <th>2023-05-01 02:00:00</th>\n",
       "      <td>215.600000</td>\n",
       "    </tr>\n",
       "    <tr>\n",
       "      <th>2023-05-01 03:00:00</th>\n",
       "      <td>117.600000</td>\n",
       "    </tr>\n",
       "    <tr>\n",
       "      <th>2023-05-01 04:00:00</th>\n",
       "      <td>0.000000</td>\n",
       "    </tr>\n",
       "  </tbody>\n",
       "</table>\n",
       "</div>"
      ],
      "text/plain": [
       "                     pv_measurement\n",
       "2023-05-01 00:00:00      374.360000\n",
       "2023-05-01 01:00:00      353.789712\n",
       "2023-05-01 02:00:00      215.600000\n",
       "2023-05-01 03:00:00      117.600000\n",
       "2023-05-01 04:00:00        0.000000"
      ]
     },
     "execution_count": 39,
     "metadata": {},
     "output_type": "execute_result"
    }
   ],
   "source": [
    "forecasts_df.head()"
   ]
  },
  {
   "cell_type": "code",
   "execution_count": 40,
   "metadata": {},
   "outputs": [
    {
     "data": {
      "text/plain": [
       "1600"
      ]
     },
     "execution_count": 40,
     "metadata": {},
     "output_type": "execute_result"
    }
   ],
   "source": [
    "forecasts_df.size"
   ]
  },
  {
   "cell_type": "code",
   "execution_count": 41,
   "metadata": {},
   "outputs": [
    {
     "data": {
      "text/plain": [
       "<Axes: title={'center': 'pv_measurement with model SeasonalNaive'}>"
      ]
     },
     "execution_count": 41,
     "metadata": {},
     "output_type": "execute_result"
    },
    {
     "data": {
      "image/png": "[encoded data removed]",
      "text/plain": [
       "<Figure size 640x480 with 1 Axes>"
      ]
     },
     "metadata": {},
     "output_type": "display_data"
    }
   ],
   "source": [
    "prediction.plot(model.df_wide_numeric,\n",
    "                series=model.df_wide_numeric.columns[0],\n",
    "                start_date=\"2023-05-01\")"
   ]
  },
  {
   "cell_type": "code",
   "execution_count": 42,
   "metadata": {},
   "outputs": [],
   "source": [
    "forecasts_df.to_csv(f'precictions_{location}_{version}.csv')"
   ]
  },
  {
   "cell_type": "code",
   "execution_count": 43,
   "metadata": {},
   "outputs": [
    {
     "name": "stdout",
     "output_type": "stream",
     "text": [
      "['__class__', '__delattr__', '__dict__', '__dir__', '__doc__', '__eq__', '__format__', '__ge__', '__getattribute__', '__gt__', '__hash__', '__init__', '__init_subclass__', '__le__', '__lt__', '__module__', '__ne__', '__new__', '__reduce__', '__reduce_ex__', '__repr__', '__setattr__', '__sizeof__', '__str__', '__subclasshook__', '__weakref__', '_enforce_model_list', '_nan_tail', '_predict', '_regr_param_check', '_run_template', '_run_validations', 'aggfunc', 'back_forecast', 'best', 'best_model', 'best_model_ensemble', 'best_model_id', 'best_model_name', 'best_model_non_horizontal', 'best_model_params', 'best_model_per_series_mape', 'best_model_per_series_score', 'best_model_transformation_params', 'categorical_transformer', 'constraint', 'current_model_file', 'date_col', 'df_wide_numeric', 'drop_data_older_than_periods', 'drop_most_recent', 'ens_copy', 'ensemble', 'ensemble_check', 'ensemble_templates2', 'export_best_model', 'export_template', 'failure_rate', 'fit', 'fit_data', 'forecast_length', 'frequency', 'future_regressor_train', 'generation_timeout', 'get_new_params', 'grouping_ids', 'h_ens_list', 'holiday_country', 'horizontal_per_generation', 'horizontal_to_df', 'id_col', 'import_best_model', 'import_results', 'import_template', 'initial_results', 'initial_template', 'introduce_na', 'list_failed_model_types', 'load_template', 'max_generations', 'max_per_model_class', 'metric_weighting', 'min_allowed_train_percent', 'model', 'model_count', 'model_interrupt', 'model_list', 'models_mode', 'models_to_validate', 'mosaic_list', 'mosaic_to_df', 'n_jobs', 'na_tolerance', 'no_negatives', 'num_validations', 'parse_best_model', 'plot_back_forecast', 'plot_backforecast', 'plot_generation_loss', 'plot_horizontal', 'plot_horizontal_model_count', 'plot_horizontal_per_generation', 'plot_horizontal_transformers', 'plot_per_series_error', 'plot_per_series_mape', 'plot_per_series_smape', 'plot_validations', 'preclean', 'preclean_transformer', 'predict', 'prediction_interval', 'prefill_na', 'random_seed', 'regressor_used', 'remove_leading_zeroes', 'results', 'save_template', 'score_per_series', 'seasonal_validation_params', 'similarity_validation_params', 'startTimeStamps', 'start_time', 'subset', 'subset_flag', 'template_cols', 'template_cols_id', 'template_error', 'template_result_error', 'traceback', 'transformer_list', 'transformer_max_depth', 'used_regressor_check', 'validation_forecasts', 'validation_forecasts_template', 'validation_indexes', 'validation_method', 'validation_results', 'validation_template', 'validation_test_indexes', 'validation_train_indexes', 'value_col', 'verbose', 'weighted', 'weights']\n"
     ]
    }
   ],
   "source": []
  },
  {
   "cell_type": "code",
   "execution_count": 22,
   "metadata": {},
   "outputs": [
    {
     "name": "stdout",
     "output_type": "stream",
     "text": [
      "['ConstantNaive', 'LastValueNaive', 'AverageValueNaive', 'GLS', 'SeasonalNaive', 'SeasonalityMotif']\n"
     ]
    }
   ],
   "source": [
    "print(model.model_list)"
   ]
  },
  {
   "cell_type": "code",
   "execution_count": null,
   "metadata": {},
   "outputs": [],
   "source": [
    "model.best_model_name = \"SeasonalNaive\"\n",
    "model.best:model_params = \"{\"\"method\"\": \"\"lastvalue\"\", \"\"lag_1\"\": 7, \"\"lag_2\"\": 59}\"\n",
    "model.best_model_transformation_params = \"{\"\"fillna\"\": \"\"zero\"\", \"\"transformations\"\": {\"\"0\"\": \"\"ClipOutliers\"\", \"\"1\"\": \"\"QuantileTransformer\"\", \"\"2\"\": \"\"MaxAbsScaler\"\"}, \"\"transformation_params\"\": {\"\"0\"\": {\"\"method\"\": \"\"clip\"\", \"\"std_threshold\"\": 3, \"\"fillna\"\": null}, \"\"1\"\": {\"\"output_distribution\"\": \"\"uniform\"\", \"\"n_quantiles\"\": 1000}, \"\"2\"\": {}}}\"\n"
   ]
  }
 ],
 "metadata": {
  "kernelspec": {
   "display_name": "Python 3",
   "language": "python",
   "name": "python3"
  },
  "language_info": {
   "codemirror_mode": {
    "name": "ipython",
    "version": 3
   },
   "file_extension": ".py",
   "mimetype": "text/x-python",
   "name": "python",
   "nbconvert_exporter": "python",
   "pygments_lexer": "ipython3",
   "version": "3.8.3"
  }
 },
 "nbformat": 4,
 "nbformat_minor": 4
}

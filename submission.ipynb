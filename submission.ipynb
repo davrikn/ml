{
 "cells": [
  {
   "cell_type": "code",
   "execution_count": 1,
   "metadata": {},
   "outputs": [],
   "source": [
    "import os\n",
    "import pandas as pd\n",
    "import numpy as np\n",
    "import matplotlib.pylab as plt\n",
    "import seaborn as sns\n",
    "\n",
    "pred_a = pd.read_csv('pred_A_rf_1.csv')\n",
    "pred_a['date'] = pd.to_datetime(pred_a['date_forecast_dt'])\n",
    "pred_b = pd.read_csv('pred_B_rf_1.csv')\n",
    "pred_b['date'] = pd.to_datetime(pred_b['date_forecast_dt'])\n",
    "pred_c = pd.read_csv('pred_C_rf_1.csv')\n",
    "pred_c['date'] = pd.to_datetime(pred_c['date_forecast_dt'])\n",
    "\n",
    "test = pd.read_csv('data/test.csv')\n",
    "test['time'] = pd.to_datetime(test['time'])"
   ]
  },
  {
   "cell_type": "code",
   "execution_count": 3,
   "metadata": {
    "scrolled": true
   },
   "outputs": [],
   "source": [
    "submission = pd.DataFrame(columns=['prediction'])\n",
    "\n",
    "for val in pred_a['date']:\n",
    "    if test['time'].eq(val).any():\n",
    "        row = pred_a.loc[pred_a['date'] == val]\n",
    "        submission = submission.append({'prediction': float(row['prediction'])}, ignore_index=True)\n",
    "\n",
    "for val in pred_b['date']:\n",
    "    if test['time'].eq(val).any():\n",
    "        row = pred_b.loc[pred_a['date'] == val]\n",
    "        submission = submission.append({'prediction': float(row['prediction'])}, ignore_index=True)\n",
    "\n",
    "\n",
    "for val in pred_c['date']:\n",
    "    if test['time'].eq(val).any():\n",
    "        row = pred_c.loc[pred_a['date'] == val]\n",
    "        submission = submission.append({'prediction': float(row['prediction'])}, ignore_index=True)\n",
    "        \n",
    "        \n",
    "submission.to_csv('submission_9999.csv')"
   ]
  },
  {
   "cell_type": "code",
   "execution_count": null,
   "metadata": {},
   "outputs": [],
   "source": []
  }
 ],
 "metadata": {
  "kernelspec": {
   "display_name": "Python 3",
   "language": "python",
   "name": "python3"
  },
  "language_info": {
   "codemirror_mode": {
    "name": "ipython",
    "version": 3
   },
   "file_extension": ".py",
   "mimetype": "text/x-python",
   "name": "python",
   "nbconvert_exporter": "python",
   "pygments_lexer": "ipython3",
   "version": "3.8.3"
  }
 },
 "nbformat": 4,
 "nbformat_minor": 1
}
